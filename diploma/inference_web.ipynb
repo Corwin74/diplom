{
 "metadata": {
  "language_info": {
   "codemirror_mode": {
    "name": "ipython",
    "version": 3
   },
   "file_extension": ".py",
   "mimetype": "text/x-python",
   "name": "python",
   "nbconvert_exporter": "python",
   "pygments_lexer": "ipython3",
   "version": "3.8.5-final"
  },
  "orig_nbformat": 2,
  "kernelspec": {
   "name": "python3",
   "display_name": "Python 3",
   "language": "python"
  }
 },
 "nbformat": 4,
 "nbformat_minor": 2,
 "cells": [
  {
   "cell_type": "code",
   "execution_count": 1,
   "metadata": {},
   "outputs": [],
   "source": [
    "%load_ext autoreload\n",
    "%autoreload 2\n",
    "\n",
    "import tensorflow as tf\n",
    "import keras.backend as K\n",
    "import os\n",
    "import pandas as pd\n",
    "import sys\n",
    "import pickle\n",
    "import numpy as np\n",
    "\n",
    "from tensorflow import config\n",
    "from tensorflow import keras\n",
    "from tensorflow.keras import layers as L\n",
    "from tensorflow.keras import Model\n",
    "\n",
    "from sklearn.model_selection import train_test_split\n",
    "from tqdm import tqdm\n",
    "\n",
    "# добавим корневую папку, в ней лежат все необходимые полезные функции для обработки данных\n",
    "sys.path.append('../../')\n",
    "sys.path.append('../')"
   ]
  },
  {
   "cell_type": "code",
   "execution_count": 2,
   "metadata": {},
   "outputs": [
    {
     "output_type": "stream",
     "name": "stdout",
     "text": [
      "1 Physical GPUs, 1 Logical GPUs\n"
     ]
    }
   ],
   "source": [
    "# Эта ячейка нужна чтобы TensorFlow правильно работал с памятью видеокарты\n",
    "gpus = config.experimental.list_physical_devices('GPU')\n",
    "if gpus:\n",
    "  try:\n",
    "    # Currently, memory growth needs to be the same across GPUs\n",
    "    for gpu in gpus:\n",
    "      config.experimental.set_memory_growth(gpu, True)\n",
    "    logical_gpus = config.experimental.list_logical_devices('GPU')\n",
    "    print(len(gpus), \"Physical GPUs,\", len(logical_gpus), \"Logical GPUs\")\n",
    "  except RuntimeError as e:\n",
    "    # Memory growth must be set before GPUs have been initialized\n",
    "    print(e)"
   ]
  },
  {
   "cell_type": "code",
   "execution_count": 3,
   "metadata": {},
   "outputs": [],
   "source": [
    "from data_generators import batches_generator, transaction_features\n",
    "from tf_training import train_epoch, eval_model, inference\n",
    "from training_aux import EarlyStopping"
   ]
  },
  {
   "cell_type": "code",
   "execution_count": 4,
   "metadata": {},
   "outputs": [],
   "source": [
    "embedding_projections = {'currency': (11, 6),\n",
    "                        'operation_kind': (7, 5),\n",
    "                        'card_type': (175, 29),\n",
    "                        'operation_type': (22, 9),\n",
    "                        'operation_type_group': (4, 3),\n",
    "                        'ecommerce_flag': (3, 3),\n",
    "                        'payment_system': (7, 5),\n",
    "                        'income_flag': (3, 3),\n",
    "                        'mcc': (108, 22),\n",
    "                        'country': (24, 9),\n",
    "                        'city': (163, 28),\n",
    "                        'mcc_category': (28, 10),\n",
    "                        'day_of_week': (7, 5),\n",
    "                        'hour': (24, 9),\n",
    "                        'weekofyear': (53, 15),\n",
    "                        'amnt': (10, 6),\n",
    "                        'days_before': (23, 9),\n",
    "                        'hour_diff': (10, 6),\n",
    "                        'product': (5, 4)}"
   ]
  },
  {
   "cell_type": "code",
   "execution_count": 5,
   "metadata": {},
   "outputs": [],
   "source": [
    "def build_transactions_rnn(transactions_cat_features, embedding_projections, product_col_name='product', \n",
    "                          rnn_units=128, classifier_units=32, optimizer=None):\n",
    "    if not optimizer:\n",
    "        optimizer = keras.optimizers.Adam(lr=1e-3)\n",
    "        \n",
    "    inputs = []\n",
    "    cat_embeds = []\n",
    "    \n",
    "    for feature_name in transactions_cat_features:\n",
    "        inp = L.Input(shape=(None, ), dtype='uint32', name=f'input_{feature_name}')\n",
    "        inputs.append(inp)\n",
    "        source_size, projection = embedding_projections[feature_name]\n",
    "        emb = L.Embedding(source_size+1, projection, trainable=True, mask_zero=False, name=f'embedding_{feature_name}')(inp)\n",
    "        cat_embeds.append(emb)\n",
    "    \n",
    "    # product feature\n",
    "    inp = L.Input(shape=(1, ), dtype='uint32', name=f'input_product')\n",
    "    inputs.append(inp)\n",
    "    source_size, projection = embedding_projections['product']\n",
    "    product_emb = L.Embedding(source_size+1, projection, trainable=True, mask_zero=False, name=f'embedding_product')(inp)\n",
    "    product_emb_reshape = L.Reshape((projection, ))(product_emb)\n",
    "    \n",
    "    concated_cat_embeds = L.concatenate(cat_embeds)\n",
    "    \n",
    "    dropout_embeds = L.SpatialDropout1D(0.05)(concated_cat_embeds)\n",
    " \n",
    "    sequences = L.Bidirectional(L.GRU(units=rnn_units, return_sequences=True))(dropout_embeds)\n",
    "    \n",
    "    pooled_avg_sequences = L.GlobalAveragePooling1D()(sequences)\n",
    "    pooled_max_sequences = L.GlobalMaxPooling1D()(sequences)\n",
    "    \n",
    "    #add dropout=0.5\n",
    "    concated = L.concatenate([pooled_avg_sequences, pooled_max_sequences, product_emb_reshape])\n",
    "    \n",
    "    dense_intermediate = L.Dense(classifier_units, activation='relu', \n",
    "                                 kernel_regularizer=keras.regularizers.L1L2(1e-7, 1e-5))(concated)\n",
    "    \n",
    "    proba = L.Dense(1, activation='sigmoid')(dense_intermediate)\n",
    "    \n",
    "    model = Model(inputs=inputs, outputs=proba)\n",
    "    model.compile(loss='binary_crossentropy', optimizer=optimizer)\n",
    "    return model"
   ]
  },
  {
   "cell_type": "code",
   "execution_count": 6,
   "metadata": {},
   "outputs": [],
   "source": [
    "model = build_transactions_rnn(transaction_features, embedding_projections, classifier_units=128)"
   ]
  },
  {
   "cell_type": "code",
   "execution_count": 7,
   "metadata": {},
   "outputs": [
    {
     "output_type": "stream",
     "name": "stdout",
     "text": [
      "Model: \"model\"\n__________________________________________________________________________________________________\nLayer (type)                    Output Shape         Param #     Connected to                     \n==================================================================================================\ninput_currency (InputLayer)     [(None, None)]       0                                            \n__________________________________________________________________________________________________\ninput_operation_kind (InputLaye [(None, None)]       0                                            \n__________________________________________________________________________________________________\ninput_card_type (InputLayer)    [(None, None)]       0                                            \n__________________________________________________________________________________________________\ninput_operation_type (InputLaye [(None, None)]       0                                            \n__________________________________________________________________________________________________\ninput_operation_type_group (Inp [(None, None)]       0                                            \n__________________________________________________________________________________________________\ninput_ecommerce_flag (InputLaye [(None, None)]       0                                            \n__________________________________________________________________________________________________\ninput_payment_system (InputLaye [(None, None)]       0                                            \n__________________________________________________________________________________________________\ninput_income_flag (InputLayer)  [(None, None)]       0                                            \n__________________________________________________________________________________________________\ninput_mcc (InputLayer)          [(None, None)]       0                                            \n__________________________________________________________________________________________________\ninput_country (InputLayer)      [(None, None)]       0                                            \n__________________________________________________________________________________________________\ninput_city (InputLayer)         [(None, None)]       0                                            \n__________________________________________________________________________________________________\ninput_mcc_category (InputLayer) [(None, None)]       0                                            \n__________________________________________________________________________________________________\ninput_day_of_week (InputLayer)  [(None, None)]       0                                            \n__________________________________________________________________________________________________\ninput_hour (InputLayer)         [(None, None)]       0                                            \n__________________________________________________________________________________________________\ninput_weekofyear (InputLayer)   [(None, None)]       0                                            \n__________________________________________________________________________________________________\ninput_amnt (InputLayer)         [(None, None)]       0                                            \n__________________________________________________________________________________________________\ninput_days_before (InputLayer)  [(None, None)]       0                                            \n__________________________________________________________________________________________________\ninput_hour_diff (InputLayer)    [(None, None)]       0                                            \n__________________________________________________________________________________________________\nembedding_currency (Embedding)  (None, None, 6)      72          input_currency[0][0]             \n__________________________________________________________________________________________________\nembedding_operation_kind (Embed (None, None, 5)      40          input_operation_kind[0][0]       \n__________________________________________________________________________________________________\nembedding_card_type (Embedding) (None, None, 29)     5104        input_card_type[0][0]            \n__________________________________________________________________________________________________\nembedding_operation_type (Embed (None, None, 9)      207         input_operation_type[0][0]       \n__________________________________________________________________________________________________\nembedding_operation_type_group  (None, None, 3)      15          input_operation_type_group[0][0] \n__________________________________________________________________________________________________\nembedding_ecommerce_flag (Embed (None, None, 3)      12          input_ecommerce_flag[0][0]       \n__________________________________________________________________________________________________\nembedding_payment_system (Embed (None, None, 5)      40          input_payment_system[0][0]       \n__________________________________________________________________________________________________\nembedding_income_flag (Embeddin (None, None, 3)      12          input_income_flag[0][0]          \n__________________________________________________________________________________________________\nembedding_mcc (Embedding)       (None, None, 22)     2398        input_mcc[0][0]                  \n__________________________________________________________________________________________________\nembedding_country (Embedding)   (None, None, 9)      225         input_country[0][0]              \n__________________________________________________________________________________________________\nembedding_city (Embedding)      (None, None, 28)     4592        input_city[0][0]                 \n__________________________________________________________________________________________________\nembedding_mcc_category (Embeddi (None, None, 10)     290         input_mcc_category[0][0]         \n__________________________________________________________________________________________________\nembedding_day_of_week (Embeddin (None, None, 5)      40          input_day_of_week[0][0]          \n__________________________________________________________________________________________________\nembedding_hour (Embedding)      (None, None, 9)      225         input_hour[0][0]                 \n__________________________________________________________________________________________________\nembedding_weekofyear (Embedding (None, None, 15)     810         input_weekofyear[0][0]           \n__________________________________________________________________________________________________\nembedding_amnt (Embedding)      (None, None, 6)      66          input_amnt[0][0]                 \n__________________________________________________________________________________________________\nembedding_days_before (Embeddin (None, None, 9)      216         input_days_before[0][0]          \n__________________________________________________________________________________________________\nembedding_hour_diff (Embedding) (None, None, 6)      66          input_hour_diff[0][0]            \n__________________________________________________________________________________________________\nconcatenate (Concatenate)       (None, None, 182)    0           embedding_currency[0][0]         \n                                                                 embedding_operation_kind[0][0]   \n                                                                 embedding_card_type[0][0]        \n                                                                 embedding_operation_type[0][0]   \n                                                                 embedding_operation_type_group[0]\n                                                                 embedding_ecommerce_flag[0][0]   \n                                                                 embedding_payment_system[0][0]   \n                                                                 embedding_income_flag[0][0]      \n                                                                 embedding_mcc[0][0]              \n                                                                 embedding_country[0][0]          \n                                                                 embedding_city[0][0]             \n                                                                 embedding_mcc_category[0][0]     \n                                                                 embedding_day_of_week[0][0]      \n                                                                 embedding_hour[0][0]             \n                                                                 embedding_weekofyear[0][0]       \n                                                                 embedding_amnt[0][0]             \n                                                                 embedding_days_before[0][0]      \n                                                                 embedding_hour_diff[0][0]        \n__________________________________________________________________________________________________\nspatial_dropout1d (SpatialDropo (None, None, 182)    0           concatenate[0][0]                \n__________________________________________________________________________________________________\ninput_product (InputLayer)      [(None, 1)]          0                                            \n__________________________________________________________________________________________________\nbidirectional (Bidirectional)   (None, None, 256)    239616      spatial_dropout1d[0][0]          \n__________________________________________________________________________________________________\nembedding_product (Embedding)   (None, 1, 4)         24          input_product[0][0]              \n__________________________________________________________________________________________________\nglobal_average_pooling1d (Globa (None, 256)          0           bidirectional[0][0]              \n__________________________________________________________________________________________________\nglobal_max_pooling1d (GlobalMax (None, 256)          0           bidirectional[0][0]              \n__________________________________________________________________________________________________\nreshape (Reshape)               (None, 4)            0           embedding_product[0][0]          \n__________________________________________________________________________________________________\nconcatenate_1 (Concatenate)     (None, 516)          0           global_average_pooling1d[0][0]   \n                                                                 global_max_pooling1d[0][0]       \n                                                                 reshape[0][0]                    \n__________________________________________________________________________________________________\ndense (Dense)                   (None, 128)          66176       concatenate_1[0][0]              \n__________________________________________________________________________________________________\ndense_1 (Dense)                 (None, 1)            129         dense[0][0]                      \n==================================================================================================\nTotal params: 320,375\nTrainable params: 320,375\nNon-trainable params: 0\n__________________________________________________________________________________________________\n"
     ]
    }
   ],
   "source": [
    "model.summary()"
   ]
  },
  {
   "cell_type": "code",
   "execution_count": 10,
   "metadata": {},
   "outputs": [],
   "source": [
    "CHECKPOINTS_ADV_PATH = '/media/DATA/AlfaBattle/checkpoints/tf_advanced_baseline/'"
   ]
  },
  {
   "cell_type": "code",
   "execution_count": 11,
   "metadata": {},
   "outputs": [],
   "source": [
    "model.load_weights(os.path.join(CHECKPOINTS_ADV_PATH, 'epoch_5_val_0.802.hdf5'))"
   ]
  },
  {
   "cell_type": "code",
   "execution_count": null,
   "metadata": {},
   "outputs": [],
   "source": [
    "create_buckets_from_transactions(TEST_TRANSACTIONS_PATH, \n",
    "                                save_to_path=PICKLE_VAL_TEST_BUCKET_PATH, frame_with_ids=test_frame, \n",
    "                                 num_parts_to_preprocess_at_once=10, num_parts_total=50, has_target=False)"
   ]
  },
  {
   "cell_type": "code",
   "execution_count": 13,
   "metadata": {},
   "outputs": [
    {
     "output_type": "error",
     "ename": "NameError",
     "evalue": "name 'dataset_test' is not defined",
     "traceback": [
      "\u001b[0;31m---------------------------------------------------------------------------\u001b[0m",
      "\u001b[0;31mNameError\u001b[0m                                 Traceback (most recent call last)",
      "\u001b[0;32m<ipython-input-13-dd5290a08e78>\u001b[0m in \u001b[0;36m<module>\u001b[0;34m\u001b[0m\n\u001b[0;32m----> 1\u001b[0;31m \u001b[0mtest_preds_web\u001b[0m \u001b[0;34m=\u001b[0m \u001b[0minference\u001b[0m\u001b[0;34m(\u001b[0m\u001b[0mmodel\u001b[0m\u001b[0;34m,\u001b[0m \u001b[0mdataset_test\u001b[0m\u001b[0;34m,\u001b[0m \u001b[0mbatch_size\u001b[0m\u001b[0;34m=\u001b[0m\u001b[0;36m128\u001b[0m\u001b[0;34m)\u001b[0m\u001b[0;34m\u001b[0m\u001b[0;34m\u001b[0m\u001b[0m\n\u001b[0m",
      "\u001b[0;31mNameError\u001b[0m: name 'dataset_test' is not defined"
     ]
    }
   ],
   "source": [
    "test_preds_web = inference(model, dataset_test, batch_size=128)"
   ]
  },
  {
   "cell_type": "code",
   "execution_count": null,
   "metadata": {},
   "outputs": [],
   "source": []
  }
 ]
}