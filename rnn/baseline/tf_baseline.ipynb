{
 "cells": [
  {
   "cell_type": "markdown",
   "metadata": {},
   "source": [
    "### 0. Imports and requirements\n",
    "\n",
    "* Мы имеем дело с последовательностями, один из интуитивных способов работы с ними - использование рекуррентных сетей. Преимущество нейронных сетей заключается в том, что можно строить хорошие решения без использования сложного и трудоемкого feature engineering-а (чтобы эффективно решать ту же задачу с высоким качеством с помощью бустингов нужно несколько тысяч признаков), благодаря рекуррентным сетям. "
   ]
  },
  {
   "cell_type": "code",
   "execution_count": 1,
   "metadata": {},
   "outputs": [],
   "source": [
    "%load_ext autoreload\n",
    "%autoreload 2\n",
    "\n",
    "import os\n",
    "import pandas as pd\n",
    "import sys\n",
    "import pickle\n",
    "import numpy as np\n",
    "\n",
    "from tensorflow import config\n",
    "from tensorflow import keras\n",
    "from tensorflow.keras import layers as L\n",
    "from tensorflow.keras import Model\n",
    "\n",
    "from sklearn.model_selection import train_test_split\n",
    "from tqdm import tqdm\n",
    "\n",
    "pd.set_option('display.max_columns', 80)\n",
    "\n",
    "# добавим корневую папку, в ней лежат все необходимые полезные функции для обработки данных\n",
    "sys.path.append('../../')\n",
    "sys.path.append('../')"
   ]
  },
  {
   "cell_type": "code",
   "execution_count": 2,
   "metadata": {},
   "outputs": [
    {
     "output_type": "stream",
     "name": "stdout",
     "text": [
      "1 Physical GPUs, 1 Logical GPUs\n"
     ]
    }
   ],
   "source": [
    "gpus = config.experimental.list_physical_devices('GPU')\n",
    "if gpus:\n",
    "  try:\n",
    "    # Currently, memory growth needs to be the same across GPUs\n",
    "    for gpu in gpus:\n",
    "      config.experimental.set_memory_growth(gpu, True)\n",
    "    logical_gpus = config.experimental.list_logical_devices('GPU')\n",
    "    print(len(gpus), \"Physical GPUs,\", len(logical_gpus), \"Logical GPUs\")\n",
    "  except RuntimeError as e:\n",
    "    # Memory growth must be set before GPUs have been initialized\n",
    "    print(e)\n"
   ]
  },
  {
   "cell_type": "markdown",
   "metadata": {},
   "source": [
    "### 1. Data Preprocessing"
   ]
  },
  {
   "cell_type": "code",
   "execution_count": 4,
   "metadata": {},
   "outputs": [],
   "source": [
    "TRAIN_TRANSACTIONS_PATH = '/media/DATA/AlfaBattle/train_transactions_contest/'\n",
    "TEST_TRANSACTIONS_PATH = '/media/DATA/AlfaBattle/test_transactions_contest/'\n",
    "\n",
    "TRAIN_TARGET_PATH = '/media/DATA/AlfaBattle/train_target.csv'\n",
    "PRE_TRANSACTIONS_PATH = '/media/DATA/AlfaBattle//preprocessed_transactions/'\n",
    "PRE_TEST_TRANSACTIONS_PATH = '/media/DATA/AlfaBattle/preprocessed_test_transactions/'\n",
    "PICKLE_VAL_BUCKET_PATH = '/media/DATA/AlfaBattle/val_buckets/'\n",
    "PICKLE_VAL_TRAIN_BUCKET_PATH = '/media/DATA/AlfaBattle/val_train_buckets/'\n",
    "PICKLE_VAL_TEST_BUCKET_PATH = '/media/DATA/AlfaBattle/val_test_buckets/'"
   ]
  },
  {
   "cell_type": "code",
   "execution_count": 5,
   "metadata": {},
   "outputs": [
    {
     "output_type": "execute_result",
     "data": {
      "text/plain": [
       "   app_id  product  flag\n",
       "0       0        3     0\n",
       "1       1        1     0\n",
       "2       2        1     0\n",
       "3       3        1     0\n",
       "4       4        1     0"
      ],
      "text/html": "<div>\n<style scoped>\n    .dataframe tbody tr th:only-of-type {\n        vertical-align: middle;\n    }\n\n    .dataframe tbody tr th {\n        vertical-align: top;\n    }\n\n    .dataframe thead th {\n        text-align: right;\n    }\n</style>\n<table border=\"1\" class=\"dataframe\">\n  <thead>\n    <tr style=\"text-align: right;\">\n      <th></th>\n      <th>app_id</th>\n      <th>product</th>\n      <th>flag</th>\n    </tr>\n  </thead>\n  <tbody>\n    <tr>\n      <th>0</th>\n      <td>0</td>\n      <td>3</td>\n      <td>0</td>\n    </tr>\n    <tr>\n      <th>1</th>\n      <td>1</td>\n      <td>1</td>\n      <td>0</td>\n    </tr>\n    <tr>\n      <th>2</th>\n      <td>2</td>\n      <td>1</td>\n      <td>0</td>\n    </tr>\n    <tr>\n      <th>3</th>\n      <td>3</td>\n      <td>1</td>\n      <td>0</td>\n    </tr>\n    <tr>\n      <th>4</th>\n      <td>4</td>\n      <td>1</td>\n      <td>0</td>\n    </tr>\n  </tbody>\n</table>\n</div>"
     },
     "metadata": {},
     "execution_count": 5
    }
   ],
   "source": [
    "target_frame = pd.read_csv(TRAIN_TARGET_PATH)\n",
    "target_frame.head()"
   ]
  },
  {
   "cell_type": "markdown",
   "metadata": {},
   "source": [
    "* Мы не можем поместить всю выборку в память, в виду, например, ограниченных ресурсов. Для итеративного чтения данных нам потребуется функция `utils.read_parquet_dataset_from_local`, которая читает N частей датасета за раз в память.\n",
    "\n",
    "\n",
    "* Нейронные сети требуют отделнього внимания к тому, как будут поданы и обработаны данные. Важные моменты, на которые требуется обратить внимание:\n",
    "    * Использование рекуррентных сетей подразумевает работу на уровне последовательностей, где одна последовательность - все исторические транзакции клиента. Для преобразования  `pd.DataFrame` с транзакциями клиентов в табличном виде к последовательностям используется функция `dataset_preprocessing_utils.transform_transactions_to_sequences`, она делает необходимые манипуляции и возвращает фрейм с двумя колонками: `app_id` и `sequences`. Колонка `sequence` представляет из себя массив массивов длины `len(features)`, где каждый вложенный массив - значения одного конкретного признака во всех транзакциях клиента. \n",
    "    \n",
    "    * каждый клиент имеет различную по длине историю транзакций. При этом обучение сетей происходит батчами, что требует делать паддинги в последовательностях. Довольно неэффективно делать паддинг внутри батча на последовательностях случайной длины (довольно часто будем делать большой и бесполезный паддинг). Гораздо лучше использовать технику `sequence_bucketing`. Эту операцию выполняет функция `dataset_preprocessing_utils.create_padded_buckets`. Один из аргументов в данную функцию - `bucket_info` - словарь, где для конкретной длины последовательности указано до какой длины нужно делать паддинг. Используется простой вид разбиения на 100 бакетов и файл где лежит отображение каждой длины в паддинг (файл `buckets_info.pkl`).\n",
    "    \n",
    "    * Такие признаки, как [`amnt`, `days_before`, `hour_diff`] по своей природе не являются категориальными. Но можно интерпретировать каждую не категориальную фичу как категориальную. Для этого нужно подготовить bin-ы для каждой фичи. "
   ]
  },
  {
   "cell_type": "code",
   "execution_count": 6,
   "metadata": {},
   "outputs": [],
   "source": [
    "from utils import read_parquet_dataset_from_local\n",
    "from dataset_preprocessing_utils import transform_transactions_to_sequences, create_padded_buckets"
   ]
  },
  {
   "cell_type": "code",
   "execution_count": 7,
   "metadata": {},
   "outputs": [],
   "source": [
    "import pickle\n",
    "\n",
    "with open('../constants/buckets_info.pkl', 'rb') as f:\n",
    "    mapping_seq_len_to_padded_len = pickle.load(f)\n",
    "    \n",
    "with open('../constants/dense_features_buckets.pkl', 'rb') as f:\n",
    "    dense_features_buckets = pickle.load(f)"
   ]
  },
  {
   "cell_type": "markdown",
   "metadata": {},
   "source": [
    "* Функция `create_buckets_from_transactions` ниже реализует следующий набор действий:\n",
    "    * Читает `num_parts_to_preprocess_at_once` частей датасета в память\n",
    "    * Преобразует вещественные и численные признаки к категориальным (используя `np.digitize` и подготовленные бины)\n",
    "    * Формирует фрейм с транзакциями в виде последовательностей с помощью `transform_transactions_to_sequences`.\n",
    "    * Если указан `frame_with_ids`, то использует `app_id` из `frame_with_ids` - актуально, чтобы выделить валидационную выборку.\n",
    "    * Реализует технику `sequence_bucketing` и сохраняет словарь обработанных последовательностей в `.pkl` файл"
   ]
  },
  {
   "cell_type": "code",
   "execution_count": 7,
   "metadata": {},
   "outputs": [],
   "source": [
    "def create_buckets_from_transactions(path_to_dataset, save_to_path, frame_with_ids = None, \n",
    "                                     num_parts_to_preprocess_at_once: int = 1, \n",
    "                                     num_parts_total=50, has_target=False):\n",
    "    block = 0\n",
    "    for step in tqdm(range(0, num_parts_total, num_parts_to_preprocess_at_once), \n",
    "                                   desc=\"Transforming transactions data\"):\n",
    "        transactions_frame = read_parquet_dataset_from_local(path_to_dataset, step, num_parts_to_preprocess_at_once, \n",
    "                                                             verbose=True)\n",
    "        for dense_col in ['amnt', 'days_before', 'hour_diff']:\n",
    "            transactions_frame[dense_col] = np.digitize(transactions_frame[dense_col], bins=dense_features_buckets[dense_col])\n",
    "            \n",
    "        seq = transform_transactions_to_sequences(transactions_frame)\n",
    "        seq['sequence_length'] = seq.sequences.apply(lambda x: len(x[1]))\n",
    "        \n",
    "        if frame_with_ids is not None:\n",
    "            seq = seq.merge(frame_with_ids, on='app_id')\n",
    "\n",
    "        block_as_str = str(block)\n",
    "        if len(block_as_str) == 1:\n",
    "            block_as_str = '00' + block_as_str\n",
    "        else:\n",
    "            block_as_str = '0' + block_as_str\n",
    "            \n",
    "        processed_fragment =  create_padded_buckets(seq, mapping_seq_len_to_padded_len, has_target=has_target, \n",
    "                                                    save_to_file_path=os.path.join(save_to_path, \n",
    "                                                                                   f'processed_chunk_{block_as_str}.pkl'))\n",
    "        block += 1"
   ]
  },
  {
   "cell_type": "markdown",
   "metadata": {},
   "source": [
    "* Разобьем имеющиеся данные на `train` и `val` части. Воспользуемся самым простым способом - для валидации используем 10% случайных данных"
   ]
  },
  {
   "cell_type": "code",
   "execution_count": 8,
   "metadata": {},
   "outputs": [
    {
     "output_type": "execute_result",
     "data": {
      "text/plain": [
       "((867429, 3), (96382, 3))"
      ]
     },
     "metadata": {},
     "execution_count": 8
    }
   ],
   "source": [
    "train, val = train_test_split(target_frame, random_state=42, test_size=0.1)\n",
    "train.shape, val.shape"
   ]
  },
  {
   "cell_type": "code",
   "execution_count": 8,
   "metadata": {},
   "outputs": [],
   "source": [
    "! rm -r {PICKLE_VAL_BUCKET_PATH}\n",
    "! mkdir {PICKLE_VAL_BUCKET_PATH}"
   ]
  },
  {
   "cell_type": "code",
   "execution_count": 9,
   "metadata": {},
   "outputs": [
    {
     "output_type": "stream",
     "name": "stderr",
     "text": [
      "Transforming transactions data:   0%|          | 0/10 [00:00<?, ?it/s]Reading chunks:\n",
      "\n",
      "/media/DATA/AlfaBattle/train_transactions_contest/part_000_0_to_23646.parquet\n",
      "/media/DATA/AlfaBattle/train_transactions_contest/part_001_23647_to_47415.parquet\n",
      "/media/DATA/AlfaBattle/train_transactions_contest/part_002_47416_to_70092.parquet\n",
      "/media/DATA/AlfaBattle/train_transactions_contest/part_003_70093_to_92989.parquet\n",
      "/media/DATA/AlfaBattle/train_transactions_contest/part_004_92990_to_115175.parquet\n"
     ]
    },
    {
     "output_type": "display_data",
     "data": {
      "text/plain": "Reading dataset with pandas:   0%|          | 0/5 [00:00<?, ?it/s]",
      "application/vnd.jupyter.widget-view+json": {
       "version_major": 2,
       "version_minor": 0,
       "model_id": "39e44c6932114788b07afe7572077e20"
      }
     },
     "metadata": {}
    },
    {
     "output_type": "display_data",
     "data": {
      "text/plain": "Extracting buckets:   0%|          | 0/100 [00:00<?, ?it/s]",
      "application/vnd.jupyter.widget-view+json": {
       "version_major": 2,
       "version_minor": 0,
       "model_id": "f1ca8729fdf44d16a65dc69d0fbff882"
      }
     },
     "metadata": {}
    },
    {
     "output_type": "stream",
     "name": "stderr",
     "text": [
      "Transforming transactions data:  10%|█         | 1/10 [00:36<05:28, 36.55s/it]Reading chunks:\n",
      "\n",
      "/media/DATA/AlfaBattle/train_transactions_contest/part_005_115176_to_138067.parquet\n",
      "/media/DATA/AlfaBattle/train_transactions_contest/part_006_138068_to_159724.parquet\n",
      "/media/DATA/AlfaBattle/train_transactions_contest/part_007_159725_to_180735.parquet\n",
      "/media/DATA/AlfaBattle/train_transactions_contest/part_008_180736_to_202834.parquet\n",
      "/media/DATA/AlfaBattle/train_transactions_contest/part_009_202835_to_224283.parquet\n"
     ]
    },
    {
     "output_type": "display_data",
     "data": {
      "text/plain": "Reading dataset with pandas:   0%|          | 0/5 [00:00<?, ?it/s]",
      "application/vnd.jupyter.widget-view+json": {
       "version_major": 2,
       "version_minor": 0,
       "model_id": "b952190a1e4f48028ea81aa387840f58"
      }
     },
     "metadata": {}
    },
    {
     "output_type": "display_data",
     "data": {
      "text/plain": "Extracting buckets:   0%|          | 0/100 [00:00<?, ?it/s]",
      "application/vnd.jupyter.widget-view+json": {
       "version_major": 2,
       "version_minor": 0,
       "model_id": "2d16f9dbdc994e53b03e22fef14a70da"
      }
     },
     "metadata": {}
    },
    {
     "output_type": "stream",
     "name": "stderr",
     "text": [
      "Transforming transactions data:  20%|██        | 2/10 [01:13<04:52, 36.54s/it]Reading chunks:\n",
      "\n",
      "/media/DATA/AlfaBattle/train_transactions_contest/part_010_224284_to_245233.parquet\n",
      "/media/DATA/AlfaBattle/train_transactions_contest/part_011_245234_to_265281.parquet\n",
      "/media/DATA/AlfaBattle/train_transactions_contest/part_012_265282_to_285632.parquet\n",
      "/media/DATA/AlfaBattle/train_transactions_contest/part_013_285633_to_306877.parquet\n",
      "/media/DATA/AlfaBattle/train_transactions_contest/part_014_306878_to_329680.parquet\n"
     ]
    },
    {
     "output_type": "display_data",
     "data": {
      "text/plain": "Reading dataset with pandas:   0%|          | 0/5 [00:00<?, ?it/s]",
      "application/vnd.jupyter.widget-view+json": {
       "version_major": 2,
       "version_minor": 0,
       "model_id": "eea6403170f84c679dad2e086c74239b"
      }
     },
     "metadata": {}
    },
    {
     "output_type": "display_data",
     "data": {
      "text/plain": "Extracting buckets:   0%|          | 0/100 [00:00<?, ?it/s]",
      "application/vnd.jupyter.widget-view+json": {
       "version_major": 2,
       "version_minor": 0,
       "model_id": "6bd5f95c495542e5b8bb548bbb52061a"
      }
     },
     "metadata": {}
    },
    {
     "output_type": "stream",
     "name": "stderr",
     "text": [
      "Transforming transactions data:  30%|███       | 3/10 [01:52<04:26, 38.02s/it]Reading chunks:\n",
      "\n",
      "/media/DATA/AlfaBattle/train_transactions_contest/part_015_329681_to_350977.parquet\n",
      "/media/DATA/AlfaBattle/train_transactions_contest/part_016_350978_to_372076.parquet\n",
      "/media/DATA/AlfaBattle/train_transactions_contest/part_017_372077_to_392692.parquet\n",
      "/media/DATA/AlfaBattle/train_transactions_contest/part_018_392693_to_413981.parquet\n",
      "/media/DATA/AlfaBattle/train_transactions_contest/part_019_413982_to_434478.parquet\n"
     ]
    },
    {
     "output_type": "display_data",
     "data": {
      "text/plain": "Reading dataset with pandas:   0%|          | 0/5 [00:00<?, ?it/s]",
      "application/vnd.jupyter.widget-view+json": {
       "version_major": 2,
       "version_minor": 0,
       "model_id": "60e48af0993847da80837a1999695a6f"
      }
     },
     "metadata": {}
    },
    {
     "output_type": "display_data",
     "data": {
      "text/plain": "Extracting buckets:   0%|          | 0/100 [00:00<?, ?it/s]",
      "application/vnd.jupyter.widget-view+json": {
       "version_major": 2,
       "version_minor": 0,
       "model_id": "2f9023cc2bf2406fbc92e01ed8e35a02"
      }
     },
     "metadata": {}
    },
    {
     "output_type": "stream",
     "name": "stderr",
     "text": [
      "Transforming transactions data:  40%|████      | 4/10 [02:32<03:51, 38.53s/it]Reading chunks:\n",
      "\n",
      "/media/DATA/AlfaBattle/train_transactions_contest/part_020_434479_to_455958.parquet\n",
      "/media/DATA/AlfaBattle/train_transactions_contest/part_021_455959_to_477221.parquet\n",
      "/media/DATA/AlfaBattle/train_transactions_contest/part_022_477222_to_496751.parquet\n",
      "/media/DATA/AlfaBattle/train_transactions_contest/part_023_496752_to_517332.parquet\n",
      "/media/DATA/AlfaBattle/train_transactions_contest/part_024_517333_to_537036.parquet\n"
     ]
    },
    {
     "output_type": "display_data",
     "data": {
      "text/plain": "Reading dataset with pandas:   0%|          | 0/5 [00:00<?, ?it/s]",
      "application/vnd.jupyter.widget-view+json": {
       "version_major": 2,
       "version_minor": 0,
       "model_id": "9bfad6510e5a4dcdb954994b24a14e38"
      }
     },
     "metadata": {}
    },
    {
     "output_type": "display_data",
     "data": {
      "text/plain": "Extracting buckets:   0%|          | 0/100 [00:00<?, ?it/s]",
      "application/vnd.jupyter.widget-view+json": {
       "version_major": 2,
       "version_minor": 0,
       "model_id": "5a093a3b3033435bb95836695ad5b4ee"
      }
     },
     "metadata": {}
    },
    {
     "output_type": "stream",
     "name": "stderr",
     "text": [
      "Transforming transactions data:  50%|█████     | 5/10 [03:12<03:15, 39.12s/it]Reading chunks:\n",
      "\n",
      "/media/DATA/AlfaBattle/train_transactions_contest/part_025_537037_to_557423.parquet\n",
      "/media/DATA/AlfaBattle/train_transactions_contest/part_026_557424_to_576136.parquet\n",
      "/media/DATA/AlfaBattle/train_transactions_contest/part_027_576137_to_595745.parquet\n",
      "/media/DATA/AlfaBattle/train_transactions_contest/part_028_595746_to_615602.parquet\n",
      "/media/DATA/AlfaBattle/train_transactions_contest/part_029_615603_to_635004.parquet\n"
     ]
    },
    {
     "output_type": "display_data",
     "data": {
      "text/plain": "Reading dataset with pandas:   0%|          | 0/5 [00:00<?, ?it/s]",
      "application/vnd.jupyter.widget-view+json": {
       "version_major": 2,
       "version_minor": 0,
       "model_id": "b9717e965e454975aacd02839bba603f"
      }
     },
     "metadata": {}
    },
    {
     "output_type": "display_data",
     "data": {
      "text/plain": "Extracting buckets:   0%|          | 0/100 [00:00<?, ?it/s]",
      "application/vnd.jupyter.widget-view+json": {
       "version_major": 2,
       "version_minor": 0,
       "model_id": "94d2a944227f4568a1b667bb5b4b8474"
      }
     },
     "metadata": {}
    },
    {
     "output_type": "stream",
     "name": "stderr",
     "text": [
      "Transforming transactions data:  60%|██████    | 6/10 [03:52<02:37, 39.34s/it]Reading chunks:\n",
      "\n",
      "/media/DATA/AlfaBattle/train_transactions_contest/part_030_635005_to_654605.parquet\n",
      "/media/DATA/AlfaBattle/train_transactions_contest/part_031_654606_to_673656.parquet\n",
      "/media/DATA/AlfaBattle/train_transactions_contest/part_032_673657_to_696025.parquet\n",
      "/media/DATA/AlfaBattle/train_transactions_contest/part_033_696026_to_714545.parquet\n",
      "/media/DATA/AlfaBattle/train_transactions_contest/part_034_714546_to_733168.parquet\n"
     ]
    },
    {
     "output_type": "display_data",
     "data": {
      "text/plain": "Reading dataset with pandas:   0%|          | 0/5 [00:00<?, ?it/s]",
      "application/vnd.jupyter.widget-view+json": {
       "version_major": 2,
       "version_minor": 0,
       "model_id": "1acfb513ff3c46d7b07a5a6868d53665"
      }
     },
     "metadata": {}
    },
    {
     "output_type": "display_data",
     "data": {
      "text/plain": "Extracting buckets:   0%|          | 0/100 [00:00<?, ?it/s]",
      "application/vnd.jupyter.widget-view+json": {
       "version_major": 2,
       "version_minor": 0,
       "model_id": "e8bc450d8f954bafaae4623b74d7e035"
      }
     },
     "metadata": {}
    },
    {
     "output_type": "stream",
     "name": "stderr",
     "text": [
      "Transforming transactions data:  70%|███████   | 7/10 [04:28<01:55, 38.48s/it]Reading chunks:\n",
      "\n",
      "/media/DATA/AlfaBattle/train_transactions_contest/part_035_733169_to_752514.parquet\n",
      "/media/DATA/AlfaBattle/train_transactions_contest/part_036_752515_to_770940.parquet\n",
      "/media/DATA/AlfaBattle/train_transactions_contest/part_037_770941_to_788380.parquet\n",
      "/media/DATA/AlfaBattle/train_transactions_contest/part_038_788381_to_805771.parquet\n",
      "/media/DATA/AlfaBattle/train_transactions_contest/part_039_805772_to_823299.parquet\n"
     ]
    },
    {
     "output_type": "display_data",
     "data": {
      "text/plain": "Reading dataset with pandas:   0%|          | 0/5 [00:00<?, ?it/s]",
      "application/vnd.jupyter.widget-view+json": {
       "version_major": 2,
       "version_minor": 0,
       "model_id": "8d8aef75a1634eaca2fbb5abb255c2ee"
      }
     },
     "metadata": {}
    },
    {
     "output_type": "display_data",
     "data": {
      "text/plain": "Extracting buckets:   0%|          | 0/100 [00:00<?, ?it/s]",
      "application/vnd.jupyter.widget-view+json": {
       "version_major": 2,
       "version_minor": 0,
       "model_id": "2d28fdf5f5a64ca98837ccc89bffcc5d"
      }
     },
     "metadata": {}
    },
    {
     "output_type": "stream",
     "name": "stderr",
     "text": [
      "Transforming transactions data:  80%|████████  | 8/10 [05:06<01:16, 38.37s/it]Reading chunks:\n",
      "\n",
      "/media/DATA/AlfaBattle/train_transactions_contest/part_040_823300_to_841218.parquet\n",
      "/media/DATA/AlfaBattle/train_transactions_contest/part_041_841219_to_859270.parquet\n",
      "/media/DATA/AlfaBattle/train_transactions_contest/part_042_859271_to_878521.parquet\n",
      "/media/DATA/AlfaBattle/train_transactions_contest/part_043_878522_to_896669.parquet\n",
      "/media/DATA/AlfaBattle/train_transactions_contest/part_044_896670_to_916056.parquet\n"
     ]
    },
    {
     "output_type": "display_data",
     "data": {
      "text/plain": "Reading dataset with pandas:   0%|          | 0/5 [00:00<?, ?it/s]",
      "application/vnd.jupyter.widget-view+json": {
       "version_major": 2,
       "version_minor": 0,
       "model_id": "2c48abc41f9b478dabb4ac8140d392c9"
      }
     },
     "metadata": {}
    },
    {
     "output_type": "display_data",
     "data": {
      "text/plain": "Extracting buckets:   0%|          | 0/100 [00:00<?, ?it/s]",
      "application/vnd.jupyter.widget-view+json": {
       "version_major": 2,
       "version_minor": 0,
       "model_id": "d7350f1f07bf4f29900912cd17fc8c1e"
      }
     },
     "metadata": {}
    },
    {
     "output_type": "stream",
     "name": "stderr",
     "text": [
      "Transforming transactions data:  90%|█████████ | 9/10 [05:45<00:38, 38.37s/it]Reading chunks:\n",
      "\n",
      "/media/DATA/AlfaBattle/train_transactions_contest/part_045_916057_to_935131.parquet\n",
      "/media/DATA/AlfaBattle/train_transactions_contest/part_046_935132_to_951695.parquet\n",
      "/media/DATA/AlfaBattle/train_transactions_contest/part_047_951696_to_970383.parquet\n",
      "/media/DATA/AlfaBattle/train_transactions_contest/part_048_970384_to_987313.parquet\n",
      "/media/DATA/AlfaBattle/train_transactions_contest/part_049_987314_to_1003050.parquet\n"
     ]
    },
    {
     "output_type": "display_data",
     "data": {
      "text/plain": "Reading dataset with pandas:   0%|          | 0/5 [00:00<?, ?it/s]",
      "application/vnd.jupyter.widget-view+json": {
       "version_major": 2,
       "version_minor": 0,
       "model_id": "82da2555a07d4132b1fd4ade359bf5cc"
      }
     },
     "metadata": {}
    },
    {
     "output_type": "display_data",
     "data": {
      "text/plain": "Extracting buckets:   0%|          | 0/100 [00:00<?, ?it/s]",
      "application/vnd.jupyter.widget-view+json": {
       "version_major": 2,
       "version_minor": 0,
       "model_id": "ebe3ab131dc54e338ca0e6d2806d5d35"
      }
     },
     "metadata": {}
    },
    {
     "output_type": "stream",
     "name": "stderr",
     "text": [
      "Transforming transactions data: 100%|██████████| 10/10 [06:24<00:00, 38.49s/it]\n"
     ]
    }
   ],
   "source": [
    "create_buckets_from_transactions(TRAIN_TRANSACTIONS_PATH, \n",
    "                                save_to_path=PICKLE_VAL_BUCKET_PATH,\n",
    "                                frame_with_ids=val, num_parts_to_preprocess_at_once=5, num_parts_total=50, has_target=True)"
   ]
  },
  {
   "cell_type": "code",
   "execution_count": 18,
   "metadata": {},
   "outputs": [
    {
     "output_type": "execute_result",
     "data": {
      "text/plain": [
       "['/media/DATA/AlfaBattle/val_buckets/processed_chunk_000.pkl',\n",
       " '/media/DATA/AlfaBattle/val_buckets/processed_chunk_001.pkl',\n",
       " '/media/DATA/AlfaBattle/val_buckets/processed_chunk_002.pkl',\n",
       " '/media/DATA/AlfaBattle/val_buckets/processed_chunk_003.pkl',\n",
       " '/media/DATA/AlfaBattle/val_buckets/processed_chunk_004.pkl',\n",
       " '/media/DATA/AlfaBattle/val_buckets/processed_chunk_005.pkl',\n",
       " '/media/DATA/AlfaBattle/val_buckets/processed_chunk_006.pkl',\n",
       " '/media/DATA/AlfaBattle/val_buckets/processed_chunk_007.pkl',\n",
       " '/media/DATA/AlfaBattle/val_buckets/processed_chunk_008.pkl',\n",
       " '/media/DATA/AlfaBattle/val_buckets/processed_chunk_009.pkl']"
      ]
     },
     "metadata": {},
     "execution_count": 18
    }
   ],
   "source": [
    "path_to_dataset = PICKLE_VAL_BUCKET_PATH\n",
    "dir_with_datasets = os.listdir(path_to_dataset)\n",
    "dataset_val = sorted([os.path.join(path_to_dataset, x) for x in dir_with_datasets])\n",
    "dataset_val"
   ]
  },
  {
   "cell_type": "code",
   "execution_count": 11,
   "metadata": {},
   "outputs": [],
   "source": [
    "! rm -r {PICKLE_VAL_TRAIN_BUCKET_PATH}\n",
    "! mkdir {PICKLE_VAL_TRAIN_BUCKET_PATH}"
   ]
  },
  {
   "cell_type": "code",
   "execution_count": 12,
   "metadata": {},
   "outputs": [
    {
     "output_type": "stream",
     "name": "stderr",
     "text": [
      "Transforming transactions data:   0%|          | 0/10 [00:00<?, ?it/s]Reading chunks:\n",
      "\n",
      "/media/DATA/AlfaBattle/train_transactions_contest/part_000_0_to_23646.parquet\n",
      "/media/DATA/AlfaBattle/train_transactions_contest/part_001_23647_to_47415.parquet\n",
      "/media/DATA/AlfaBattle/train_transactions_contest/part_002_47416_to_70092.parquet\n",
      "/media/DATA/AlfaBattle/train_transactions_contest/part_003_70093_to_92989.parquet\n",
      "/media/DATA/AlfaBattle/train_transactions_contest/part_004_92990_to_115175.parquet\n"
     ]
    },
    {
     "output_type": "display_data",
     "data": {
      "text/plain": "Reading dataset with pandas:   0%|          | 0/5 [00:00<?, ?it/s]",
      "application/vnd.jupyter.widget-view+json": {
       "version_major": 2,
       "version_minor": 0,
       "model_id": "12a34daf064644b68c9100034b4a0fd0"
      }
     },
     "metadata": {}
    },
    {
     "output_type": "display_data",
     "data": {
      "text/plain": "Extracting buckets:   0%|          | 0/100 [00:00<?, ?it/s]",
      "application/vnd.jupyter.widget-view+json": {
       "version_major": 2,
       "version_minor": 0,
       "model_id": "e3cbfd9100fd4bd2a462c43f63044102"
      }
     },
     "metadata": {}
    },
    {
     "output_type": "stream",
     "name": "stderr",
     "text": [
      "Transforming transactions data:  10%|█         | 1/10 [00:57<08:37, 57.53s/it]Reading chunks:\n",
      "\n",
      "/media/DATA/AlfaBattle/train_transactions_contest/part_005_115176_to_138067.parquet\n",
      "/media/DATA/AlfaBattle/train_transactions_contest/part_006_138068_to_159724.parquet\n",
      "/media/DATA/AlfaBattle/train_transactions_contest/part_007_159725_to_180735.parquet\n",
      "/media/DATA/AlfaBattle/train_transactions_contest/part_008_180736_to_202834.parquet\n",
      "/media/DATA/AlfaBattle/train_transactions_contest/part_009_202835_to_224283.parquet\n"
     ]
    },
    {
     "output_type": "display_data",
     "data": {
      "text/plain": "Reading dataset with pandas:   0%|          | 0/5 [00:00<?, ?it/s]",
      "application/vnd.jupyter.widget-view+json": {
       "version_major": 2,
       "version_minor": 0,
       "model_id": "0812e7360c7f48f2a8070655141ff250"
      }
     },
     "metadata": {}
    },
    {
     "output_type": "display_data",
     "data": {
      "text/plain": "Extracting buckets:   0%|          | 0/100 [00:00<?, ?it/s]",
      "application/vnd.jupyter.widget-view+json": {
       "version_major": 2,
       "version_minor": 0,
       "model_id": "bfa68c1b77c7424f91fac7c7dd72b14d"
      }
     },
     "metadata": {}
    },
    {
     "output_type": "stream",
     "name": "stderr",
     "text": [
      "Transforming transactions data:  20%|██        | 2/10 [01:55<07:44, 58.05s/it]Reading chunks:\n",
      "\n",
      "/media/DATA/AlfaBattle/train_transactions_contest/part_010_224284_to_245233.parquet\n",
      "/media/DATA/AlfaBattle/train_transactions_contest/part_011_245234_to_265281.parquet\n",
      "/media/DATA/AlfaBattle/train_transactions_contest/part_012_265282_to_285632.parquet\n",
      "/media/DATA/AlfaBattle/train_transactions_contest/part_013_285633_to_306877.parquet\n",
      "/media/DATA/AlfaBattle/train_transactions_contest/part_014_306878_to_329680.parquet\n"
     ]
    },
    {
     "output_type": "display_data",
     "data": {
      "text/plain": "Reading dataset with pandas:   0%|          | 0/5 [00:00<?, ?it/s]",
      "application/vnd.jupyter.widget-view+json": {
       "version_major": 2,
       "version_minor": 0,
       "model_id": "a6b285fda7d94e75a3dbc2cd801dbbea"
      }
     },
     "metadata": {}
    },
    {
     "output_type": "display_data",
     "data": {
      "text/plain": "Extracting buckets:   0%|          | 0/100 [00:00<?, ?it/s]",
      "application/vnd.jupyter.widget-view+json": {
       "version_major": 2,
       "version_minor": 0,
       "model_id": "d637542c15c64c68b3fe8c6ddadaba7f"
      }
     },
     "metadata": {}
    },
    {
     "output_type": "stream",
     "name": "stderr",
     "text": [
      "Transforming transactions data:  30%|███       | 3/10 [02:51<06:39, 57.05s/it]Reading chunks:\n",
      "\n",
      "/media/DATA/AlfaBattle/train_transactions_contest/part_015_329681_to_350977.parquet\n",
      "/media/DATA/AlfaBattle/train_transactions_contest/part_016_350978_to_372076.parquet\n",
      "/media/DATA/AlfaBattle/train_transactions_contest/part_017_372077_to_392692.parquet\n",
      "/media/DATA/AlfaBattle/train_transactions_contest/part_018_392693_to_413981.parquet\n",
      "/media/DATA/AlfaBattle/train_transactions_contest/part_019_413982_to_434478.parquet\n"
     ]
    },
    {
     "output_type": "display_data",
     "data": {
      "text/plain": "Reading dataset with pandas:   0%|          | 0/5 [00:00<?, ?it/s]",
      "application/vnd.jupyter.widget-view+json": {
       "version_major": 2,
       "version_minor": 0,
       "model_id": "7cc13baf44754168ab587b10de644ecf"
      }
     },
     "metadata": {}
    },
    {
     "output_type": "display_data",
     "data": {
      "text/plain": "Extracting buckets:   0%|          | 0/100 [00:00<?, ?it/s]",
      "application/vnd.jupyter.widget-view+json": {
       "version_major": 2,
       "version_minor": 0,
       "model_id": "6946dc799cf44332a12174b80a61d9bc"
      }
     },
     "metadata": {}
    },
    {
     "output_type": "stream",
     "name": "stderr",
     "text": [
      "Transforming transactions data:  40%|████      | 4/10 [03:55<05:57, 59.55s/it]Reading chunks:\n",
      "\n",
      "/media/DATA/AlfaBattle/train_transactions_contest/part_020_434479_to_455958.parquet\n",
      "/media/DATA/AlfaBattle/train_transactions_contest/part_021_455959_to_477221.parquet\n",
      "/media/DATA/AlfaBattle/train_transactions_contest/part_022_477222_to_496751.parquet\n",
      "/media/DATA/AlfaBattle/train_transactions_contest/part_023_496752_to_517332.parquet\n",
      "/media/DATA/AlfaBattle/train_transactions_contest/part_024_517333_to_537036.parquet\n"
     ]
    },
    {
     "output_type": "display_data",
     "data": {
      "text/plain": "Reading dataset with pandas:   0%|          | 0/5 [00:00<?, ?it/s]",
      "application/vnd.jupyter.widget-view+json": {
       "version_major": 2,
       "version_minor": 0,
       "model_id": "3796a1ad630d460094c2aa6c83aaf99d"
      }
     },
     "metadata": {}
    },
    {
     "output_type": "display_data",
     "data": {
      "text/plain": "Extracting buckets:   0%|          | 0/100 [00:00<?, ?it/s]",
      "application/vnd.jupyter.widget-view+json": {
       "version_major": 2,
       "version_minor": 0,
       "model_id": "059c47d8bcb64c0a8ae2c34796a313b2"
      }
     },
     "metadata": {}
    },
    {
     "output_type": "stream",
     "name": "stderr",
     "text": [
      "Transforming transactions data:  50%|█████     | 5/10 [04:43<04:37, 55.56s/it]Reading chunks:\n",
      "\n",
      "/media/DATA/AlfaBattle/train_transactions_contest/part_025_537037_to_557423.parquet\n",
      "/media/DATA/AlfaBattle/train_transactions_contest/part_026_557424_to_576136.parquet\n",
      "/media/DATA/AlfaBattle/train_transactions_contest/part_027_576137_to_595745.parquet\n",
      "/media/DATA/AlfaBattle/train_transactions_contest/part_028_595746_to_615602.parquet\n",
      "/media/DATA/AlfaBattle/train_transactions_contest/part_029_615603_to_635004.parquet\n"
     ]
    },
    {
     "output_type": "display_data",
     "data": {
      "text/plain": "Reading dataset with pandas:   0%|          | 0/5 [00:00<?, ?it/s]",
      "application/vnd.jupyter.widget-view+json": {
       "version_major": 2,
       "version_minor": 0,
       "model_id": "5909814388f9496f8cd365a492d1b41b"
      }
     },
     "metadata": {}
    },
    {
     "output_type": "display_data",
     "data": {
      "text/plain": "Extracting buckets:   0%|          | 0/100 [00:00<?, ?it/s]",
      "application/vnd.jupyter.widget-view+json": {
       "version_major": 2,
       "version_minor": 0,
       "model_id": "a554d88f01d04362a5e0e0bacc013f6a"
      }
     },
     "metadata": {}
    },
    {
     "output_type": "stream",
     "name": "stderr",
     "text": [
      "Transforming transactions data:  60%|██████    | 6/10 [05:42<03:46, 56.71s/it]Reading chunks:\n",
      "\n",
      "/media/DATA/AlfaBattle/train_transactions_contest/part_030_635005_to_654605.parquet\n",
      "/media/DATA/AlfaBattle/train_transactions_contest/part_031_654606_to_673656.parquet\n",
      "/media/DATA/AlfaBattle/train_transactions_contest/part_032_673657_to_696025.parquet\n",
      "/media/DATA/AlfaBattle/train_transactions_contest/part_033_696026_to_714545.parquet\n",
      "/media/DATA/AlfaBattle/train_transactions_contest/part_034_714546_to_733168.parquet\n"
     ]
    },
    {
     "output_type": "display_data",
     "data": {
      "text/plain": "Reading dataset with pandas:   0%|          | 0/5 [00:00<?, ?it/s]",
      "application/vnd.jupyter.widget-view+json": {
       "version_major": 2,
       "version_minor": 0,
       "model_id": "50699ce32ea249fdaf76a8428cd5b3c1"
      }
     },
     "metadata": {}
    },
    {
     "output_type": "display_data",
     "data": {
      "text/plain": "Extracting buckets:   0%|          | 0/100 [00:00<?, ?it/s]",
      "application/vnd.jupyter.widget-view+json": {
       "version_major": 2,
       "version_minor": 0,
       "model_id": "fd9bb73f540447a6b4e4d551c631d1b0"
      }
     },
     "metadata": {}
    },
    {
     "output_type": "stream",
     "name": "stderr",
     "text": [
      "Transforming transactions data:  70%|███████   | 7/10 [06:48<02:58, 59.57s/it]Reading chunks:\n",
      "\n",
      "/media/DATA/AlfaBattle/train_transactions_contest/part_035_733169_to_752514.parquet\n",
      "/media/DATA/AlfaBattle/train_transactions_contest/part_036_752515_to_770940.parquet\n",
      "/media/DATA/AlfaBattle/train_transactions_contest/part_037_770941_to_788380.parquet\n",
      "/media/DATA/AlfaBattle/train_transactions_contest/part_038_788381_to_805771.parquet\n",
      "/media/DATA/AlfaBattle/train_transactions_contest/part_039_805772_to_823299.parquet\n"
     ]
    },
    {
     "output_type": "display_data",
     "data": {
      "text/plain": "Reading dataset with pandas:   0%|          | 0/5 [00:00<?, ?it/s]",
      "application/vnd.jupyter.widget-view+json": {
       "version_major": 2,
       "version_minor": 0,
       "model_id": "055de4b97cd44e209b488844699d284d"
      }
     },
     "metadata": {}
    },
    {
     "output_type": "display_data",
     "data": {
      "text/plain": "Extracting buckets:   0%|          | 0/100 [00:00<?, ?it/s]",
      "application/vnd.jupyter.widget-view+json": {
       "version_major": 2,
       "version_minor": 0,
       "model_id": "0633b33926ac4fb9af5860391420b816"
      }
     },
     "metadata": {}
    },
    {
     "output_type": "stream",
     "name": "stderr",
     "text": [
      "Transforming transactions data:  80%|████████  | 8/10 [07:40<01:54, 57.45s/it]Reading chunks:\n",
      "\n",
      "/media/DATA/AlfaBattle/train_transactions_contest/part_040_823300_to_841218.parquet\n",
      "/media/DATA/AlfaBattle/train_transactions_contest/part_041_841219_to_859270.parquet\n",
      "/media/DATA/AlfaBattle/train_transactions_contest/part_042_859271_to_878521.parquet\n",
      "/media/DATA/AlfaBattle/train_transactions_contest/part_043_878522_to_896669.parquet\n",
      "/media/DATA/AlfaBattle/train_transactions_contest/part_044_896670_to_916056.parquet\n"
     ]
    },
    {
     "output_type": "display_data",
     "data": {
      "text/plain": "Reading dataset with pandas:   0%|          | 0/5 [00:00<?, ?it/s]",
      "application/vnd.jupyter.widget-view+json": {
       "version_major": 2,
       "version_minor": 0,
       "model_id": "11be02581dca4a5c81f04d84856bc36a"
      }
     },
     "metadata": {}
    },
    {
     "output_type": "display_data",
     "data": {
      "text/plain": "Extracting buckets:   0%|          | 0/100 [00:00<?, ?it/s]",
      "application/vnd.jupyter.widget-view+json": {
       "version_major": 2,
       "version_minor": 0,
       "model_id": "fe7c099f3d564c5dba610cc2d75474cc"
      }
     },
     "metadata": {}
    },
    {
     "output_type": "stream",
     "name": "stderr",
     "text": [
      "Transforming transactions data:  90%|█████████ | 9/10 [08:49<01:01, 61.00s/it]Reading chunks:\n",
      "\n",
      "/media/DATA/AlfaBattle/train_transactions_contest/part_045_916057_to_935131.parquet\n",
      "/media/DATA/AlfaBattle/train_transactions_contest/part_046_935132_to_951695.parquet\n",
      "/media/DATA/AlfaBattle/train_transactions_contest/part_047_951696_to_970383.parquet\n",
      "/media/DATA/AlfaBattle/train_transactions_contest/part_048_970384_to_987313.parquet\n",
      "/media/DATA/AlfaBattle/train_transactions_contest/part_049_987314_to_1003050.parquet\n"
     ]
    },
    {
     "output_type": "display_data",
     "data": {
      "text/plain": "Reading dataset with pandas:   0%|          | 0/5 [00:00<?, ?it/s]",
      "application/vnd.jupyter.widget-view+json": {
       "version_major": 2,
       "version_minor": 0,
       "model_id": "434d8e2b0f804e648a628600cfdbb9b5"
      }
     },
     "metadata": {}
    },
    {
     "output_type": "display_data",
     "data": {
      "text/plain": "Extracting buckets:   0%|          | 0/100 [00:00<?, ?it/s]",
      "application/vnd.jupyter.widget-view+json": {
       "version_major": 2,
       "version_minor": 0,
       "model_id": "2041453d30574668adf03125960304ad"
      }
     },
     "metadata": {}
    },
    {
     "output_type": "stream",
     "name": "stderr",
     "text": [
      "Transforming transactions data: 100%|██████████| 10/10 [09:46<00:00, 58.62s/it]\n"
     ]
    }
   ],
   "source": [
    "create_buckets_from_transactions(TRAIN_TRANSACTIONS_PATH, \n",
    "                                save_to_path=PICKLE_VAL_TRAIN_BUCKET_PATH,\n",
    "                                frame_with_ids=train, num_parts_to_preprocess_at_once=5, num_parts_total=50, has_target=True)"
   ]
  },
  {
   "cell_type": "code",
   "execution_count": 19,
   "metadata": {},
   "outputs": [
    {
     "output_type": "execute_result",
     "data": {
      "text/plain": [
       "['/media/DATA/AlfaBattle/val_train_buckets/processed_chunk_000.pkl',\n",
       " '/media/DATA/AlfaBattle/val_train_buckets/processed_chunk_001.pkl',\n",
       " '/media/DATA/AlfaBattle/val_train_buckets/processed_chunk_002.pkl',\n",
       " '/media/DATA/AlfaBattle/val_train_buckets/processed_chunk_003.pkl',\n",
       " '/media/DATA/AlfaBattle/val_train_buckets/processed_chunk_004.pkl',\n",
       " '/media/DATA/AlfaBattle/val_train_buckets/processed_chunk_005.pkl',\n",
       " '/media/DATA/AlfaBattle/val_train_buckets/processed_chunk_006.pkl',\n",
       " '/media/DATA/AlfaBattle/val_train_buckets/processed_chunk_007.pkl',\n",
       " '/media/DATA/AlfaBattle/val_train_buckets/processed_chunk_008.pkl',\n",
       " '/media/DATA/AlfaBattle/val_train_buckets/processed_chunk_009.pkl']"
      ]
     },
     "metadata": {},
     "execution_count": 19
    }
   ],
   "source": [
    "path_to_dataset = PICKLE_VAL_TRAIN_BUCKET_PATH\n",
    "dir_with_datasets = os.listdir(path_to_dataset)\n",
    "dataset_train = sorted([os.path.join(path_to_dataset, x) for x in dir_with_datasets])\n",
    "dataset_train"
   ]
  },
  {
   "cell_type": "markdown",
   "metadata": {},
   "source": [
    "### 2. Modeling"
   ]
  },
  {
   "cell_type": "markdown",
   "metadata": {},
   "source": [
    "* Для создания модели будем использовать фреймворк `tensorflow`. В нем есть все, чтобы писать произвольные сложные архитектуры и быстро эксперементировать.\n",
    "\n",
    "* В бейзлайне мы предлагаем базовые компоненты, чтобы можно было обучать нейронную сеть и отслеживать ее качество. Для этого вам предоставлены следующие функции:\n",
    "    * `data_generators.batches_generator` - функция-генератор, итеративно возвращает батчи, поддерживает батчи для `tensorflow.keras` и `torch.nn.module` моделей. В зависимости от флага `is_train` может быть использована для генерации батчей на train/val/test стадию.\n",
    "    * функция `tf_training.train_epoch` - обучает модель одну эпоху.\n",
    "    * функция `tf_training.eval_model` - проверяет качество модели на отложенной выборке и возвращает roc_auc_score.\n",
    "    * функция `tf_training.inference` - делает предикты на новых данных и готовит фрейм для проверяющей системы.\n",
    "    * класс `training_aux.EarlyStopping` - реализует early_stopping, сохраняя лучшую модель. Пример использования приведен ниже."
   ]
  },
  {
   "cell_type": "code",
   "execution_count": 33,
   "metadata": {},
   "outputs": [],
   "source": [
    "from data_generators import batches_generator, transaction_features\n",
    "from tf_training import train_epoch, eval_model, inference\n",
    "from training_aux import EarlyStopping"
   ]
  },
  {
   "cell_type": "markdown",
   "metadata": {},
   "source": [
    "* Все признаки в нашей модели будут категориальными. Для их представления в модели используем категориальные эмбеддинги. Для этого нужно каждому категориальному признаку задать размерность латентного пространства. Используем [формулу](https://forums.fast.ai/t/size-of-embedding-for-categorical-variables/42608) из библиотеки `fast.ai`. Все отображения хранятся в файле `embedding_projections.pkl`"
   ]
  },
  {
   "cell_type": "code",
   "execution_count": 32,
   "metadata": {},
   "outputs": [],
   "source": [
    "with open('../constants/embedding_projections.pkl', 'rb') as f:\n",
    "    embedding_projections = pickle.load(f)"
   ]
  },
  {
   "cell_type": "markdown",
   "metadata": {},
   "source": [
    "* Реализуем модель. Все входные признаки представим в виде эмбеддингов, сконкатенируем, чтобы получить векторное представление транзакции. Подадим последовательности в `GRU` рекуррентную сеть. Используем последнее скрытое состояние в качестве выхода сети. Представим признак `product` в виде отдельного эмбеддинга. Сконкатенируем его с выходом сети. На основе такого входа построим небольшой `MLP`, выступающий классификатором для целевой задачи. Используем градиентный спуск, чтобы решить оптимизационную задачу. "
   ]
  },
  {
   "cell_type": "code",
   "execution_count": 34,
   "metadata": {},
   "outputs": [],
   "source": [
    "def build_transactions_rnn(transactions_cat_features, embedding_projections, product_col_name='product', \n",
    "                          rnn_units=128, classifier_units=32, optimizer=None):\n",
    "    if not optimizer:\n",
    "        optimizer = keras.optimizers.Adam(lr=1e-3)\n",
    "        \n",
    "    inputs = []\n",
    "    cat_embeds = []\n",
    "    \n",
    "    for feature_name in transactions_cat_features:\n",
    "        inp = L.Input(shape=(None, ), dtype='uint32', name=f'input_{feature_name}')\n",
    "        inputs.append(inp)\n",
    "        source_size, projection = embedding_projections[feature_name]\n",
    "        emb = L.Embedding(source_size+1, projection, trainable=True, mask_zero=False, name=f'embedding_{feature_name}')(inp)\n",
    "        cat_embeds.append(emb)\n",
    "    \n",
    "    # product feature\n",
    "    inp = L.Input(shape=(1, ), dtype='uint32', name=f'input_product')\n",
    "    inputs.append(inp)\n",
    "    source_size, projection = embedding_projections['product']\n",
    "    product_emb = L.Embedding(source_size+1, projection, trainable=True, mask_zero=False, name=f'embedding_product')(inp)\n",
    "    product_emb_reshape = L.Reshape((projection, ))(product_emb)\n",
    "    \n",
    "    concated_cat_embeds = L.concatenate(cat_embeds)\n",
    "    \n",
    "    last_state = L.GRU(units=rnn_units)(concated_cat_embeds)\n",
    "    \n",
    "    combined_inp = L.concatenate([last_state, product_emb_reshape])\n",
    "    \n",
    "    dense_intermediate = L.Dense(classifier_units, activation='relu', )(combined_inp)\n",
    "    proba = L.Dense(1, activation='sigmoid')(dense_intermediate)\n",
    "    \n",
    "    model = Model(inputs=inputs, outputs=proba)\n",
    "    model.compile(loss='binary_crossentropy', optimizer=optimizer)\n",
    "    return model"
   ]
  },
  {
   "cell_type": "markdown",
   "metadata": {},
   "source": [
    "### 3. Training"
   ]
  },
  {
   "cell_type": "code",
   "execution_count": 29,
   "metadata": {},
   "outputs": [],
   "source": [
    "CHECKPOINTS_PATH = '/media/DATA/AlfaBattle/checkpoints/tf_baseline/'"
   ]
  },
  {
   "cell_type": "code",
   "execution_count": 9,
   "metadata": {},
   "outputs": [
    {
     "output_type": "stream",
     "name": "stdout",
     "text": [
      "mkdir: cannot create directory ‘/media/DATA/AlfaBattle/checkpoints/’: File exists\n"
     ]
    }
   ],
   "source": [
    "! mkdir {CHECKPOINTS_PATH}"
   ]
  },
  {
   "cell_type": "code",
   "execution_count": 10,
   "metadata": {},
   "outputs": [],
   "source": [
    "! rm -r {CHECKPOINTS_PATH}\n",
    "! mkdir {CHECKPOINTS_PATH}"
   ]
  },
  {
   "cell_type": "markdown",
   "metadata": {},
   "source": [
    "* Для того, чтобы детектировать переобучение используем EarlyStopping."
   ]
  },
  {
   "cell_type": "code",
   "execution_count": 38,
   "metadata": {},
   "outputs": [],
   "source": [
    "path_to_checkpoints = CHECKPOINTS_PATH\n",
    "es = EarlyStopping(patience=3, mode='max', verbose=True, save_path=os.path.join(path_to_checkpoints, 'best_checkpoint.pt'), \n",
    "                   metric_name='ROC-AUC', save_format='tf')"
   ]
  },
  {
   "cell_type": "code",
   "execution_count": 12,
   "metadata": {},
   "outputs": [],
   "source": [
    "num_epochs = 15\n",
    "train_batch_size = 128\n",
    "val_batch_szie = 128"
   ]
  },
  {
   "cell_type": "code",
   "execution_count": 35,
   "metadata": {},
   "outputs": [],
   "source": [
    "model = build_transactions_rnn(transaction_features, embedding_projections)"
   ]
  },
  {
   "cell_type": "code",
   "execution_count": 36,
   "metadata": {},
   "outputs": [
    {
     "output_type": "stream",
     "name": "stdout",
     "text": [
      "Model: \"model\"\n__________________________________________________________________________________________________\nLayer (type)                    Output Shape         Param #     Connected to                     \n==================================================================================================\ninput_currency (InputLayer)     [(None, None)]       0                                            \n__________________________________________________________________________________________________\ninput_operation_kind (InputLaye [(None, None)]       0                                            \n__________________________________________________________________________________________________\ninput_card_type (InputLayer)    [(None, None)]       0                                            \n__________________________________________________________________________________________________\ninput_operation_type (InputLaye [(None, None)]       0                                            \n__________________________________________________________________________________________________\ninput_operation_type_group (Inp [(None, None)]       0                                            \n__________________________________________________________________________________________________\ninput_ecommerce_flag (InputLaye [(None, None)]       0                                            \n__________________________________________________________________________________________________\ninput_payment_system (InputLaye [(None, None)]       0                                            \n__________________________________________________________________________________________________\ninput_income_flag (InputLayer)  [(None, None)]       0                                            \n__________________________________________________________________________________________________\ninput_mcc (InputLayer)          [(None, None)]       0                                            \n__________________________________________________________________________________________________\ninput_country (InputLayer)      [(None, None)]       0                                            \n__________________________________________________________________________________________________\ninput_city (InputLayer)         [(None, None)]       0                                            \n__________________________________________________________________________________________________\ninput_mcc_category (InputLayer) [(None, None)]       0                                            \n__________________________________________________________________________________________________\ninput_day_of_week (InputLayer)  [(None, None)]       0                                            \n__________________________________________________________________________________________________\ninput_hour (InputLayer)         [(None, None)]       0                                            \n__________________________________________________________________________________________________\ninput_weekofyear (InputLayer)   [(None, None)]       0                                            \n__________________________________________________________________________________________________\ninput_amnt (InputLayer)         [(None, None)]       0                                            \n__________________________________________________________________________________________________\ninput_days_before (InputLayer)  [(None, None)]       0                                            \n__________________________________________________________________________________________________\ninput_hour_diff (InputLayer)    [(None, None)]       0                                            \n__________________________________________________________________________________________________\nembedding_currency (Embedding)  (None, None, 6)      72          input_currency[0][0]             \n__________________________________________________________________________________________________\nembedding_operation_kind (Embed (None, None, 5)      40          input_operation_kind[0][0]       \n__________________________________________________________________________________________________\nembedding_card_type (Embedding) (None, None, 29)     5104        input_card_type[0][0]            \n__________________________________________________________________________________________________\nembedding_operation_type (Embed (None, None, 9)      207         input_operation_type[0][0]       \n__________________________________________________________________________________________________\nembedding_operation_type_group  (None, None, 3)      15          input_operation_type_group[0][0] \n__________________________________________________________________________________________________\nembedding_ecommerce_flag (Embed (None, None, 3)      12          input_ecommerce_flag[0][0]       \n__________________________________________________________________________________________________\nembedding_payment_system (Embed (None, None, 5)      40          input_payment_system[0][0]       \n__________________________________________________________________________________________________\nembedding_income_flag (Embeddin (None, None, 3)      12          input_income_flag[0][0]          \n__________________________________________________________________________________________________\nembedding_mcc (Embedding)       (None, None, 22)     2398        input_mcc[0][0]                  \n__________________________________________________________________________________________________\nembedding_country (Embedding)   (None, None, 9)      225         input_country[0][0]              \n__________________________________________________________________________________________________\nembedding_city (Embedding)      (None, None, 28)     4592        input_city[0][0]                 \n__________________________________________________________________________________________________\nembedding_mcc_category (Embeddi (None, None, 10)     290         input_mcc_category[0][0]         \n__________________________________________________________________________________________________\nembedding_day_of_week (Embeddin (None, None, 5)      40          input_day_of_week[0][0]          \n__________________________________________________________________________________________________\nembedding_hour (Embedding)      (None, None, 9)      225         input_hour[0][0]                 \n__________________________________________________________________________________________________\nembedding_weekofyear (Embedding (None, None, 15)     810         input_weekofyear[0][0]           \n__________________________________________________________________________________________________\nembedding_amnt (Embedding)      (None, None, 6)      66          input_amnt[0][0]                 \n__________________________________________________________________________________________________\nembedding_days_before (Embeddin (None, None, 9)      216         input_days_before[0][0]          \n__________________________________________________________________________________________________\nembedding_hour_diff (Embedding) (None, None, 6)      66          input_hour_diff[0][0]            \n__________________________________________________________________________________________________\ninput_product (InputLayer)      [(None, 1)]          0                                            \n__________________________________________________________________________________________________\nconcatenate (Concatenate)       (None, None, 182)    0           embedding_currency[0][0]         \n                                                                 embedding_operation_kind[0][0]   \n                                                                 embedding_card_type[0][0]        \n                                                                 embedding_operation_type[0][0]   \n                                                                 embedding_operation_type_group[0]\n                                                                 embedding_ecommerce_flag[0][0]   \n                                                                 embedding_payment_system[0][0]   \n                                                                 embedding_income_flag[0][0]      \n                                                                 embedding_mcc[0][0]              \n                                                                 embedding_country[0][0]          \n                                                                 embedding_city[0][0]             \n                                                                 embedding_mcc_category[0][0]     \n                                                                 embedding_day_of_week[0][0]      \n                                                                 embedding_hour[0][0]             \n                                                                 embedding_weekofyear[0][0]       \n                                                                 embedding_amnt[0][0]             \n                                                                 embedding_days_before[0][0]      \n                                                                 embedding_hour_diff[0][0]        \n__________________________________________________________________________________________________\nembedding_product (Embedding)   (None, 1, 4)         24          input_product[0][0]              \n__________________________________________________________________________________________________\ngru (GRU)                       (None, 128)          119808      concatenate[0][0]                \n__________________________________________________________________________________________________\nreshape (Reshape)               (None, 4)            0           embedding_product[0][0]          \n__________________________________________________________________________________________________\nconcatenate_1 (Concatenate)     (None, 132)          0           gru[0][0]                        \n                                                                 reshape[0][0]                    \n__________________________________________________________________________________________________\ndense (Dense)                   (None, 32)           4256        concatenate_1[0][0]              \n__________________________________________________________________________________________________\ndense_1 (Dense)                 (None, 1)            33          dense[0][0]                      \n==================================================================================================\nTotal params: 138,551\nTrainable params: 138,551\nNon-trainable params: 0\n__________________________________________________________________________________________________\n"
     ]
    }
   ],
   "source": [
    "model.summary()"
   ]
  },
  {
   "cell_type": "markdown",
   "metadata": {},
   "source": [
    "* Запустим цикл обучения, каждую эпоху будем логировать лосс, а так же roc-auc на валидации и на обучении. Будем сохрнаять веса после каждой эпохи, а так же лучшие с помощью early_stopping."
   ]
  },
  {
   "cell_type": "code",
   "execution_count": 20,
   "metadata": {},
   "outputs": [
    {
     "output_type": "stream",
     "name": "stdout",
     "text": [
      "Starting epoch 1\n",
      "7270/7270 [==============================] - 264s 36ms/step - loss: 0.1308\n",
      "Validation ROC-AUC improved (-inf --> 0.773693).  Saving model ...\n",
      "Epoch 1 completed. Train roc-auc: 0.7713849025629075, Val roc-auc: 0.7736933947212206\n",
      "Starting epoch 2\n",
      "Epoch 2/2\n",
      "7270/7270 [==============================] - 167s 23ms/step - loss: 0.1117\n",
      "Validation ROC-AUC improved (0.773693 --> 0.779940).  Saving model ...\n",
      "Epoch 2 completed. Train roc-auc: 0.7803509103516233, Val roc-auc: 0.7799404472562648\n",
      "Starting epoch 3\n",
      "Epoch 3/3\n",
      "7270/7270 [==============================] - 175s 24ms/step - loss: 0.1101\n",
      "Validation ROC-AUC improved (0.779940 --> 0.785422).  Saving model ...\n",
      "Epoch 3 completed. Train roc-auc: 0.7931756203806817, Val roc-auc: 0.7854221797906145\n",
      "Starting epoch 4\n",
      "Epoch 4/4\n",
      "7270/7270 [==============================] - 189s 26ms/step - loss: 0.1088\n",
      "Validation ROC-AUC improved (0.785422 --> 0.789084).  Saving model ...\n",
      "Epoch 4 completed. Train roc-auc: 0.8033326187910963, Val roc-auc: 0.789083776325624\n",
      "Starting epoch 5\n",
      "Epoch 5/5\n",
      "7270/7270 [==============================] - 159s 22ms/step - loss: 0.1072\n",
      "Validation ROC-AUC improved (0.789084 --> 0.793679).  Saving model ...\n",
      "Epoch 5 completed. Train roc-auc: 0.8181327929412354, Val roc-auc: 0.7936787453003102\n",
      "Starting epoch 6\n",
      "Epoch 6/6\n",
      "7270/7270 [==============================] - 165s 23ms/step - loss: 0.1056\n",
      "No imporvement in Validation ROC-AUC. Current: 0.789157. Current best: 0.793679\n",
      "EarlyStopping counter: 1 out of 3\n",
      "Epoch 6 completed. Train roc-auc: 0.8257215516158672, Val roc-auc: 0.7891568177311667\n",
      "Starting epoch 7\n",
      "Epoch 7/7\n",
      "7270/7270 [==============================] - 159s 22ms/step - loss: 0.1036\n",
      "No imporvement in Validation ROC-AUC. Current: 0.788550. Current best: 0.793679\n",
      "EarlyStopping counter: 2 out of 3\n",
      "Epoch 7 completed. Train roc-auc: 0.8434860818915738, Val roc-auc: 0.7885498920532578\n",
      "Starting epoch 8\n",
      "Epoch 8/8\n",
      "7270/7270 [==============================] - 164s 23ms/step - loss: 0.1012\n",
      "No imporvement in Validation ROC-AUC. Current: 0.783006. Current best: 0.793679\n",
      "EarlyStopping counter: 3 out of 3\n",
      "Early stopping reached. Stop training...\n"
     ]
    }
   ],
   "source": [
    "for epoch in range(num_epochs):\n",
    "    print(f'Starting epoch {epoch+1}')\n",
    "    train_epoch(model, dataset_train, batch_size=train_batch_size, shuffle=True, cur_epoch=epoch, \n",
    "                steps_per_epoch=7270)\n",
    "    \n",
    "    val_roc_auc = eval_model(model, dataset_val, batch_size=val_batch_szie)\n",
    "    model.save_weights(os.path.join(path_to_checkpoints, f'epoch_{epoch+1}_val_{val_roc_auc:.3f}.hdf5'))\n",
    "    \n",
    "    es(val_roc_auc, model)\n",
    "    \n",
    "    if es.early_stop:\n",
    "        print('Early stopping reached. Stop training...')\n",
    "        break\n",
    "        \n",
    "    train_roc_auc = eval_model(model, dataset_train, batch_size=val_batch_szie)\n",
    "    print(f'Epoch {epoch+1} completed. Train roc-auc: {train_roc_auc}, Val roc-auc: {val_roc_auc}')"
   ]
  },
  {
   "cell_type": "markdown",
   "metadata": {},
   "source": [
    "### 4. Submission"
   ]
  },
  {
   "cell_type": "markdown",
   "metadata": {},
   "source": [
    "* Все готово, чтобы сделать предсказания для тестовой выборки. Нужно только подготовить данные в том же формате, как и для train."
   ]
  },
  {
   "cell_type": "code",
   "execution_count": 12,
   "metadata": {},
   "outputs": [],
   "source": [
    "!rm -r {PICKLE_VAL_TEST_BUCKET_PATH}\n",
    "!mkdir {PICKLE_VAL_TEST_BUCKET_PATH}"
   ]
  },
  {
   "cell_type": "code",
   "execution_count": 13,
   "metadata": {},
   "outputs": [
    {
     "output_type": "execute_result",
     "data": {
      "text/plain": [
       "    app_id  product\n",
       "0  1063620        0\n",
       "1  1063621        0\n",
       "2  1063622        1\n",
       "3  1063623        1\n",
       "4  1063624        2"
      ],
      "text/html": "<div>\n<style scoped>\n    .dataframe tbody tr th:only-of-type {\n        vertical-align: middle;\n    }\n\n    .dataframe tbody tr th {\n        vertical-align: top;\n    }\n\n    .dataframe thead th {\n        text-align: right;\n    }\n</style>\n<table border=\"1\" class=\"dataframe\">\n  <thead>\n    <tr style=\"text-align: right;\">\n      <th></th>\n      <th>app_id</th>\n      <th>product</th>\n    </tr>\n  </thead>\n  <tbody>\n    <tr>\n      <th>0</th>\n      <td>1063620</td>\n      <td>0</td>\n    </tr>\n    <tr>\n      <th>1</th>\n      <td>1063621</td>\n      <td>0</td>\n    </tr>\n    <tr>\n      <th>2</th>\n      <td>1063622</td>\n      <td>1</td>\n    </tr>\n    <tr>\n      <th>3</th>\n      <td>1063623</td>\n      <td>1</td>\n    </tr>\n    <tr>\n      <th>4</th>\n      <td>1063624</td>\n      <td>2</td>\n    </tr>\n  </tbody>\n</table>\n</div>"
     },
     "metadata": {},
     "execution_count": 13
    }
   ],
   "source": [
    "test_frame = pd.read_csv('/media/DATA/AlfaBattle/test_target_contest.csv')\n",
    "test_frame.head()"
   ]
  },
  {
   "cell_type": "code",
   "execution_count": 14,
   "metadata": {},
   "outputs": [
    {
     "output_type": "stream",
     "name": "stderr",
     "text": [
      "Transforming transactions data:   0%|          | 0/5 [00:00<?, ?it/s]Reading chunks:\n",
      "\n",
      "/media/DATA/AlfaBattle/test_transactions_contest/part_000_1063620_to_1074462.parquet\n",
      "/media/DATA/AlfaBattle/test_transactions_contest/part_001_1074463_to_1085303.parquet\n",
      "/media/DATA/AlfaBattle/test_transactions_contest/part_002_1085304_to_1095174.parquet\n",
      "/media/DATA/AlfaBattle/test_transactions_contest/part_003_1095175_to_1105002.parquet\n",
      "/media/DATA/AlfaBattle/test_transactions_contest/part_004_1105003_to_1116054.parquet\n",
      "/media/DATA/AlfaBattle/test_transactions_contest/part_005_1116055_to_1127527.parquet\n",
      "/media/DATA/AlfaBattle/test_transactions_contest/part_006_1127528_to_1137672.parquet\n",
      "/media/DATA/AlfaBattle/test_transactions_contest/part_007_1137673_to_1147504.parquet\n",
      "/media/DATA/AlfaBattle/test_transactions_contest/part_008_1147505_to_1157749.parquet\n",
      "/media/DATA/AlfaBattle/test_transactions_contest/part_009_1157750_to_1167980.parquet\n"
     ]
    },
    {
     "output_type": "display_data",
     "data": {
      "text/plain": "Reading dataset with pandas:   0%|          | 0/10 [00:00<?, ?it/s]",
      "application/vnd.jupyter.widget-view+json": {
       "version_major": 2,
       "version_minor": 0,
       "model_id": "8c9ae9d4325749fdb6be3856083a45f8"
      }
     },
     "metadata": {}
    },
    {
     "output_type": "display_data",
     "data": {
      "text/plain": "Extracting buckets:   0%|          | 0/100 [00:00<?, ?it/s]",
      "application/vnd.jupyter.widget-view+json": {
       "version_major": 2,
       "version_minor": 0,
       "model_id": "4445ea2acd074538a51102491cf86f53"
      }
     },
     "metadata": {}
    },
    {
     "output_type": "stream",
     "name": "stderr",
     "text": [
      "Transforming transactions data:  20%|██        | 1/5 [01:10<04:40, 70.05s/it]Reading chunks:\n",
      "\n",
      "/media/DATA/AlfaBattle/test_transactions_contest/part_010_1167981_to_1178851.parquet\n",
      "/media/DATA/AlfaBattle/test_transactions_contest/part_011_1178852_to_1190630.parquet\n",
      "/media/DATA/AlfaBattle/test_transactions_contest/part_012_1190631_to_1200939.parquet\n",
      "/media/DATA/AlfaBattle/test_transactions_contest/part_013_1200940_to_1211425.parquet\n",
      "/media/DATA/AlfaBattle/test_transactions_contest/part_014_1211426_to_1222122.parquet\n",
      "/media/DATA/AlfaBattle/test_transactions_contest/part_015_1222123_to_1232298.parquet\n",
      "/media/DATA/AlfaBattle/test_transactions_contest/part_016_1232299_to_1242388.parquet\n",
      "/media/DATA/AlfaBattle/test_transactions_contest/part_017_1242389_to_1252416.parquet\n",
      "/media/DATA/AlfaBattle/test_transactions_contest/part_018_1252417_to_1262614.parquet\n",
      "/media/DATA/AlfaBattle/test_transactions_contest/part_019_1262615_to_1273376.parquet\n"
     ]
    },
    {
     "output_type": "display_data",
     "data": {
      "text/plain": "Reading dataset with pandas:   0%|          | 0/10 [00:00<?, ?it/s]",
      "application/vnd.jupyter.widget-view+json": {
       "version_major": 2,
       "version_minor": 0,
       "model_id": "bda2bfae180d44b1be25b423e689505d"
      }
     },
     "metadata": {}
    },
    {
     "output_type": "display_data",
     "data": {
      "text/plain": "Extracting buckets:   0%|          | 0/100 [00:00<?, ?it/s]",
      "application/vnd.jupyter.widget-view+json": {
       "version_major": 2,
       "version_minor": 0,
       "model_id": "cdf2d43f24f84c33956a0c2d9fdc103c"
      }
     },
     "metadata": {}
    },
    {
     "output_type": "stream",
     "name": "stderr",
     "text": [
      "Transforming transactions data:  40%|████      | 2/5 [02:23<03:35, 71.86s/it]Reading chunks:\n",
      "\n",
      "/media/DATA/AlfaBattle/test_transactions_contest/part_020_1273377_to_1283831.parquet\n",
      "/media/DATA/AlfaBattle/test_transactions_contest/part_021_1283832_to_1294494.parquet\n",
      "/media/DATA/AlfaBattle/test_transactions_contest/part_022_1294495_to_1304964.parquet\n",
      "/media/DATA/AlfaBattle/test_transactions_contest/part_023_1304965_to_1314698.parquet\n",
      "/media/DATA/AlfaBattle/test_transactions_contest/part_024_1314699_to_1324518.parquet\n",
      "/media/DATA/AlfaBattle/test_transactions_contest/part_025_1324519_to_1334901.parquet\n",
      "/media/DATA/AlfaBattle/test_transactions_contest/part_026_1334902_to_1345587.parquet\n",
      "/media/DATA/AlfaBattle/test_transactions_contest/part_027_1345588_to_1355874.parquet\n",
      "/media/DATA/AlfaBattle/test_transactions_contest/part_028_1355875_to_1366314.parquet\n",
      "/media/DATA/AlfaBattle/test_transactions_contest/part_029_1366315_to_1376991.parquet\n"
     ]
    },
    {
     "output_type": "display_data",
     "data": {
      "text/plain": "Reading dataset with pandas:   0%|          | 0/10 [00:00<?, ?it/s]",
      "application/vnd.jupyter.widget-view+json": {
       "version_major": 2,
       "version_minor": 0,
       "model_id": "c401bf7c2a18423f833a9c2ab7308ced"
      }
     },
     "metadata": {}
    },
    {
     "output_type": "display_data",
     "data": {
      "text/plain": "Extracting buckets:   0%|          | 0/100 [00:00<?, ?it/s]",
      "application/vnd.jupyter.widget-view+json": {
       "version_major": 2,
       "version_minor": 0,
       "model_id": "1ef731f3e14e4da186f680506ac05182"
      }
     },
     "metadata": {}
    },
    {
     "output_type": "stream",
     "name": "stderr",
     "text": [
      "Transforming transactions data:  60%|██████    | 3/5 [03:32<02:21, 70.84s/it]Reading chunks:\n",
      "\n",
      "/media/DATA/AlfaBattle/test_transactions_contest/part_030_1376992_to_1386419.parquet\n",
      "/media/DATA/AlfaBattle/test_transactions_contest/part_031_1386420_to_1395884.parquet\n",
      "/media/DATA/AlfaBattle/test_transactions_contest/part_032_1395885_to_1405390.parquet\n",
      "/media/DATA/AlfaBattle/test_transactions_contest/part_033_1405391_to_1416489.parquet\n",
      "/media/DATA/AlfaBattle/test_transactions_contest/part_034_1416492_to_1426763.parquet\n",
      "/media/DATA/AlfaBattle/test_transactions_contest/part_035_1426764_to_1436400.parquet\n",
      "/media/DATA/AlfaBattle/test_transactions_contest/part_036_1436401_to_1448080.parquet\n",
      "/media/DATA/AlfaBattle/test_transactions_contest/part_037_1448081_to_1459730.parquet\n",
      "/media/DATA/AlfaBattle/test_transactions_contest/part_038_1459731_to_1470134.parquet\n",
      "/media/DATA/AlfaBattle/test_transactions_contest/part_039_1470135_to_1479802.parquet\n"
     ]
    },
    {
     "output_type": "display_data",
     "data": {
      "text/plain": "Reading dataset with pandas:   0%|          | 0/10 [00:00<?, ?it/s]",
      "application/vnd.jupyter.widget-view+json": {
       "version_major": 2,
       "version_minor": 0,
       "model_id": "865a81c30a054272b674da8390dbe9e8"
      }
     },
     "metadata": {}
    },
    {
     "output_type": "display_data",
     "data": {
      "text/plain": "Extracting buckets:   0%|          | 0/100 [00:00<?, ?it/s]",
      "application/vnd.jupyter.widget-view+json": {
       "version_major": 2,
       "version_minor": 0,
       "model_id": "056e3ec30e244195b82f7b499a404af6"
      }
     },
     "metadata": {}
    },
    {
     "output_type": "stream",
     "name": "stderr",
     "text": [
      "Transforming transactions data:  80%|████████  | 4/5 [04:55<01:15, 75.44s/it]Reading chunks:\n",
      "\n",
      "/media/DATA/AlfaBattle/test_transactions_contest/part_040_1479803_to_1489232.parquet\n",
      "/media/DATA/AlfaBattle/test_transactions_contest/part_041_1489233_to_1499712.parquet\n",
      "/media/DATA/AlfaBattle/test_transactions_contest/part_042_1499713_to_1510447.parquet\n",
      "/media/DATA/AlfaBattle/test_transactions_contest/part_043_1510448_to_1520793.parquet\n",
      "/media/DATA/AlfaBattle/test_transactions_contest/part_044_1520794_to_1531282.parquet\n",
      "/media/DATA/AlfaBattle/test_transactions_contest/part_045_1531283_to_1541445.parquet\n",
      "/media/DATA/AlfaBattle/test_transactions_contest/part_046_1541446_to_1551040.parquet\n",
      "/media/DATA/AlfaBattle/test_transactions_contest/part_047_1551041_to_1560328.parquet\n",
      "/media/DATA/AlfaBattle/test_transactions_contest/part_048_1560329_to_1570341.parquet\n",
      "/media/DATA/AlfaBattle/test_transactions_contest/part_049_1570342_to_1580442.parquet\n"
     ]
    },
    {
     "output_type": "display_data",
     "data": {
      "text/plain": "Reading dataset with pandas:   0%|          | 0/10 [00:00<?, ?it/s]",
      "application/vnd.jupyter.widget-view+json": {
       "version_major": 2,
       "version_minor": 0,
       "model_id": "f82e22af9e434d4790ecf713c0a65c12"
      }
     },
     "metadata": {}
    },
    {
     "output_type": "display_data",
     "data": {
      "text/plain": "Extracting buckets:   0%|          | 0/100 [00:00<?, ?it/s]",
      "application/vnd.jupyter.widget-view+json": {
       "version_major": 2,
       "version_minor": 0,
       "model_id": "64b8d9f326b14d8888237cf61712b2f6"
      }
     },
     "metadata": {}
    },
    {
     "output_type": "stream",
     "name": "stderr",
     "text": [
      "Transforming transactions data: 100%|██████████| 5/5 [06:15<00:00, 75.18s/it]\n"
     ]
    }
   ],
   "source": [
    "create_buckets_from_transactions(TEST_TRANSACTIONS_PATH, \n",
    "                                save_to_path=PICKLE_VAL_TEST_BUCKET_PATH, frame_with_ids=test_frame, \n",
    "                                 num_parts_to_preprocess_at_once=10, num_parts_total=50, has_target=False)"
   ]
  },
  {
   "cell_type": "code",
   "execution_count": 15,
   "metadata": {},
   "outputs": [
    {
     "output_type": "execute_result",
     "data": {
      "text/plain": [
       "['/media/DATA/AlfaBattle/val_test_buckets/processed_chunk_000.pkl',\n",
       " '/media/DATA/AlfaBattle/val_test_buckets/processed_chunk_001.pkl',\n",
       " '/media/DATA/AlfaBattle/val_test_buckets/processed_chunk_002.pkl',\n",
       " '/media/DATA/AlfaBattle/val_test_buckets/processed_chunk_003.pkl',\n",
       " '/media/DATA/AlfaBattle/val_test_buckets/processed_chunk_004.pkl']"
      ]
     },
     "metadata": {},
     "execution_count": 15
    }
   ],
   "source": [
    "path_to_test_dataset = PICKLE_VAL_TEST_BUCKET_PATH\n",
    "dir_with_test_datasets = os.listdir(path_to_test_dataset)\n",
    "dataset_test = sorted([os.path.join(path_to_test_dataset, x) for x in dir_with_test_datasets])\n",
    "\n",
    "dataset_test"
   ]
  },
  {
   "cell_type": "markdown",
   "metadata": {},
   "source": [
    "* Отдельный вопрос, какую из построенных моделей использовать для того, чтобы делать предсказания на тест. Можно выбирать лучшую по early_stopping. В таком случае есть риск, что мы подгонимся под валидационную выборку, особенно если она не является очень репрезентативной, однако это самый базовый вариант (используем его). Можно делать разные версии ансамблирования, используя веса с разных эпох. Такой подход требует дополнительного кода (обязательно попробуйте его!). Наконец, можно выбирать такую модель, которая показывает хорошие результаты на валидации и в то же время, не слишком переучена под train выборку."
   ]
  },
  {
   "cell_type": "code",
   "execution_count": 30,
   "metadata": {},
   "outputs": [
    {
     "output_type": "stream",
     "name": "stdout",
     "text": [
      "best_checkpoint.pt.data-00000-of-00001\tepoch_4_val_0.789.hdf5\nbest_checkpoint.pt.index\t\tepoch_5_val_0.794.hdf5\ncheckpoint\t\t\t\tepoch_6_val_0.789.hdf5\nepoch_1_val_0.774.hdf5\t\t\tepoch_7_val_0.789.hdf5\nepoch_2_val_0.780.hdf5\t\t\tepoch_8_val_0.783.hdf5\nepoch_3_val_0.785.hdf5\n"
     ]
    }
   ],
   "source": [
    "!ls {CHECKPOINTS_PATH}"
   ]
  },
  {
   "cell_type": "code",
   "execution_count": 43,
   "metadata": {},
   "outputs": [],
   "source": [
    "model.load_weights(os.path.join(path_to_checkpoints, 'epoch_5_val_0.794.hdf5'))"
   ]
  },
  {
   "cell_type": "code",
   "execution_count": 44,
   "metadata": {},
   "outputs": [],
   "source": [
    "test_preds = inference(model, dataset_test, batch_size=128)"
   ]
  },
  {
   "cell_type": "code",
   "execution_count": 45,
   "metadata": {},
   "outputs": [
    {
     "output_type": "execute_result",
     "data": {
      "text/plain": [
       "    app_id     score\n",
       "0  1063655  0.031375\n",
       "1  1063672  0.045706\n",
       "2  1063694  0.016025\n",
       "3  1063709  0.022381\n",
       "4  1063715  0.054121"
      ],
      "text/html": "<div>\n<style scoped>\n    .dataframe tbody tr th:only-of-type {\n        vertical-align: middle;\n    }\n\n    .dataframe tbody tr th {\n        vertical-align: top;\n    }\n\n    .dataframe thead th {\n        text-align: right;\n    }\n</style>\n<table border=\"1\" class=\"dataframe\">\n  <thead>\n    <tr style=\"text-align: right;\">\n      <th></th>\n      <th>app_id</th>\n      <th>score</th>\n    </tr>\n  </thead>\n  <tbody>\n    <tr>\n      <th>0</th>\n      <td>1063655</td>\n      <td>0.031375</td>\n    </tr>\n    <tr>\n      <th>1</th>\n      <td>1063672</td>\n      <td>0.045706</td>\n    </tr>\n    <tr>\n      <th>2</th>\n      <td>1063694</td>\n      <td>0.016025</td>\n    </tr>\n    <tr>\n      <th>3</th>\n      <td>1063709</td>\n      <td>0.022381</td>\n    </tr>\n    <tr>\n      <th>4</th>\n      <td>1063715</td>\n      <td>0.054121</td>\n    </tr>\n  </tbody>\n</table>\n</div>"
     },
     "metadata": {},
     "execution_count": 45
    }
   ],
   "source": [
    "test_preds.head()"
   ]
  },
  {
   "cell_type": "code",
   "execution_count": 46,
   "metadata": {},
   "outputs": [],
   "source": [
    "test_preds.to_csv('rnn_baseline_submission.csv', index=None) # ~ 0.750 на public test"
   ]
  },
  {
   "cell_type": "code",
   "execution_count": null,
   "metadata": {},
   "outputs": [],
   "source": []
  }
 ],
 "metadata": {
  "kernelspec": {
   "display_name": "Python 3",
   "language": "python",
   "name": "python3"
  },
  "language_info": {
   "codemirror_mode": {
    "name": "ipython",
    "version": 3
   },
   "file_extension": ".py",
   "mimetype": "text/x-python",
   "name": "python",
   "nbconvert_exporter": "python",
   "pygments_lexer": "ipython3",
   "version": "3.8.5-final"
  }
 },
 "nbformat": 4,
 "nbformat_minor": 4
}