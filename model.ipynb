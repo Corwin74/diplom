{
 "metadata": {
  "language_info": {
   "codemirror_mode": {
    "name": "ipython",
    "version": 3
   },
   "file_extension": ".py",
   "mimetype": "text/x-python",
   "name": "python",
   "nbconvert_exporter": "python",
   "pygments_lexer": "ipython3",
   "version": "3.8.5-final"
  },
  "orig_nbformat": 2,
  "kernelspec": {
   "name": "python3",
   "display_name": "Python 3",
   "language": "python"
  }
 },
 "nbformat": 4,
 "nbformat_minor": 2,
 "cells": [
  {
   "source": [
    "### 1. Import"
   ],
   "cell_type": "markdown",
   "metadata": {}
  },
  {
   "cell_type": "code",
   "execution_count": 1,
   "metadata": {},
   "outputs": [],
   "source": [
    "%load_ext autoreload\n",
    "%autoreload 2\n",
    "\n",
    "import tensorflow as tf\n",
    "import keras.backend as K\n",
    "import os\n",
    "import pandas as pd\n",
    "import sys\n",
    "import pickle\n",
    "import numpy as np\n",
    "\n",
    "from tensorflow import config\n",
    "from tensorflow import keras\n",
    "from tensorflow.keras import layers as L\n",
    "from tensorflow.keras import Model\n",
    "\n",
    "from sklearn.model_selection import train_test_split\n",
    "from tqdm import tqdm\n",
    "\n",
    "# добавим корневую папку, в ней лежат все необходимые полезные функции для обработки данных\n",
    "sys.path.append('utils/')"
   ]
  },
  {
   "cell_type": "code",
   "execution_count": 2,
   "metadata": {},
   "outputs": [
    {
     "output_type": "stream",
     "name": "stdout",
     "text": [
      "1 Physical GPUs, 1 Logical GPUs\n"
     ]
    }
   ],
   "source": [
    "# Эта ячейка нужна чтобы TensorFlow правильно работал с памятью видеокарты\n",
    "gpus = config.experimental.list_physical_devices('GPU')\n",
    "if gpus:\n",
    "  try:\n",
    "    # Currently, memory growth needs to be the same across GPUs\n",
    "    for gpu in gpus:\n",
    "      config.experimental.set_memory_growth(gpu, True)\n",
    "    logical_gpus = config.experimental.list_logical_devices('GPU')\n",
    "    print(len(gpus), \"Physical GPUs,\", len(logical_gpus), \"Logical GPUs\")\n",
    "  except RuntimeError as e:\n",
    "    # Memory growth must be set before GPUs have been initialized\n",
    "    print(e)"
   ]
  },
  {
   "cell_type": "code",
   "execution_count": 3,
   "metadata": {},
   "outputs": [],
   "source": [
    "TRAIN_TRANSACTIONS_PATH = '/media/DATA/AlfaBattle/train_transactions_contest/'\n",
    "TEST_TRANSACTIONS_PATH = '/media/DATA/AlfaBattle/test_transactions_contest/'\n",
    "\n",
    "TRAIN_TARGET_PATH = '/media/DATA/AlfaBattle/train_target.csv'\n",
    "PRE_TRANSACTIONS_PATH = '/media/DATA/AlfaBattle//preprocessed_transactions/'\n",
    "PRE_TEST_TRANSACTIONS_PATH = '/media/DATA/AlfaBattle/preprocessed_test_transactions/'\n",
    "PICKLE_VAL_BUCKET_PATH = '/media/DATA/AlfaBattle/val_buckets/'\n",
    "PICKLE_VAL_TRAIN_BUCKET_PATH = '/media/DATA/AlfaBattle/val_train_buckets/'\n",
    "PICKLE_VAL_TEST_BUCKET_PATH = '/media/DATA/AlfaBattle/val_test_buckets/'\n",
    "CHECKPOINTS_ADV_PATH = '/media/DATA/AlfaBattle/checkpoints/tf_advanced_baseline/'"
   ]
  },
  {
   "cell_type": "code",
   "execution_count": 4,
   "metadata": {},
   "outputs": [
    {
     "output_type": "execute_result",
     "data": {
      "text/plain": [
       "['/media/DATA/AlfaBattle/val_buckets/processed_chunk_000.pkl',\n",
       " '/media/DATA/AlfaBattle/val_buckets/processed_chunk_001.pkl',\n",
       " '/media/DATA/AlfaBattle/val_buckets/processed_chunk_002.pkl',\n",
       " '/media/DATA/AlfaBattle/val_buckets/processed_chunk_003.pkl',\n",
       " '/media/DATA/AlfaBattle/val_buckets/processed_chunk_004.pkl',\n",
       " '/media/DATA/AlfaBattle/val_buckets/processed_chunk_005.pkl',\n",
       " '/media/DATA/AlfaBattle/val_buckets/processed_chunk_006.pkl',\n",
       " '/media/DATA/AlfaBattle/val_buckets/processed_chunk_007.pkl',\n",
       " '/media/DATA/AlfaBattle/val_buckets/processed_chunk_008.pkl',\n",
       " '/media/DATA/AlfaBattle/val_buckets/processed_chunk_009.pkl']"
      ]
     },
     "metadata": {},
     "execution_count": 4
    }
   ],
   "source": [
    "path_to_dataset = PICKLE_VAL_BUCKET_PATH\n",
    "dir_with_datasets = os.listdir(path_to_dataset)\n",
    "dataset_val = sorted([os.path.join(path_to_dataset, x) for x in dir_with_datasets])\n",
    "dataset_val"
   ]
  },
  {
   "cell_type": "code",
   "execution_count": 5,
   "metadata": {},
   "outputs": [
    {
     "output_type": "execute_result",
     "data": {
      "text/plain": [
       "['/media/DATA/AlfaBattle/val_train_buckets/processed_chunk_000.pkl',\n",
       " '/media/DATA/AlfaBattle/val_train_buckets/processed_chunk_001.pkl',\n",
       " '/media/DATA/AlfaBattle/val_train_buckets/processed_chunk_002.pkl',\n",
       " '/media/DATA/AlfaBattle/val_train_buckets/processed_chunk_003.pkl',\n",
       " '/media/DATA/AlfaBattle/val_train_buckets/processed_chunk_004.pkl',\n",
       " '/media/DATA/AlfaBattle/val_train_buckets/processed_chunk_005.pkl',\n",
       " '/media/DATA/AlfaBattle/val_train_buckets/processed_chunk_006.pkl',\n",
       " '/media/DATA/AlfaBattle/val_train_buckets/processed_chunk_007.pkl',\n",
       " '/media/DATA/AlfaBattle/val_train_buckets/processed_chunk_008.pkl',\n",
       " '/media/DATA/AlfaBattle/val_train_buckets/processed_chunk_009.pkl']"
      ]
     },
     "metadata": {},
     "execution_count": 5
    }
   ],
   "source": [
    "path_to_dataset = PICKLE_VAL_TRAIN_BUCKET_PATH\n",
    "dir_with_datasets = os.listdir(path_to_dataset)\n",
    "dataset_train = sorted([os.path.join(path_to_dataset, x) for x in dir_with_datasets])\n",
    "dataset_train"
   ]
  },
  {
   "source": [
    "* Для создания модели использоватся фреймворк `tensorflow`.\n",
    "\n",
    "Используются следующие функции:\n",
    "\n",
    "*  `data_generators.batches_generator` - функция-генератор, итеративно возвращает батчи. В зависимости от флага `is_train` может быть использована для генерации батчей на train/val/test стадию.\n",
    "* функция `tf_training.train_epoch` - обучает модель одну эпоху.\n",
    "* функция `tf_training.eval_model` - проверяет качество модели на отложенной выборке и возвращает roc_auc_score.\n",
    "* функция `tf_training.inference` - делает предикты на новых данных и готовит фрейм для проверяющей системы.\n",
    "* класс `training_aux.EarlyStopping` - реализует early_stopping, сохраняя лучшую модель. "
   ],
   "cell_type": "markdown",
   "metadata": {}
  },
  {
   "cell_type": "code",
   "execution_count": 6,
   "metadata": {},
   "outputs": [],
   "source": [
    "from data_generators import batches_generator, transaction_features\n",
    "from tf_training import train_epoch, eval_model, inference\n",
    "from training_aux import EarlyStopping"
   ]
  },
  {
   "source": [
    "* Все признаки в модели будут категориальными. Для их представления в модели используются категориальные эмбеддинги. Для этого нужно каждому категориальному признаку задать размерность латентного пространства. Размерность считается по [формуле](https://forums.fast.ai/t/size-of-embedding-for-categorical-variables/42608) из библиотеки `fast.ai`. "
   ],
   "cell_type": "markdown",
   "metadata": {}
  },
  {
   "cell_type": "code",
   "execution_count": 7,
   "metadata": {},
   "outputs": [],
   "source": [
    "embedding_projections = {'currency': (11, 6),\n",
    "                        'operation_kind': (7, 5),\n",
    "                        'card_type': (175, 29),\n",
    "                        'operation_type': (22, 9),\n",
    "                        'operation_type_group': (4, 3),\n",
    "                        'ecommerce_flag': (3, 3),\n",
    "                        'payment_system': (7, 5),\n",
    "                        'income_flag': (3, 3),\n",
    "                        'mcc': (108, 22),\n",
    "                        'country': (24, 9),\n",
    "                        'city': (163, 28),\n",
    "                        'mcc_category': (28, 10),\n",
    "                        'day_of_week': (7, 5),\n",
    "                        'hour': (24, 9),\n",
    "                        'weekofyear': (53, 15),\n",
    "                        'amnt': (10, 6),\n",
    "                        'days_before': (23, 9),\n",
    "                        'hour_diff': (10, 6),\n",
    "                        'product': (5, 4)}"
   ]
  },
  {
   "source": [
    "### 2. Создание модели"
   ],
   "cell_type": "markdown",
   "metadata": {}
  },
  {
   "source": [
    "* Реализуем модель. Все входные признаки представим в виде эмбеддингов, сконкатенируем, чтобы получить векторное представление транзакции. Используем SpatialDropout, чтобы регуляризовать эмбеддинги. Подадим последовательности в `BiGRU` рекуррентную сеть. Используем все скрытые состояния сети, чтобы получить агрегированное представление об истории транзакции - пропустим все скрытые состояния `BiGRU` через `AvgPooling` и через `MaxPooling`. Представим признак `product` в виде отдельного эмбеддинга. Сконкатенируем его с результатами пулингов. На основе такого входа построим небольшой `MLP`, выступающий классификатором для целевой задачи. Используем градиентный спуск, чтобы решить оптимизационную задачу."
   ],
   "cell_type": "markdown",
   "metadata": {}
  },
  {
   "cell_type": "code",
   "execution_count": 8,
   "metadata": {},
   "outputs": [],
   "source": [
    "from data_generators import batches_generator, transaction_features\n",
    "from tf_training import train_epoch, eval_model, inference\n",
    "from training_aux import EarlyStopping"
   ]
  },
  {
   "cell_type": "code",
   "execution_count": 9,
   "metadata": {},
   "outputs": [],
   "source": [
    "def build_transactions_rnn(transactions_cat_features, embedding_projections, product_col_name='product', \n",
    "                          rnn_units=128, classifier_units=32, optimizer=None):\n",
    "    if not optimizer:\n",
    "        optimizer = keras.optimizers.Adam(lr=1e-3)\n",
    "        \n",
    "    inputs = []\n",
    "    cat_embeds = []\n",
    "    \n",
    "    for feature_name in transactions_cat_features:\n",
    "        inp = L.Input(shape=(None, ), dtype='uint32', name=f'input_{feature_name}')\n",
    "        inputs.append(inp)\n",
    "        source_size, projection = embedding_projections[feature_name]\n",
    "        emb = L.Embedding(source_size+1, projection, trainable=True, mask_zero=False, name=f'embedding_{feature_name}')(inp)\n",
    "        cat_embeds.append(emb)\n",
    "    \n",
    "    # product feature\n",
    "    inp = L.Input(shape=(1, ), dtype='uint32', name=f'input_product')\n",
    "    inputs.append(inp)\n",
    "    source_size, projection = embedding_projections['product']\n",
    "    product_emb = L.Embedding(source_size+1, projection, trainable=True, mask_zero=False, name=f'embedding_product')(inp)\n",
    "    product_emb_reshape = L.Reshape((projection, ))(product_emb)\n",
    "    \n",
    "    concated_cat_embeds = L.concatenate(cat_embeds)\n",
    "    \n",
    "    dropout_embeds = L.SpatialDropout1D(0.05)(concated_cat_embeds)\n",
    " \n",
    "    sequences = L.Bidirectional(L.GRU(units=rnn_units, return_sequences=True))(dropout_embeds)\n",
    "    \n",
    "    pooled_avg_sequences = L.GlobalAveragePooling1D()(sequences)\n",
    "    pooled_max_sequences = L.GlobalMaxPooling1D()(sequences)\n",
    "    \n",
    "    concated = L.concatenate([pooled_avg_sequences, pooled_max_sequences, product_emb_reshape])\n",
    "    \n",
    "    dense_intermediate = L.Dense(classifier_units, activation='relu', \n",
    "                                 kernel_regularizer=keras.regularizers.L1L2(1e-7, 1e-5))(concated)\n",
    "    \n",
    "    proba = L.Dense(1, activation='sigmoid')(dense_intermediate)\n",
    "    \n",
    "    model = Model(inputs=inputs, outputs=proba)\n",
    "    model.compile(loss='binary_crossentropy', optimizer=optimizer)\n",
    "    return model"
   ]
  },
  {
   "source": [
    "### 3. Training"
   ],
   "cell_type": "markdown",
   "metadata": {}
  },
  {
   "cell_type": "code",
   "execution_count": 10,
   "metadata": {},
   "outputs": [],
   "source": [
    "! rm -r {CHECKPOINTS_ADV_PATH}\n",
    "! mkdir {CHECKPOINTS_ADV_PATH}"
   ]
  },
  {
   "source": [
    "* Для того, чтобы детектировать переобучение используем EarlyStopping."
   ],
   "cell_type": "markdown",
   "metadata": {}
  },
  {
   "cell_type": "code",
   "execution_count": 11,
   "metadata": {},
   "outputs": [],
   "source": [
    "path_to_checkpoints = CHECKPOINTS_ADV_PATH\n",
    "es = EarlyStopping(patience=3, mode='max', verbose=True, save_path=os.path.join(path_to_checkpoints, 'best_checkpoint.pt'), \n",
    "                   metric_name='ROC-AUC', save_format='tf')"
   ]
  },
  {
   "cell_type": "code",
   "execution_count": 12,
   "metadata": {},
   "outputs": [],
   "source": [
    "num_epochs = 20\n",
    "train_batch_size = 128\n",
    "val_batch_szie = 128"
   ]
  },
  {
   "cell_type": "code",
   "execution_count": 13,
   "metadata": {},
   "outputs": [],
   "source": [
    "model = build_transactions_rnn(transaction_features, embedding_projections, classifier_units=128)"
   ]
  },
  {
   "cell_type": "code",
   "execution_count": 14,
   "metadata": {},
   "outputs": [
    {
     "output_type": "stream",
     "name": "stdout",
     "text": [
      "Model: \"model\"\n__________________________________________________________________________________________________\nLayer (type)                    Output Shape         Param #     Connected to                     \n==================================================================================================\ninput_currency (InputLayer)     [(None, None)]       0                                            \n__________________________________________________________________________________________________\ninput_operation_kind (InputLaye [(None, None)]       0                                            \n__________________________________________________________________________________________________\ninput_card_type (InputLayer)    [(None, None)]       0                                            \n__________________________________________________________________________________________________\ninput_operation_type (InputLaye [(None, None)]       0                                            \n__________________________________________________________________________________________________\ninput_operation_type_group (Inp [(None, None)]       0                                            \n__________________________________________________________________________________________________\ninput_ecommerce_flag (InputLaye [(None, None)]       0                                            \n__________________________________________________________________________________________________\ninput_payment_system (InputLaye [(None, None)]       0                                            \n__________________________________________________________________________________________________\ninput_income_flag (InputLayer)  [(None, None)]       0                                            \n__________________________________________________________________________________________________\ninput_mcc (InputLayer)          [(None, None)]       0                                            \n__________________________________________________________________________________________________\ninput_country (InputLayer)      [(None, None)]       0                                            \n__________________________________________________________________________________________________\ninput_city (InputLayer)         [(None, None)]       0                                            \n__________________________________________________________________________________________________\ninput_mcc_category (InputLayer) [(None, None)]       0                                            \n__________________________________________________________________________________________________\ninput_day_of_week (InputLayer)  [(None, None)]       0                                            \n__________________________________________________________________________________________________\ninput_hour (InputLayer)         [(None, None)]       0                                            \n__________________________________________________________________________________________________\ninput_weekofyear (InputLayer)   [(None, None)]       0                                            \n__________________________________________________________________________________________________\ninput_amnt (InputLayer)         [(None, None)]       0                                            \n__________________________________________________________________________________________________\ninput_days_before (InputLayer)  [(None, None)]       0                                            \n__________________________________________________________________________________________________\ninput_hour_diff (InputLayer)    [(None, None)]       0                                            \n__________________________________________________________________________________________________\nembedding_currency (Embedding)  (None, None, 6)      72          input_currency[0][0]             \n__________________________________________________________________________________________________\nembedding_operation_kind (Embed (None, None, 5)      40          input_operation_kind[0][0]       \n__________________________________________________________________________________________________\nembedding_card_type (Embedding) (None, None, 29)     5104        input_card_type[0][0]            \n__________________________________________________________________________________________________\nembedding_operation_type (Embed (None, None, 9)      207         input_operation_type[0][0]       \n__________________________________________________________________________________________________\nembedding_operation_type_group  (None, None, 3)      15          input_operation_type_group[0][0] \n__________________________________________________________________________________________________\nembedding_ecommerce_flag (Embed (None, None, 3)      12          input_ecommerce_flag[0][0]       \n__________________________________________________________________________________________________\nembedding_payment_system (Embed (None, None, 5)      40          input_payment_system[0][0]       \n__________________________________________________________________________________________________\nembedding_income_flag (Embeddin (None, None, 3)      12          input_income_flag[0][0]          \n__________________________________________________________________________________________________\nembedding_mcc (Embedding)       (None, None, 22)     2398        input_mcc[0][0]                  \n__________________________________________________________________________________________________\nembedding_country (Embedding)   (None, None, 9)      225         input_country[0][0]              \n__________________________________________________________________________________________________\nembedding_city (Embedding)      (None, None, 28)     4592        input_city[0][0]                 \n__________________________________________________________________________________________________\nembedding_mcc_category (Embeddi (None, None, 10)     290         input_mcc_category[0][0]         \n__________________________________________________________________________________________________\nembedding_day_of_week (Embeddin (None, None, 5)      40          input_day_of_week[0][0]          \n__________________________________________________________________________________________________\nembedding_hour (Embedding)      (None, None, 9)      225         input_hour[0][0]                 \n__________________________________________________________________________________________________\nembedding_weekofyear (Embedding (None, None, 15)     810         input_weekofyear[0][0]           \n__________________________________________________________________________________________________\nembedding_amnt (Embedding)      (None, None, 6)      66          input_amnt[0][0]                 \n__________________________________________________________________________________________________\nembedding_days_before (Embeddin (None, None, 9)      216         input_days_before[0][0]          \n__________________________________________________________________________________________________\nembedding_hour_diff (Embedding) (None, None, 6)      66          input_hour_diff[0][0]            \n__________________________________________________________________________________________________\nconcatenate (Concatenate)       (None, None, 182)    0           embedding_currency[0][0]         \n                                                                 embedding_operation_kind[0][0]   \n                                                                 embedding_card_type[0][0]        \n                                                                 embedding_operation_type[0][0]   \n                                                                 embedding_operation_type_group[0]\n                                                                 embedding_ecommerce_flag[0][0]   \n                                                                 embedding_payment_system[0][0]   \n                                                                 embedding_income_flag[0][0]      \n                                                                 embedding_mcc[0][0]              \n                                                                 embedding_country[0][0]          \n                                                                 embedding_city[0][0]             \n                                                                 embedding_mcc_category[0][0]     \n                                                                 embedding_day_of_week[0][0]      \n                                                                 embedding_hour[0][0]             \n                                                                 embedding_weekofyear[0][0]       \n                                                                 embedding_amnt[0][0]             \n                                                                 embedding_days_before[0][0]      \n                                                                 embedding_hour_diff[0][0]        \n__________________________________________________________________________________________________\nspatial_dropout1d (SpatialDropo (None, None, 182)    0           concatenate[0][0]                \n__________________________________________________________________________________________________\ninput_product (InputLayer)      [(None, 1)]          0                                            \n__________________________________________________________________________________________________\nbidirectional (Bidirectional)   (None, None, 256)    239616      spatial_dropout1d[0][0]          \n__________________________________________________________________________________________________\nembedding_product (Embedding)   (None, 1, 4)         24          input_product[0][0]              \n__________________________________________________________________________________________________\nglobal_average_pooling1d (Globa (None, 256)          0           bidirectional[0][0]              \n__________________________________________________________________________________________________\nglobal_max_pooling1d (GlobalMax (None, 256)          0           bidirectional[0][0]              \n__________________________________________________________________________________________________\nreshape (Reshape)               (None, 4)            0           embedding_product[0][0]          \n__________________________________________________________________________________________________\nconcatenate_1 (Concatenate)     (None, 516)          0           global_average_pooling1d[0][0]   \n                                                                 global_max_pooling1d[0][0]       \n                                                                 reshape[0][0]                    \n__________________________________________________________________________________________________\ndense (Dense)                   (None, 128)          66176       concatenate_1[0][0]              \n__________________________________________________________________________________________________\ndense_1 (Dense)                 (None, 1)            129         dense[0][0]                      \n==================================================================================================\nTotal params: 320,375\nTrainable params: 320,375\nNon-trainable params: 0\n__________________________________________________________________________________________________\n"
     ]
    }
   ],
   "source": [
    "model.summary()"
   ]
  },
  {
   "source": [
    "* Запустим цикл обучения, каждую эпоху будем логировать лосс, а так же roc-auc на валидации и на обучении. Будем сохрнаять веса после каждой эпохи, а так же лучшие с помощью early_stopping."
   ],
   "cell_type": "markdown",
   "metadata": {}
  },
  {
   "cell_type": "code",
   "execution_count": 16,
   "metadata": {},
   "outputs": [
    {
     "output_type": "stream",
     "name": "stdout",
     "text": [
      "Starting epoch 1\n",
      "7270/7270 [==============================] - 413s 56ms/step - loss: 0.1234\n",
      "Validation ROC-AUC improved (-inf --> 0.783979).  Saving model ...\n",
      "Epoch 1 completed. Train roc-auc: 0.784276324430998, Val roc-auc: 0.783979471044146\n",
      "Starting epoch 2\n",
      "Epoch 2/2\n",
      "7270/7270 [==============================] - 361s 50ms/step - loss: 0.1110\n",
      "Validation ROC-AUC improved (0.783979 --> 0.785861).  Saving model ...\n",
      "Epoch 2 completed. Train roc-auc: 0.7927717334729095, Val roc-auc: 0.7858613877468639\n",
      "Starting epoch 3\n",
      "Epoch 3/3\n",
      "7270/7270 [==============================] - 364s 50ms/step - loss: 0.1093\n",
      "No imporvement in Validation ROC-AUC. Current: 0.785640. Current best: 0.785861\n",
      "EarlyStopping counter: 1 out of 3\n",
      "Epoch 3 completed. Train roc-auc: 0.7994303703970583, Val roc-auc: 0.7856402714550182\n",
      "Starting epoch 4\n",
      "Epoch 4/4\n",
      "7270/7270 [==============================] - 369s 51ms/step - loss: 0.1074\n",
      "Validation ROC-AUC improved (0.785861 --> 0.799252).  Saving model ...\n",
      "Epoch 4 completed. Train roc-auc: 0.8223364496050773, Val roc-auc: 0.7992517745201141\n",
      "Starting epoch 5\n",
      "Epoch 5/5\n",
      "7270/7270 [==============================] - 347s 48ms/step - loss: 0.1058\n",
      "Validation ROC-AUC improved (0.799252 --> 0.800464).  Saving model ...\n",
      "Epoch 5 completed. Train roc-auc: 0.8364785082784587, Val roc-auc: 0.8004635871431498\n",
      "Starting epoch 6\n",
      "Epoch 6/6\n",
      "7270/7270 [==============================] - 341s 47ms/step - loss: 0.1038\n",
      "Validation ROC-AUC improved (0.800464 --> 0.800577).  Saving model ...\n",
      "Epoch 6 completed. Train roc-auc: 0.854021775601541, Val roc-auc: 0.8005769569145817\n",
      "Starting epoch 7\n",
      "Epoch 7/7\n",
      "7270/7270 [==============================] - 370s 51ms/step - loss: 0.1014\n",
      "No imporvement in Validation ROC-AUC. Current: 0.793826. Current best: 0.800577\n",
      "EarlyStopping counter: 1 out of 3\n",
      "Epoch 7 completed. Train roc-auc: 0.8692060236009879, Val roc-auc: 0.7938256496902788\n",
      "Starting epoch 8\n",
      "Epoch 8/8\n",
      "7270/7270 [==============================] - 361s 50ms/step - loss: 0.0981\n",
      "No imporvement in Validation ROC-AUC. Current: 0.785110. Current best: 0.800577\n",
      "EarlyStopping counter: 2 out of 3\n",
      "Epoch 8 completed. Train roc-auc: 0.8794069179230627, Val roc-auc: 0.7851104687053969\n",
      "Starting epoch 9\n",
      "Epoch 9/9\n",
      "7270/7270 [==============================] - 361s 50ms/step - loss: 0.0956\n",
      "No imporvement in Validation ROC-AUC. Current: 0.791269. Current best: 0.800577\n",
      "EarlyStopping counter: 3 out of 3\n",
      "Epoch 9 completed. Train roc-auc: 0.9014500410881399, Val roc-auc: 0.7912689570654925\n",
      "Early stopping reached. Stop training...\n"
     ]
    }
   ],
   "source": [
    "for epoch in range(num_epochs):\n",
    "    print(f'Starting epoch {epoch+1}')\n",
    "    train_epoch(model, dataset_train, batch_size=train_batch_size, shuffle=True, cur_epoch=epoch, \n",
    "                steps_per_epoch=7270)\n",
    "    \n",
    "    val_roc_auc = eval_model(model, dataset_val, batch_size=val_batch_szie)\n",
    "    model.save_weights(os.path.join(path_to_checkpoints, f'epoch_{epoch+1}_val_{val_roc_auc:.3f}.hdf5'))\n",
    "    \n",
    "    es(val_roc_auc, model)\n",
    "    \n",
    "    train_roc_auc = eval_model(model, dataset_train, batch_size=val_batch_szie)\n",
    "    print(f'Epoch {epoch+1} completed. Train roc-auc: {train_roc_auc}, Val roc-auc: {val_roc_auc}')\n",
    "    \n",
    "    if es.early_stop:\n",
    "        print('Early stopping reached. Stop training...')\n",
    "        break"
   ]
  },
  {
   "source": [
    "### 4. Submission"
   ],
   "cell_type": "markdown",
   "metadata": {}
  },
  {
   "cell_type": "code",
   "execution_count": 17,
   "metadata": {},
   "outputs": [
    {
     "output_type": "execute_result",
     "data": {
      "text/plain": [
       "    app_id  product\n",
       "0  1063620        0\n",
       "1  1063621        0\n",
       "2  1063622        1\n",
       "3  1063623        1\n",
       "4  1063624        2"
      ],
      "text/html": "<div>\n<style scoped>\n    .dataframe tbody tr th:only-of-type {\n        vertical-align: middle;\n    }\n\n    .dataframe tbody tr th {\n        vertical-align: top;\n    }\n\n    .dataframe thead th {\n        text-align: right;\n    }\n</style>\n<table border=\"1\" class=\"dataframe\">\n  <thead>\n    <tr style=\"text-align: right;\">\n      <th></th>\n      <th>app_id</th>\n      <th>product</th>\n    </tr>\n  </thead>\n  <tbody>\n    <tr>\n      <th>0</th>\n      <td>1063620</td>\n      <td>0</td>\n    </tr>\n    <tr>\n      <th>1</th>\n      <td>1063621</td>\n      <td>0</td>\n    </tr>\n    <tr>\n      <th>2</th>\n      <td>1063622</td>\n      <td>1</td>\n    </tr>\n    <tr>\n      <th>3</th>\n      <td>1063623</td>\n      <td>1</td>\n    </tr>\n    <tr>\n      <th>4</th>\n      <td>1063624</td>\n      <td>2</td>\n    </tr>\n  </tbody>\n</table>\n</div>"
     },
     "metadata": {},
     "execution_count": 17
    }
   ],
   "source": [
    "test_frame = pd.read_csv('/media/DATA/AlfaBattle/test_target_contest.csv')\n",
    "test_frame.head()"
   ]
  },
  {
   "cell_type": "code",
   "execution_count": 18,
   "metadata": {},
   "outputs": [
    {
     "output_type": "execute_result",
     "data": {
      "text/plain": [
       "['/media/DATA/AlfaBattle/val_test_buckets/processed_chunk_000.pkl',\n",
       " '/media/DATA/AlfaBattle/val_test_buckets/processed_chunk_001.pkl',\n",
       " '/media/DATA/AlfaBattle/val_test_buckets/processed_chunk_002.pkl',\n",
       " '/media/DATA/AlfaBattle/val_test_buckets/processed_chunk_003.pkl',\n",
       " '/media/DATA/AlfaBattle/val_test_buckets/processed_chunk_004.pkl']"
      ]
     },
     "metadata": {},
     "execution_count": 18
    }
   ],
   "source": [
    "path_to_test_dataset = PICKLE_VAL_TEST_BUCKET_PATH\n",
    "dir_with_test_datasets = os.listdir(path_to_test_dataset)\n",
    "dataset_test = sorted([os.path.join(path_to_test_dataset, x) for x in dir_with_test_datasets])\n",
    "\n",
    "dataset_test"
   ]
  },
  {
   "cell_type": "code",
   "execution_count": 19,
   "metadata": {},
   "outputs": [
    {
     "output_type": "stream",
     "name": "stdout",
     "text": [
      "best_checkpoint.pt.data-00000-of-00001\tepoch_4_val_0.799.hdf5\nbest_checkpoint.pt.index\t\tepoch_5_val_0.800.hdf5\ncheckpoint\t\t\t\tepoch_6_val_0.801.hdf5\nepoch_1_val_0.784.hdf5\t\t\tepoch_7_val_0.794.hdf5\nepoch_2_val_0.786.hdf5\t\t\tepoch_8_val_0.785.hdf5\nepoch_3_val_0.786.hdf5\t\t\tepoch_9_val_0.791.hdf5\n"
     ]
    }
   ],
   "source": [
    "path_to_checkpoints = CHECKPOINTS_ADV_PATH\n",
    "! ls $path_to_checkpoints"
   ]
  },
  {
   "cell_type": "code",
   "execution_count": 20,
   "metadata": {},
   "outputs": [],
   "source": [
    "model.load_weights(os.path.join(path_to_checkpoints, 'epoch_6_val_0.801.hdf5'))"
   ]
  },
  {
   "cell_type": "code",
   "execution_count": 22,
   "metadata": {},
   "outputs": [],
   "source": [
    "test_preds = inference(model, dataset_test, batch_size=128)"
   ]
  },
  {
   "cell_type": "code",
   "execution_count": 23,
   "metadata": {},
   "outputs": [
    {
     "output_type": "execute_result",
     "data": {
      "text/plain": [
       "    app_id     score\n",
       "0  1063655  0.010591\n",
       "1  1063672  0.061644\n",
       "2  1063694  0.016702\n",
       "3  1063709  0.064859\n",
       "4  1063715  0.015311"
      ],
      "text/html": "<div>\n<style scoped>\n    .dataframe tbody tr th:only-of-type {\n        vertical-align: middle;\n    }\n\n    .dataframe tbody tr th {\n        vertical-align: top;\n    }\n\n    .dataframe thead th {\n        text-align: right;\n    }\n</style>\n<table border=\"1\" class=\"dataframe\">\n  <thead>\n    <tr style=\"text-align: right;\">\n      <th></th>\n      <th>app_id</th>\n      <th>score</th>\n    </tr>\n  </thead>\n  <tbody>\n    <tr>\n      <th>0</th>\n      <td>1063655</td>\n      <td>0.010591</td>\n    </tr>\n    <tr>\n      <th>1</th>\n      <td>1063672</td>\n      <td>0.061644</td>\n    </tr>\n    <tr>\n      <th>2</th>\n      <td>1063694</td>\n      <td>0.016702</td>\n    </tr>\n    <tr>\n      <th>3</th>\n      <td>1063709</td>\n      <td>0.064859</td>\n    </tr>\n    <tr>\n      <th>4</th>\n      <td>1063715</td>\n      <td>0.015311</td>\n    </tr>\n  </tbody>\n</table>\n</div>"
     },
     "metadata": {},
     "execution_count": 23
    }
   ],
   "source": [
    "test_preds.head()"
   ]
  },
  {
   "cell_type": "code",
   "execution_count": 24,
   "metadata": {},
   "outputs": [],
   "source": [
    "test_preds.to_csv('rnn_advanced_submission.csv', index=None) "
   ]
  }
 ]
}