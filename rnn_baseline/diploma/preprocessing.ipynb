{
 "metadata": {
  "language_info": {
   "codemirror_mode": {
    "name": "ipython",
    "version": 3
   },
   "file_extension": ".py",
   "mimetype": "text/x-python",
   "name": "python",
   "nbconvert_exporter": "python",
   "pygments_lexer": "ipython3",
   "version": "3.8.5-final"
  },
  "orig_nbformat": 2,
  "kernelspec": {
   "name": "python3",
   "display_name": "Python 3",
   "language": "python"
  }
 },
 "nbformat": 4,
 "nbformat_minor": 2,
 "cells": [
  {
   "source": [
    "** Preprocessing **\n"
   ],
   "cell_type": "markdown",
   "metadata": {}
  },
  {
   "source": [
    "### Imports and requirements\n",
    "\n",
    "* Мы имеем дело с последовательностями, один из интуитивных способов работы с ними - использование рекуррентных сетей. Преимущество нейронных сетей заключается в том, что можно строить хорошие решения без использования сложного и трудоемкого feature engineering-а (чтобы эффективно решать ту же задачу с высоким качеством с помощью бустингов нужно несколько тысяч признаков), благодаря рекуррентным сетям. "
   ],
   "cell_type": "markdown",
   "metadata": {}
  },
  {
   "cell_type": "code",
   "execution_count": 35,
   "metadata": {},
   "outputs": [
    {
     "output_type": "stream",
     "name": "stdout",
     "text": [
      "The autoreload extension is already loaded. To reload it, use:\n  %reload_ext autoreload\n"
     ]
    }
   ],
   "source": [
    "%load_ext autoreload\n",
    "%autoreload 2\n",
    "\n",
    "import os\n",
    "import pandas as pd\n",
    "import sys\n",
    "import pickle\n",
    "import numpy as np\n",
    "from sklearn.model_selection import train_test_split\n",
    "from tqdm import tqdm\n",
    "\n",
    "pd.set_option('display.max_columns', 80)\n",
    "\n",
    "# добавим папки для импорта модулей, в них лежат все необходимые полезные функции для обработки данных\n",
    "sys.path.append('../')"
   ]
  },
  {
   "cell_type": "code",
   "execution_count": 36,
   "metadata": {},
   "outputs": [],
   "source": [
    "TRAIN_TRANSACTIONS_PATH = '/media/DATA/AlfaBattle/train_transactions_contest/'\n",
    "TEST_TRANSACTIONS_PATH = '/media/DATA/AlfaBattle/test_transactions_contest/'\n",
    "\n",
    "TRAIN_TARGET_PATH = '/media/DATA/AlfaBattle/train_target.csv'\n",
    "PRE_TRANSACTIONS_PATH = '/media/DATA/AlfaBattle//preprocessed_transactions/'\n",
    "PRE_TEST_TRANSACTIONS_PATH = '/media/DATA/AlfaBattle/preprocessed_test_transactions/'\n",
    "PICKLE_VAL_BUCKET_PATH = '/media/DATA/AlfaBattle/val_buckets/'\n",
    "PICKLE_VAL_TRAIN_BUCKET_PATH = '/media/DATA/AlfaBattle/val_train_buckets/'\n",
    "PICKLE_VAL_TEST_BUCKET_PATH = '/media/DATA/AlfaBattle/val_test_buckets/'"
   ]
  },
  {
   "cell_type": "code",
   "execution_count": 37,
   "metadata": {},
   "outputs": [
    {
     "output_type": "execute_result",
     "data": {
      "text/plain": [
       "   app_id  product  flag\n",
       "0       0        3     0\n",
       "1       1        1     0\n",
       "2       2        1     0\n",
       "3       3        1     0\n",
       "4       4        1     0"
      ],
      "text/html": "<div>\n<style scoped>\n    .dataframe tbody tr th:only-of-type {\n        vertical-align: middle;\n    }\n\n    .dataframe tbody tr th {\n        vertical-align: top;\n    }\n\n    .dataframe thead th {\n        text-align: right;\n    }\n</style>\n<table border=\"1\" class=\"dataframe\">\n  <thead>\n    <tr style=\"text-align: right;\">\n      <th></th>\n      <th>app_id</th>\n      <th>product</th>\n      <th>flag</th>\n    </tr>\n  </thead>\n  <tbody>\n    <tr>\n      <th>0</th>\n      <td>0</td>\n      <td>3</td>\n      <td>0</td>\n    </tr>\n    <tr>\n      <th>1</th>\n      <td>1</td>\n      <td>1</td>\n      <td>0</td>\n    </tr>\n    <tr>\n      <th>2</th>\n      <td>2</td>\n      <td>1</td>\n      <td>0</td>\n    </tr>\n    <tr>\n      <th>3</th>\n      <td>3</td>\n      <td>1</td>\n      <td>0</td>\n    </tr>\n    <tr>\n      <th>4</th>\n      <td>4</td>\n      <td>1</td>\n      <td>0</td>\n    </tr>\n  </tbody>\n</table>\n</div>"
     },
     "metadata": {},
     "execution_count": 37
    }
   ],
   "source": [
    "target_frame = pd.read_csv(TRAIN_TARGET_PATH)\n",
    "target_frame.head()"
   ]
  },
  {
   "source": [
    "* Мы не можем поместить всю выборку в память, в виду, например, ограниченных ресурсов. Для итеративного чтения данных нам потребуется функция `utils.read_parquet_dataset_from_local`, которая читает N частей датасета за раз в память.\n",
    "\n",
    "\n",
    "* Нейронные сети требуют отдельного внимания к тому, как будут поданы и обработаны данные. Важные моменты, на которые требуется обратить внимание:  \n",
    "\n",
    "* Использование рекуррентных сетей подразумевает работу на уровне последовательностей, где одна последовательность - все исторические транзакции клиента. Для преобразования  `pd.DataFrame` с транзакциями клиентов в табличном виде к последовательностям используется функция `dataset_preprocessing_utils.transform_transactions_to_sequences`, она делает необходимые манипуляции и возвращает фрейм с двумя колонками: `app_id` и `sequences`. Колонка `sequence` представляет из себя массив массивов длины `len(features)`, где каждый вложенный массив - значения одного конкретного признака во всех транзакциях клиента. \n",
    "    \n",
    "* каждый клиент имеет различную по длине историю транзакций. При этом обучение сетей происходит батчами, что требует делать паддинги в последовательностях. Довольно неэффективно делать паддинг внутри батча на последовательностях случайной длины (довольно часто будем делать большой и бесполезный паддинг). Гораздо лучше использовать технику `sequence_bucketing`. Эту операцию выполняет функция `dataset_preprocessing_utils.create_padded_buckets`. Один из аргументов в данную функцию - `bucket_info` - словарь, где для конкретной длины последовательности указано до какой длины нужно делать паддинг. Используется простой вид разбиения на 100 бакетов и файл где лежит отображение каждой длины в паддинг (файл `buckets_info.pkl`).\n",
    "    \n",
    "* Такие признаки, как [`amnt`, `days_before`, `hour_diff`] по своей природе не являются категориальными. Но можно интерпретировать каждую не категориальную фичу как категориальную. Для этого нужно подготовить bin-ы для каждой фичи. "
   ],
   "cell_type": "markdown",
   "metadata": {}
  },
  {
   "cell_type": "code",
   "execution_count": 38,
   "metadata": {},
   "outputs": [],
   "source": [
    "from utils import read_parquet_dataset_from_local\n",
    "from dataset_preprocessing_utils import transform_transactions_to_sequences, create_padded_buckets"
   ]
  },
  {
   "cell_type": "code",
   "execution_count": 39,
   "metadata": {},
   "outputs": [],
   "source": [
    "import pickle\n",
    "\n",
    "with open('../constants/buckets_info.pkl', 'rb') as f:\n",
    "    mapping_seq_len_to_padded_len = pickle.load(f)\n",
    "    \n",
    "with open('../constants/dense_features_buckets.pkl', 'rb') as f:\n",
    "    dense_features_buckets = pickle.load(f)"
   ]
  },
  {
   "source": [
    "### Preprocessing"
   ],
   "cell_type": "markdown",
   "metadata": {}
  },
  {
   "source": [
    "* Функция `create_buckets_from_transactions` ниже реализует следующий набор действий:\n",
    "    * Читает `num_parts_to_preprocess_at_once` частей датасета в память\n",
    "    * Преобразует вещественные и численные признаки к категориальным (используя `np.digitize` и подготовленные бины)\n",
    "    * Формирует фрейм с транзакциями в виде последовательностей с помощью `transform_transactions_to_sequences`.\n",
    "    * Если указан `frame_with_ids`, то использует `app_id` из `frame_with_ids` - актуально, чтобы выделить валидационную выборку.\n",
    "    * Реализует технику `sequence_bucketing` и сохраняет словарь обработанных последовательностей в `.pkl` файл"
   ],
   "cell_type": "code",
   "metadata": {},
   "execution_count": null,
   "outputs": []
  },
  {
   "cell_type": "code",
   "execution_count": 40,
   "metadata": {},
   "outputs": [],
   "source": [
    "def create_buckets_from_transactions(path_to_dataset, save_to_path, frame_with_ids = None, \n",
    "                                     num_parts_to_preprocess_at_once: int = 1, \n",
    "                                     num_parts_total=50, has_target=False):\n",
    "    block = 0\n",
    "    for step in tqdm(range(0, num_parts_total, num_parts_to_preprocess_at_once), \n",
    "                                   desc=\"Transforming transactions data\"):\n",
    "        transactions_frame = read_parquet_dataset_from_local(path_to_dataset, step, num_parts_to_preprocess_at_once, \n",
    "                                                             verbose=True)\n",
    "        for dense_col in ['amnt', 'days_before', 'hour_diff']:\n",
    "            transactions_frame[dense_col] = np.digitize(transactions_frame[dense_col], bins=dense_features_buckets[dense_col])\n",
    "            \n",
    "        seq = transform_transactions_to_sequences(transactions_frame)\n",
    "        seq['sequence_length'] = seq.sequences.apply(lambda x: len(x[1]))\n",
    "        \n",
    "        if frame_with_ids is not None:\n",
    "            seq = seq.merge(frame_with_ids, on='app_id')\n",
    "\n",
    "        block_as_str = str(block)\n",
    "        if len(block_as_str) == 1:\n",
    "            block_as_str = '00' + block_as_str\n",
    "        else:\n",
    "            block_as_str = '0' + block_as_str\n",
    "            \n",
    "        processed_fragment =  create_padded_buckets(seq, mapping_seq_len_to_padded_len, has_target=has_target, \n",
    "                                                    save_to_file_path=os.path.join(save_to_path, \n",
    "                                                                                   f'processed_chunk_{block_as_str}.pkl'))\n",
    "        block += 1"
   ]
  },
  {
   "cell_type": "code",
   "execution_count": 41,
   "metadata": {},
   "outputs": [
    {
     "output_type": "execute_result",
     "data": {
      "text/plain": [
       "((867429, 3), (96382, 3))"
      ]
     },
     "metadata": {},
     "execution_count": 41
    }
   ],
   "source": [
    "train, val = train_test_split(target_frame, random_state=42, test_size=0.1)\n",
    "train.shape, val.shape"
   ]
  },
  {
   "cell_type": "code",
   "execution_count": 42,
   "metadata": {},
   "outputs": [],
   "source": [
    "! rm -r {PICKLE_VAL_BUCKET_PATH}\n",
    "! mkdir {PICKLE_VAL_BUCKET_PATH}"
   ]
  },
  {
   "cell_type": "code",
   "execution_count": 43,
   "metadata": {},
   "outputs": [
    {
     "output_type": "stream",
     "name": "stderr",
     "text": [
      "Transforming transactions data:   0%|          | 0/10 [00:00<?, ?it/s]Reading chunks:\n",
      "\n",
      "/media/DATA/AlfaBattle/train_transactions_contest/part_000_0_to_23646.parquet\n",
      "/media/DATA/AlfaBattle/train_transactions_contest/part_001_23647_to_47415.parquet\n",
      "/media/DATA/AlfaBattle/train_transactions_contest/part_002_47416_to_70092.parquet\n",
      "/media/DATA/AlfaBattle/train_transactions_contest/part_003_70093_to_92989.parquet\n",
      "/media/DATA/AlfaBattle/train_transactions_contest/part_004_92990_to_115175.parquet\n"
     ]
    },
    {
     "output_type": "display_data",
     "data": {
      "text/plain": "Extracting buckets:   0%|          | 0/100 [00:00<?, ?it/s]",
      "application/vnd.jupyter.widget-view+json": {
       "version_major": 2,
       "version_minor": 0,
       "model_id": "553d5cf756894aa29a6e86fe28cb4332"
      }
     },
     "metadata": {}
    },
    {
     "output_type": "stream",
     "name": "stderr",
     "text": [
      "Transforming transactions data:  10%|█         | 1/10 [00:38<05:43, 38.14s/it]Reading chunks:\n",
      "\n",
      "/media/DATA/AlfaBattle/train_transactions_contest/part_005_115176_to_138067.parquet\n",
      "/media/DATA/AlfaBattle/train_transactions_contest/part_006_138068_to_159724.parquet\n",
      "/media/DATA/AlfaBattle/train_transactions_contest/part_007_159725_to_180735.parquet\n",
      "/media/DATA/AlfaBattle/train_transactions_contest/part_008_180736_to_202834.parquet\n",
      "/media/DATA/AlfaBattle/train_transactions_contest/part_009_202835_to_224283.parquet\n"
     ]
    },
    {
     "output_type": "display_data",
     "data": {
      "text/plain": "Extracting buckets:   0%|          | 0/100 [00:00<?, ?it/s]",
      "application/vnd.jupyter.widget-view+json": {
       "version_major": 2,
       "version_minor": 0,
       "model_id": "ab478dffa5d141e3af9370af9ddf8f48"
      }
     },
     "metadata": {}
    },
    {
     "output_type": "stream",
     "name": "stderr",
     "text": [
      "Transforming transactions data:  20%|██        | 2/10 [01:16<05:06, 38.28s/it]Reading chunks:\n",
      "\n",
      "/media/DATA/AlfaBattle/train_transactions_contest/part_010_224284_to_245233.parquet\n",
      "/media/DATA/AlfaBattle/train_transactions_contest/part_011_245234_to_265281.parquet\n",
      "/media/DATA/AlfaBattle/train_transactions_contest/part_012_265282_to_285632.parquet\n",
      "/media/DATA/AlfaBattle/train_transactions_contest/part_013_285633_to_306877.parquet\n",
      "/media/DATA/AlfaBattle/train_transactions_contest/part_014_306878_to_329680.parquet\n"
     ]
    },
    {
     "output_type": "display_data",
     "data": {
      "text/plain": "Extracting buckets:   0%|          | 0/100 [00:00<?, ?it/s]",
      "application/vnd.jupyter.widget-view+json": {
       "version_major": 2,
       "version_minor": 0,
       "model_id": "84101df29d7f443cb45ecf10f765dd5a"
      }
     },
     "metadata": {}
    },
    {
     "output_type": "stream",
     "name": "stderr",
     "text": [
      "Transforming transactions data:  30%|███       | 3/10 [01:55<04:28, 38.40s/it]Reading chunks:\n",
      "\n",
      "/media/DATA/AlfaBattle/train_transactions_contest/part_015_329681_to_350977.parquet\n",
      "/media/DATA/AlfaBattle/train_transactions_contest/part_016_350978_to_372076.parquet\n",
      "/media/DATA/AlfaBattle/train_transactions_contest/part_017_372077_to_392692.parquet\n",
      "/media/DATA/AlfaBattle/train_transactions_contest/part_018_392693_to_413981.parquet\n",
      "/media/DATA/AlfaBattle/train_transactions_contest/part_019_413982_to_434478.parquet\n"
     ]
    },
    {
     "output_type": "display_data",
     "data": {
      "text/plain": "Extracting buckets:   0%|          | 0/100 [00:00<?, ?it/s]",
      "application/vnd.jupyter.widget-view+json": {
       "version_major": 2,
       "version_minor": 0,
       "model_id": "8bc3004ac1e244d4b42de63d7e0e23f4"
      }
     },
     "metadata": {}
    },
    {
     "output_type": "stream",
     "name": "stderr",
     "text": [
      "Transforming transactions data:  40%|████      | 4/10 [02:34<03:52, 38.76s/it]Reading chunks:\n",
      "\n",
      "/media/DATA/AlfaBattle/train_transactions_contest/part_020_434479_to_455958.parquet\n",
      "/media/DATA/AlfaBattle/train_transactions_contest/part_021_455959_to_477221.parquet\n",
      "/media/DATA/AlfaBattle/train_transactions_contest/part_022_477222_to_496751.parquet\n",
      "/media/DATA/AlfaBattle/train_transactions_contest/part_023_496752_to_517332.parquet\n",
      "/media/DATA/AlfaBattle/train_transactions_contest/part_024_517333_to_537036.parquet\n"
     ]
    },
    {
     "output_type": "display_data",
     "data": {
      "text/plain": "Extracting buckets:   0%|          | 0/100 [00:00<?, ?it/s]",
      "application/vnd.jupyter.widget-view+json": {
       "version_major": 2,
       "version_minor": 0,
       "model_id": "ca860d196b10420e9acffdf7213ed04d"
      }
     },
     "metadata": {}
    },
    {
     "output_type": "stream",
     "name": "stderr",
     "text": [
      "Transforming transactions data:  50%|█████     | 5/10 [03:12<03:12, 38.60s/it]Reading chunks:\n",
      "\n",
      "/media/DATA/AlfaBattle/train_transactions_contest/part_025_537037_to_557423.parquet\n",
      "/media/DATA/AlfaBattle/train_transactions_contest/part_026_557424_to_576136.parquet\n",
      "/media/DATA/AlfaBattle/train_transactions_contest/part_027_576137_to_595745.parquet\n",
      "/media/DATA/AlfaBattle/train_transactions_contest/part_028_595746_to_615602.parquet\n",
      "/media/DATA/AlfaBattle/train_transactions_contest/part_029_615603_to_635004.parquet\n"
     ]
    },
    {
     "output_type": "display_data",
     "data": {
      "text/plain": "Extracting buckets:   0%|          | 0/100 [00:00<?, ?it/s]",
      "application/vnd.jupyter.widget-view+json": {
       "version_major": 2,
       "version_minor": 0,
       "model_id": "9f3fddcc4bc74f7e9173b094e5f60ee8"
      }
     },
     "metadata": {}
    },
    {
     "output_type": "stream",
     "name": "stderr",
     "text": [
      "Transforming transactions data:  60%|██████    | 6/10 [03:52<02:35, 38.85s/it]Reading chunks:\n",
      "\n",
      "/media/DATA/AlfaBattle/train_transactions_contest/part_030_635005_to_654605.parquet\n",
      "/media/DATA/AlfaBattle/train_transactions_contest/part_031_654606_to_673656.parquet\n",
      "/media/DATA/AlfaBattle/train_transactions_contest/part_032_673657_to_696025.parquet\n",
      "/media/DATA/AlfaBattle/train_transactions_contest/part_033_696026_to_714545.parquet\n",
      "/media/DATA/AlfaBattle/train_transactions_contest/part_034_714546_to_733168.parquet\n"
     ]
    },
    {
     "output_type": "display_data",
     "data": {
      "text/plain": "Extracting buckets:   0%|          | 0/100 [00:00<?, ?it/s]",
      "application/vnd.jupyter.widget-view+json": {
       "version_major": 2,
       "version_minor": 0,
       "model_id": "46ab5de1de104b22a23e0f244a1b3230"
      }
     },
     "metadata": {}
    },
    {
     "output_type": "stream",
     "name": "stderr",
     "text": [
      "Transforming transactions data:  70%|███████   | 7/10 [04:30<01:56, 38.76s/it]Reading chunks:\n",
      "\n",
      "/media/DATA/AlfaBattle/train_transactions_contest/part_035_733169_to_752514.parquet\n",
      "/media/DATA/AlfaBattle/train_transactions_contest/part_036_752515_to_770940.parquet\n",
      "/media/DATA/AlfaBattle/train_transactions_contest/part_037_770941_to_788380.parquet\n",
      "/media/DATA/AlfaBattle/train_transactions_contest/part_038_788381_to_805771.parquet\n",
      "/media/DATA/AlfaBattle/train_transactions_contest/part_039_805772_to_823299.parquet\n"
     ]
    },
    {
     "output_type": "display_data",
     "data": {
      "text/plain": "Extracting buckets:   0%|          | 0/100 [00:00<?, ?it/s]",
      "application/vnd.jupyter.widget-view+json": {
       "version_major": 2,
       "version_minor": 0,
       "model_id": "dd87ebfd466645a58570766db1a97b15"
      }
     },
     "metadata": {}
    },
    {
     "output_type": "stream",
     "name": "stderr",
     "text": [
      "Transforming transactions data:  80%|████████  | 8/10 [05:09<01:17, 38.70s/it]Reading chunks:\n",
      "\n",
      "/media/DATA/AlfaBattle/train_transactions_contest/part_040_823300_to_841218.parquet\n",
      "/media/DATA/AlfaBattle/train_transactions_contest/part_041_841219_to_859270.parquet\n",
      "/media/DATA/AlfaBattle/train_transactions_contest/part_042_859271_to_878521.parquet\n",
      "/media/DATA/AlfaBattle/train_transactions_contest/part_043_878522_to_896669.parquet\n",
      "/media/DATA/AlfaBattle/train_transactions_contest/part_044_896670_to_916056.parquet\n"
     ]
    },
    {
     "output_type": "display_data",
     "data": {
      "text/plain": "Extracting buckets:   0%|          | 0/100 [00:00<?, ?it/s]",
      "application/vnd.jupyter.widget-view+json": {
       "version_major": 2,
       "version_minor": 0,
       "model_id": "9d5820f6b33d4b4aaa0af4751d22d880"
      }
     },
     "metadata": {}
    },
    {
     "output_type": "stream",
     "name": "stderr",
     "text": [
      "Transforming transactions data:  90%|█████████ | 9/10 [05:50<00:39, 39.50s/it]Reading chunks:\n",
      "\n",
      "/media/DATA/AlfaBattle/train_transactions_contest/part_045_916057_to_935131.parquet\n",
      "/media/DATA/AlfaBattle/train_transactions_contest/part_046_935132_to_951695.parquet\n",
      "/media/DATA/AlfaBattle/train_transactions_contest/part_047_951696_to_970383.parquet\n",
      "/media/DATA/AlfaBattle/train_transactions_contest/part_048_970384_to_987313.parquet\n",
      "/media/DATA/AlfaBattle/train_transactions_contest/part_049_987314_to_1003050.parquet\n"
     ]
    },
    {
     "output_type": "display_data",
     "data": {
      "text/plain": "Extracting buckets:   0%|          | 0/100 [00:00<?, ?it/s]",
      "application/vnd.jupyter.widget-view+json": {
       "version_major": 2,
       "version_minor": 0,
       "model_id": "6c99f9e5d1d24e10ac84e2d59fc75dc3"
      }
     },
     "metadata": {}
    },
    {
     "output_type": "stream",
     "name": "stderr",
     "text": [
      "Transforming transactions data: 100%|██████████| 10/10 [06:24<00:00, 38.45s/it]\n"
     ]
    }
   ],
   "source": [
    "create_buckets_from_transactions(TRAIN_TRANSACTIONS_PATH, \n",
    "                                save_to_path=PICKLE_VAL_BUCKET_PATH,\n",
    "                                frame_with_ids=val, num_parts_to_preprocess_at_once=5, num_parts_total=50, has_target=True)"
   ]
  },
  {
   "cell_type": "code",
   "execution_count": 44,
   "metadata": {},
   "outputs": [
    {
     "output_type": "execute_result",
     "data": {
      "text/plain": [
       "['/media/DATA/AlfaBattle/val_buckets/processed_chunk_000.pkl',\n",
       " '/media/DATA/AlfaBattle/val_buckets/processed_chunk_001.pkl',\n",
       " '/media/DATA/AlfaBattle/val_buckets/processed_chunk_002.pkl',\n",
       " '/media/DATA/AlfaBattle/val_buckets/processed_chunk_003.pkl',\n",
       " '/media/DATA/AlfaBattle/val_buckets/processed_chunk_004.pkl',\n",
       " '/media/DATA/AlfaBattle/val_buckets/processed_chunk_005.pkl',\n",
       " '/media/DATA/AlfaBattle/val_buckets/processed_chunk_006.pkl',\n",
       " '/media/DATA/AlfaBattle/val_buckets/processed_chunk_007.pkl',\n",
       " '/media/DATA/AlfaBattle/val_buckets/processed_chunk_008.pkl',\n",
       " '/media/DATA/AlfaBattle/val_buckets/processed_chunk_009.pkl']"
      ]
     },
     "metadata": {},
     "execution_count": 44
    }
   ],
   "source": [
    "path_to_dataset = PICKLE_VAL_BUCKET_PATH\n",
    "dir_with_datasets = os.listdir(path_to_dataset)\n",
    "dataset_val = sorted([os.path.join(path_to_dataset, x) for x in dir_with_datasets])\n",
    "dataset_val"
   ]
  },
  {
   "cell_type": "code",
   "execution_count": 45,
   "metadata": {},
   "outputs": [],
   "source": [
    "! rm -r {PICKLE_VAL_TRAIN_BUCKET_PATH}\n",
    "! mkdir {PICKLE_VAL_TRAIN_BUCKET_PATH}"
   ]
  },
  {
   "cell_type": "code",
   "execution_count": 46,
   "metadata": {},
   "outputs": [
    {
     "output_type": "stream",
     "name": "stderr",
     "text": [
      "Transforming transactions data:   0%|          | 0/10 [00:00<?, ?it/s]Reading chunks:\n",
      "\n",
      "/media/DATA/AlfaBattle/train_transactions_contest/part_000_0_to_23646.parquet\n",
      "/media/DATA/AlfaBattle/train_transactions_contest/part_001_23647_to_47415.parquet\n",
      "/media/DATA/AlfaBattle/train_transactions_contest/part_002_47416_to_70092.parquet\n",
      "/media/DATA/AlfaBattle/train_transactions_contest/part_003_70093_to_92989.parquet\n",
      "/media/DATA/AlfaBattle/train_transactions_contest/part_004_92990_to_115175.parquet\n"
     ]
    },
    {
     "output_type": "display_data",
     "data": {
      "text/plain": "Extracting buckets:   0%|          | 0/100 [00:00<?, ?it/s]",
      "application/vnd.jupyter.widget-view+json": {
       "version_major": 2,
       "version_minor": 0,
       "model_id": "ec061e7318224cad9483d0afb0bff222"
      }
     },
     "metadata": {}
    },
    {
     "output_type": "stream",
     "name": "stderr",
     "text": [
      "Transforming transactions data:  10%|█         | 1/10 [01:00<09:08, 61.00s/it]Reading chunks:\n",
      "\n",
      "/media/DATA/AlfaBattle/train_transactions_contest/part_005_115176_to_138067.parquet\n",
      "/media/DATA/AlfaBattle/train_transactions_contest/part_006_138068_to_159724.parquet\n",
      "/media/DATA/AlfaBattle/train_transactions_contest/part_007_159725_to_180735.parquet\n",
      "/media/DATA/AlfaBattle/train_transactions_contest/part_008_180736_to_202834.parquet\n",
      "/media/DATA/AlfaBattle/train_transactions_contest/part_009_202835_to_224283.parquet\n"
     ]
    },
    {
     "output_type": "display_data",
     "data": {
      "text/plain": "Extracting buckets:   0%|          | 0/100 [00:00<?, ?it/s]",
      "application/vnd.jupyter.widget-view+json": {
       "version_major": 2,
       "version_minor": 0,
       "model_id": "53ae33dfce994dfb8d97b17197f3eb5e"
      }
     },
     "metadata": {}
    },
    {
     "output_type": "stream",
     "name": "stderr",
     "text": [
      "Transforming transactions data:  20%|██        | 2/10 [02:00<08:03, 60.38s/it]Reading chunks:\n",
      "\n",
      "/media/DATA/AlfaBattle/train_transactions_contest/part_010_224284_to_245233.parquet\n",
      "/media/DATA/AlfaBattle/train_transactions_contest/part_011_245234_to_265281.parquet\n",
      "/media/DATA/AlfaBattle/train_transactions_contest/part_012_265282_to_285632.parquet\n",
      "/media/DATA/AlfaBattle/train_transactions_contest/part_013_285633_to_306877.parquet\n",
      "/media/DATA/AlfaBattle/train_transactions_contest/part_014_306878_to_329680.parquet\n"
     ]
    },
    {
     "output_type": "display_data",
     "data": {
      "text/plain": "Extracting buckets:   0%|          | 0/100 [00:00<?, ?it/s]",
      "application/vnd.jupyter.widget-view+json": {
       "version_major": 2,
       "version_minor": 0,
       "model_id": "26cc03b94d1d411d8a613d8114a5e7ab"
      }
     },
     "metadata": {}
    },
    {
     "output_type": "stream",
     "name": "stderr",
     "text": [
      "Transforming transactions data:  30%|███       | 3/10 [02:56<06:48, 58.37s/it]Reading chunks:\n",
      "\n",
      "/media/DATA/AlfaBattle/train_transactions_contest/part_015_329681_to_350977.parquet\n",
      "/media/DATA/AlfaBattle/train_transactions_contest/part_016_350978_to_372076.parquet\n",
      "/media/DATA/AlfaBattle/train_transactions_contest/part_017_372077_to_392692.parquet\n",
      "/media/DATA/AlfaBattle/train_transactions_contest/part_018_392693_to_413981.parquet\n",
      "/media/DATA/AlfaBattle/train_transactions_contest/part_019_413982_to_434478.parquet\n"
     ]
    },
    {
     "output_type": "display_data",
     "data": {
      "text/plain": "Extracting buckets:   0%|          | 0/100 [00:00<?, ?it/s]",
      "application/vnd.jupyter.widget-view+json": {
       "version_major": 2,
       "version_minor": 0,
       "model_id": "eccf3f2dc04149a98702bc4ebaa5df20"
      }
     },
     "metadata": {}
    },
    {
     "output_type": "stream",
     "name": "stderr",
     "text": [
      "Transforming transactions data:  40%|████      | 4/10 [03:53<05:46, 57.82s/it]Reading chunks:\n",
      "\n",
      "/media/DATA/AlfaBattle/train_transactions_contest/part_020_434479_to_455958.parquet\n",
      "/media/DATA/AlfaBattle/train_transactions_contest/part_021_455959_to_477221.parquet\n",
      "/media/DATA/AlfaBattle/train_transactions_contest/part_022_477222_to_496751.parquet\n",
      "/media/DATA/AlfaBattle/train_transactions_contest/part_023_496752_to_517332.parquet\n",
      "/media/DATA/AlfaBattle/train_transactions_contest/part_024_517333_to_537036.parquet\n"
     ]
    },
    {
     "output_type": "display_data",
     "data": {
      "text/plain": "Extracting buckets:   0%|          | 0/100 [00:00<?, ?it/s]",
      "application/vnd.jupyter.widget-view+json": {
       "version_major": 2,
       "version_minor": 0,
       "model_id": "32f3f9135ffb4dc0a517a94163e9b69c"
      }
     },
     "metadata": {}
    },
    {
     "output_type": "stream",
     "name": "stderr",
     "text": [
      "Transforming transactions data:  50%|█████     | 5/10 [04:51<04:48, 57.76s/it]Reading chunks:\n",
      "\n",
      "/media/DATA/AlfaBattle/train_transactions_contest/part_025_537037_to_557423.parquet\n",
      "/media/DATA/AlfaBattle/train_transactions_contest/part_026_557424_to_576136.parquet\n",
      "/media/DATA/AlfaBattle/train_transactions_contest/part_027_576137_to_595745.parquet\n",
      "/media/DATA/AlfaBattle/train_transactions_contest/part_028_595746_to_615602.parquet\n",
      "/media/DATA/AlfaBattle/train_transactions_contest/part_029_615603_to_635004.parquet\n"
     ]
    },
    {
     "output_type": "display_data",
     "data": {
      "text/plain": "Extracting buckets:   0%|          | 0/100 [00:00<?, ?it/s]",
      "application/vnd.jupyter.widget-view+json": {
       "version_major": 2,
       "version_minor": 0,
       "model_id": "e7ab71b52ff744559271def023967575"
      }
     },
     "metadata": {}
    },
    {
     "output_type": "stream",
     "name": "stderr",
     "text": [
      "Transforming transactions data:  60%|██████    | 6/10 [05:41<03:40, 55.04s/it]Reading chunks:\n",
      "\n",
      "/media/DATA/AlfaBattle/train_transactions_contest/part_030_635005_to_654605.parquet\n",
      "/media/DATA/AlfaBattle/train_transactions_contest/part_031_654606_to_673656.parquet\n",
      "/media/DATA/AlfaBattle/train_transactions_contest/part_032_673657_to_696025.parquet\n",
      "/media/DATA/AlfaBattle/train_transactions_contest/part_033_696026_to_714545.parquet\n",
      "/media/DATA/AlfaBattle/train_transactions_contest/part_034_714546_to_733168.parquet\n"
     ]
    },
    {
     "output_type": "display_data",
     "data": {
      "text/plain": "Extracting buckets:   0%|          | 0/100 [00:00<?, ?it/s]",
      "application/vnd.jupyter.widget-view+json": {
       "version_major": 2,
       "version_minor": 0,
       "model_id": "7c3e9f66e1fa4c00bd876d465b235ee0"
      }
     },
     "metadata": {}
    },
    {
     "output_type": "stream",
     "name": "stderr",
     "text": [
      "Transforming transactions data:  70%|███████   | 7/10 [06:45<02:54, 58.10s/it]Reading chunks:\n",
      "\n",
      "/media/DATA/AlfaBattle/train_transactions_contest/part_035_733169_to_752514.parquet\n",
      "/media/DATA/AlfaBattle/train_transactions_contest/part_036_752515_to_770940.parquet\n",
      "/media/DATA/AlfaBattle/train_transactions_contest/part_037_770941_to_788380.parquet\n",
      "/media/DATA/AlfaBattle/train_transactions_contest/part_038_788381_to_805771.parquet\n",
      "/media/DATA/AlfaBattle/train_transactions_contest/part_039_805772_to_823299.parquet\n"
     ]
    },
    {
     "output_type": "display_data",
     "data": {
      "text/plain": "Extracting buckets:   0%|          | 0/100 [00:00<?, ?it/s]",
      "application/vnd.jupyter.widget-view+json": {
       "version_major": 2,
       "version_minor": 0,
       "model_id": "eb95d05788654f10aa8f58ec56622a0e"
      }
     },
     "metadata": {}
    },
    {
     "output_type": "stream",
     "name": "stderr",
     "text": [
      "Transforming transactions data:  80%|████████  | 8/10 [07:39<01:53, 56.75s/it]Reading chunks:\n",
      "\n",
      "/media/DATA/AlfaBattle/train_transactions_contest/part_040_823300_to_841218.parquet\n",
      "/media/DATA/AlfaBattle/train_transactions_contest/part_041_841219_to_859270.parquet\n",
      "/media/DATA/AlfaBattle/train_transactions_contest/part_042_859271_to_878521.parquet\n",
      "/media/DATA/AlfaBattle/train_transactions_contest/part_043_878522_to_896669.parquet\n",
      "/media/DATA/AlfaBattle/train_transactions_contest/part_044_896670_to_916056.parquet\n"
     ]
    },
    {
     "output_type": "display_data",
     "data": {
      "text/plain": "Extracting buckets:   0%|          | 0/100 [00:00<?, ?it/s]",
      "application/vnd.jupyter.widget-view+json": {
       "version_major": 2,
       "version_minor": 0,
       "model_id": "afbd690905d9488aa888c5bf7aa5d03d"
      }
     },
     "metadata": {}
    },
    {
     "output_type": "stream",
     "name": "stderr",
     "text": [
      "Transforming transactions data:  90%|█████████ | 9/10 [08:48<01:00, 60.65s/it]Reading chunks:\n",
      "\n",
      "/media/DATA/AlfaBattle/train_transactions_contest/part_045_916057_to_935131.parquet\n",
      "/media/DATA/AlfaBattle/train_transactions_contest/part_046_935132_to_951695.parquet\n",
      "/media/DATA/AlfaBattle/train_transactions_contest/part_047_951696_to_970383.parquet\n",
      "/media/DATA/AlfaBattle/train_transactions_contest/part_048_970384_to_987313.parquet\n",
      "/media/DATA/AlfaBattle/train_transactions_contest/part_049_987314_to_1003050.parquet\n"
     ]
    },
    {
     "output_type": "display_data",
     "data": {
      "text/plain": "Extracting buckets:   0%|          | 0/100 [00:00<?, ?it/s]",
      "application/vnd.jupyter.widget-view+json": {
       "version_major": 2,
       "version_minor": 0,
       "model_id": "472c565b49d54cdfaad96cc22c89ca51"
      }
     },
     "metadata": {}
    },
    {
     "output_type": "stream",
     "name": "stderr",
     "text": [
      "Transforming transactions data: 100%|██████████| 10/10 [09:46<00:00, 58.66s/it]\n"
     ]
    }
   ],
   "source": [
    "create_buckets_from_transactions(TRAIN_TRANSACTIONS_PATH, \n",
    "                                save_to_path=PICKLE_VAL_TRAIN_BUCKET_PATH,\n",
    "                                frame_with_ids=train, num_parts_to_preprocess_at_once=5, num_parts_total=50, has_target=True)"
   ]
  },
  {
   "cell_type": "code",
   "execution_count": 47,
   "metadata": {},
   "outputs": [
    {
     "output_type": "execute_result",
     "data": {
      "text/plain": [
       "['/media/DATA/AlfaBattle/val_train_buckets/processed_chunk_000.pkl',\n",
       " '/media/DATA/AlfaBattle/val_train_buckets/processed_chunk_001.pkl',\n",
       " '/media/DATA/AlfaBattle/val_train_buckets/processed_chunk_002.pkl',\n",
       " '/media/DATA/AlfaBattle/val_train_buckets/processed_chunk_003.pkl',\n",
       " '/media/DATA/AlfaBattle/val_train_buckets/processed_chunk_004.pkl',\n",
       " '/media/DATA/AlfaBattle/val_train_buckets/processed_chunk_005.pkl',\n",
       " '/media/DATA/AlfaBattle/val_train_buckets/processed_chunk_006.pkl',\n",
       " '/media/DATA/AlfaBattle/val_train_buckets/processed_chunk_007.pkl',\n",
       " '/media/DATA/AlfaBattle/val_train_buckets/processed_chunk_008.pkl',\n",
       " '/media/DATA/AlfaBattle/val_train_buckets/processed_chunk_009.pkl']"
      ]
     },
     "metadata": {},
     "execution_count": 47
    }
   ],
   "source": [
    "path_to_dataset = PICKLE_VAL_TRAIN_BUCKET_PATH\n",
    "dir_with_datasets = os.listdir(path_to_dataset)\n",
    "dataset_train = sorted([os.path.join(path_to_dataset, x) for x in dir_with_datasets])\n",
    "dataset_train"
   ]
  }
 ]
}