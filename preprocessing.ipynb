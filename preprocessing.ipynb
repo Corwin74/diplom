{
 "metadata": {
  "language_info": {
   "codemirror_mode": {
    "name": "ipython",
    "version": 3
   },
   "file_extension": ".py",
   "mimetype": "text/x-python",
   "name": "python",
   "nbconvert_exporter": "python",
   "pygments_lexer": "ipython3",
   "version": "3.8.5-final"
  },
  "orig_nbformat": 2,
  "kernelspec": {
   "name": "python3",
   "display_name": "Python 3",
   "language": "python"
  }
 },
 "nbformat": 4,
 "nbformat_minor": 2,
 "cells": [
  {
   "source": [
    "** Preprocessing **\n"
   ],
   "cell_type": "markdown",
   "metadata": {}
  },
  {
   "source": [
    "### Imports and requirements\n",
    "\n",
    "* Мы имеем дело с последовательностями, один из интуитивных способов работы с ними - использование рекуррентных сетей. Преимущество нейронных сетей заключается в том, что можно строить хорошие решения без использования сложного и трудоемкого feature engineering-а (чтобы эффективно решать ту же задачу с высоким качеством с помощью бустингов нужно несколько тысяч признаков), благодаря рекуррентным сетям. "
   ],
   "cell_type": "markdown",
   "metadata": {}
  },
  {
   "cell_type": "code",
   "execution_count": 1,
   "metadata": {},
   "outputs": [],
   "source": [
    "%load_ext autoreload\n",
    "%autoreload 2\n",
    "\n",
    "import os\n",
    "import pandas as pd\n",
    "import sys\n",
    "import pickle\n",
    "import numpy as np\n",
    "from sklearn.model_selection import train_test_split\n",
    "from tqdm import tqdm\n",
    "\n",
    "pd.set_option('display.max_columns', 80)\n",
    "\n",
    "# добавим папки для импорта модулей, в них лежат все необходимые полезные функции для обработки данных\n",
    "sys.path.append('utils/')"
   ]
  },
  {
   "cell_type": "code",
   "execution_count": 2,
   "metadata": {},
   "outputs": [],
   "source": [
    "TRAIN_TRANSACTIONS_PATH = '/media/DATA/AlfaBattle/train_transactions_contest/'\n",
    "TEST_TRANSACTIONS_PATH = '/media/DATA/AlfaBattle/test_transactions_contest/'\n",
    "\n",
    "TRAIN_TARGET_PATH = '/media/DATA/AlfaBattle/train_target.csv'\n",
    "PRE_TRANSACTIONS_PATH = '/media/DATA/AlfaBattle//preprocessed_transactions/'\n",
    "PRE_TEST_TRANSACTIONS_PATH = '/media/DATA/AlfaBattle/preprocessed_test_transactions/'\n",
    "PICKLE_VAL_BUCKET_PATH = '/media/DATA/AlfaBattle/val_buckets/'\n",
    "PICKLE_VAL_TRAIN_BUCKET_PATH = '/media/DATA/AlfaBattle/val_train_buckets/'\n",
    "PICKLE_VAL_TEST_BUCKET_PATH = '/media/DATA/AlfaBattle/val_test_buckets/'"
   ]
  },
  {
   "cell_type": "code",
   "execution_count": 3,
   "metadata": {},
   "outputs": [
    {
     "output_type": "execute_result",
     "data": {
      "text/plain": [
       "   app_id  product  flag\n",
       "0       0        3     0\n",
       "1       1        1     0\n",
       "2       2        1     0\n",
       "3       3        1     0\n",
       "4       4        1     0"
      ],
      "text/html": "<div>\n<style scoped>\n    .dataframe tbody tr th:only-of-type {\n        vertical-align: middle;\n    }\n\n    .dataframe tbody tr th {\n        vertical-align: top;\n    }\n\n    .dataframe thead th {\n        text-align: right;\n    }\n</style>\n<table border=\"1\" class=\"dataframe\">\n  <thead>\n    <tr style=\"text-align: right;\">\n      <th></th>\n      <th>app_id</th>\n      <th>product</th>\n      <th>flag</th>\n    </tr>\n  </thead>\n  <tbody>\n    <tr>\n      <th>0</th>\n      <td>0</td>\n      <td>3</td>\n      <td>0</td>\n    </tr>\n    <tr>\n      <th>1</th>\n      <td>1</td>\n      <td>1</td>\n      <td>0</td>\n    </tr>\n    <tr>\n      <th>2</th>\n      <td>2</td>\n      <td>1</td>\n      <td>0</td>\n    </tr>\n    <tr>\n      <th>3</th>\n      <td>3</td>\n      <td>1</td>\n      <td>0</td>\n    </tr>\n    <tr>\n      <th>4</th>\n      <td>4</td>\n      <td>1</td>\n      <td>0</td>\n    </tr>\n  </tbody>\n</table>\n</div>"
     },
     "metadata": {},
     "execution_count": 3
    }
   ],
   "source": [
    "target_frame = pd.read_csv(TRAIN_TARGET_PATH)\n",
    "target_frame.head()"
   ]
  },
  {
   "source": [
    "* Мы не можем поместить всю выборку в память, в виду, например, ограниченных ресурсов. Для итеративного чтения данных нам потребуется функция `utils.read_parquet_dataset_from_local`, которая читает N частей датасета за раз в память.\n",
    "\n",
    "\n",
    "* Нейронные сети требуют отдельного внимания к тому, как будут поданы и обработаны данные. Важные моменты, на которые требуется обратить внимание:  \n",
    "\n",
    "* Использование рекуррентных сетей подразумевает работу на уровне последовательностей, где одна последовательность - все исторические транзакции клиента. Для преобразования  `pd.DataFrame` с транзакциями клиентов в табличном виде к последовательностям используется функция `dataset_preprocessing_utils.transform_transactions_to_sequences`, она делает необходимые манипуляции и возвращает фрейм с двумя колонками: `app_id` и `sequences`. Колонка `sequence` представляет из себя массив массивов длины `len(features)`, где каждый вложенный массив - значения одного конкретного признака во всех транзакциях клиента. \n",
    "    \n",
    "* каждый клиент имеет различную по длине историю транзакций. При этом обучение сетей происходит батчами, что требует делать паддинги в последовательностях. Довольно неэффективно делать паддинг внутри батча на последовательностях случайной длины (довольно часто будем делать большой и бесполезный паддинг). Гораздо лучше использовать технику `sequence_bucketing`. Эту операцию выполняет функция `dataset_preprocessing_utils.create_padded_buckets`. Один из аргументов в данную функцию - `bucket_info` - словарь, где для конкретной длины последовательности указано до какой длины нужно делать паддинг. Используется простой вид разбиения на 100 бакетов и файл где лежит отображение каждой длины в паддинг (файл `buckets_info.pkl`).\n",
    "    \n",
    "* Такие признаки, как [`amnt`, `days_before`, `hour_diff`] по своей природе не являются категориальными. Но можно интерпретировать каждую не категориальную фичу как категориальную. Для этого нужно подготовить bin-ы для каждой фичи. "
   ],
   "cell_type": "markdown",
   "metadata": {}
  },
  {
   "cell_type": "code",
   "execution_count": 4,
   "metadata": {},
   "outputs": [],
   "source": [
    "from utils import read_parquet_dataset_from_local\n",
    "from dataset_preprocessing_utils import transform_transactions_to_sequences, create_padded_buckets"
   ]
  },
  {
   "cell_type": "code",
   "execution_count": 6,
   "metadata": {},
   "outputs": [],
   "source": [
    "import pickle\n",
    "\n",
    "with open('constants/buckets_info.pkl', 'rb') as f:\n",
    "    mapping_seq_len_to_padded_len = pickle.load(f)\n",
    "    \n",
    "with open('constants/dense_features_buckets.pkl', 'rb') as f:\n",
    "    dense_features_buckets = pickle.load(f)"
   ]
  },
  {
   "source": [
    "### Preprocessing"
   ],
   "cell_type": "markdown",
   "metadata": {}
  },
  {
   "source": [
    "* Функция `create_buckets_from_transactions` ниже реализует следующий набор действий:\n",
    "    * Читает `num_parts_to_preprocess_at_once` частей датасета в память\n",
    "    * Преобразует вещественные и численные признаки к категориальным (используя `np.digitize` и подготовленные бины)\n",
    "    * Формирует фрейм с транзакциями в виде последовательностей с помощью `transform_transactions_to_sequences`.\n",
    "    * Если указан `frame_with_ids`, то использует `app_id` из `frame_with_ids` - актуально, чтобы выделить валидационную выборку.\n",
    "    * Реализует технику `sequence_bucketing` и сохраняет словарь обработанных последовательностей в `.pkl` файл"
   ],
   "cell_type": "markdown",
   "metadata": {}
  },
  {
   "cell_type": "code",
   "execution_count": 8,
   "metadata": {},
   "outputs": [],
   "source": [
    "def create_buckets_from_transactions(path_to_dataset, save_to_path, frame_with_ids = None, \n",
    "                                     num_parts_to_preprocess_at_once: int = 1, \n",
    "                                     num_parts_total=50, has_target=False):\n",
    "    block = 0\n",
    "    for step in tqdm(range(0, num_parts_total, num_parts_to_preprocess_at_once), \n",
    "                                   desc=\"Transforming transactions data\"):\n",
    "        transactions_frame = read_parquet_dataset_from_local(path_to_dataset, step, num_parts_to_preprocess_at_once, \n",
    "                                                             verbose=True)\n",
    "        for dense_col in ['amnt', 'days_before', 'hour_diff']:\n",
    "            transactions_frame[dense_col] = np.digitize(transactions_frame[dense_col], bins=dense_features_buckets[dense_col])\n",
    "            \n",
    "        seq = transform_transactions_to_sequences(transactions_frame)\n",
    "        seq['sequence_length'] = seq.sequences.apply(lambda x: len(x[1]))\n",
    "        \n",
    "        if frame_with_ids is not None:\n",
    "            seq = seq.merge(frame_with_ids, on='app_id')\n",
    "\n",
    "        block_as_str = str(block)\n",
    "        if len(block_as_str) == 1:\n",
    "            block_as_str = '00' + block_as_str\n",
    "        else:\n",
    "            block_as_str = '0' + block_as_str\n",
    "            \n",
    "        processed_fragment =  create_padded_buckets(seq, mapping_seq_len_to_padded_len, has_target=has_target, \n",
    "                                                    save_to_file_path=os.path.join(save_to_path, \n",
    "                                                                                   f'processed_chunk_{block_as_str}.pkl'))\n",
    "        block += 1"
   ]
  },
  {
   "cell_type": "code",
   "execution_count": 9,
   "metadata": {},
   "outputs": [
    {
     "output_type": "execute_result",
     "data": {
      "text/plain": [
       "((867429, 3), (96382, 3))"
      ]
     },
     "metadata": {},
     "execution_count": 9
    }
   ],
   "source": [
    "train, val = train_test_split(target_frame, random_state=42, test_size=0.1)\n",
    "train.shape, val.shape"
   ]
  },
  {
   "cell_type": "code",
   "execution_count": 10,
   "metadata": {},
   "outputs": [],
   "source": [
    "! rm -r {PICKLE_VAL_BUCKET_PATH}\n",
    "! mkdir {PICKLE_VAL_BUCKET_PATH}"
   ]
  },
  {
   "source": [
    "#### Подготовим данные для обучения"
   ],
   "cell_type": "markdown",
   "metadata": {}
  },
  {
   "cell_type": "code",
   "execution_count": 11,
   "metadata": {},
   "outputs": [
    {
     "output_type": "stream",
     "name": "stderr",
     "text": [
      "Transforming transactions data:   0%|          | 0/10 [00:00<?, ?it/s]Reading chunks:\n",
      "\n",
      "/media/DATA/AlfaBattle/train_transactions_contest/part_000_0_to_23646.parquet\n",
      "/media/DATA/AlfaBattle/train_transactions_contest/part_001_23647_to_47415.parquet\n",
      "/media/DATA/AlfaBattle/train_transactions_contest/part_002_47416_to_70092.parquet\n",
      "/media/DATA/AlfaBattle/train_transactions_contest/part_003_70093_to_92989.parquet\n",
      "/media/DATA/AlfaBattle/train_transactions_contest/part_004_92990_to_115175.parquet\n",
      "Transforming transactions data:  10%|█         | 1/10 [00:36<05:25, 36.12s/it]Reading chunks:\n",
      "\n",
      "/media/DATA/AlfaBattle/train_transactions_contest/part_005_115176_to_138067.parquet\n",
      "/media/DATA/AlfaBattle/train_transactions_contest/part_006_138068_to_159724.parquet\n",
      "/media/DATA/AlfaBattle/train_transactions_contest/part_007_159725_to_180735.parquet\n",
      "/media/DATA/AlfaBattle/train_transactions_contest/part_008_180736_to_202834.parquet\n",
      "/media/DATA/AlfaBattle/train_transactions_contest/part_009_202835_to_224283.parquet\n",
      "Transforming transactions data:  20%|██        | 2/10 [01:11<04:46, 35.87s/it]Reading chunks:\n",
      "\n",
      "/media/DATA/AlfaBattle/train_transactions_contest/part_010_224284_to_245233.parquet\n",
      "/media/DATA/AlfaBattle/train_transactions_contest/part_011_245234_to_265281.parquet\n",
      "/media/DATA/AlfaBattle/train_transactions_contest/part_012_265282_to_285632.parquet\n",
      "/media/DATA/AlfaBattle/train_transactions_contest/part_013_285633_to_306877.parquet\n",
      "/media/DATA/AlfaBattle/train_transactions_contest/part_014_306878_to_329680.parquet\n",
      "Transforming transactions data:  30%|███       | 3/10 [01:49<04:16, 36.60s/it]Reading chunks:\n",
      "\n",
      "/media/DATA/AlfaBattle/train_transactions_contest/part_015_329681_to_350977.parquet\n",
      "/media/DATA/AlfaBattle/train_transactions_contest/part_016_350978_to_372076.parquet\n",
      "/media/DATA/AlfaBattle/train_transactions_contest/part_017_372077_to_392692.parquet\n",
      "/media/DATA/AlfaBattle/train_transactions_contest/part_018_392693_to_413981.parquet\n",
      "/media/DATA/AlfaBattle/train_transactions_contest/part_019_413982_to_434478.parquet\n",
      "Transforming transactions data:  40%|████      | 4/10 [02:24<03:35, 35.91s/it]Reading chunks:\n",
      "\n",
      "/media/DATA/AlfaBattle/train_transactions_contest/part_020_434479_to_455958.parquet\n",
      "/media/DATA/AlfaBattle/train_transactions_contest/part_021_455959_to_477221.parquet\n",
      "/media/DATA/AlfaBattle/train_transactions_contest/part_022_477222_to_496751.parquet\n",
      "/media/DATA/AlfaBattle/train_transactions_contest/part_023_496752_to_517332.parquet\n",
      "/media/DATA/AlfaBattle/train_transactions_contest/part_024_517333_to_537036.parquet\n",
      "Transforming transactions data:  50%|█████     | 5/10 [03:00<02:59, 35.92s/it]Reading chunks:\n",
      "\n",
      "/media/DATA/AlfaBattle/train_transactions_contest/part_025_537037_to_557423.parquet\n",
      "/media/DATA/AlfaBattle/train_transactions_contest/part_026_557424_to_576136.parquet\n",
      "/media/DATA/AlfaBattle/train_transactions_contest/part_027_576137_to_595745.parquet\n",
      "/media/DATA/AlfaBattle/train_transactions_contest/part_028_595746_to_615602.parquet\n",
      "/media/DATA/AlfaBattle/train_transactions_contest/part_029_615603_to_635004.parquet\n",
      "Transforming transactions data:  60%|██████    | 6/10 [03:36<02:23, 35.98s/it]Reading chunks:\n",
      "\n",
      "/media/DATA/AlfaBattle/train_transactions_contest/part_030_635005_to_654605.parquet\n",
      "/media/DATA/AlfaBattle/train_transactions_contest/part_031_654606_to_673656.parquet\n",
      "/media/DATA/AlfaBattle/train_transactions_contest/part_032_673657_to_696025.parquet\n",
      "/media/DATA/AlfaBattle/train_transactions_contest/part_033_696026_to_714545.parquet\n",
      "/media/DATA/AlfaBattle/train_transactions_contest/part_034_714546_to_733168.parquet\n",
      "Transforming transactions data:  70%|███████   | 7/10 [04:12<01:47, 35.95s/it]Reading chunks:\n",
      "\n",
      "/media/DATA/AlfaBattle/train_transactions_contest/part_035_733169_to_752514.parquet\n",
      "/media/DATA/AlfaBattle/train_transactions_contest/part_036_752515_to_770940.parquet\n",
      "/media/DATA/AlfaBattle/train_transactions_contest/part_037_770941_to_788380.parquet\n",
      "/media/DATA/AlfaBattle/train_transactions_contest/part_038_788381_to_805771.parquet\n",
      "/media/DATA/AlfaBattle/train_transactions_contest/part_039_805772_to_823299.parquet\n",
      "Transforming transactions data:  80%|████████  | 8/10 [04:45<01:10, 35.31s/it]Reading chunks:\n",
      "\n",
      "/media/DATA/AlfaBattle/train_transactions_contest/part_040_823300_to_841218.parquet\n",
      "/media/DATA/AlfaBattle/train_transactions_contest/part_041_841219_to_859270.parquet\n",
      "/media/DATA/AlfaBattle/train_transactions_contest/part_042_859271_to_878521.parquet\n",
      "/media/DATA/AlfaBattle/train_transactions_contest/part_043_878522_to_896669.parquet\n",
      "/media/DATA/AlfaBattle/train_transactions_contest/part_044_896670_to_916056.parquet\n",
      "Transforming transactions data:  90%|█████████ | 9/10 [05:21<00:35, 35.23s/it]Reading chunks:\n",
      "\n",
      "/media/DATA/AlfaBattle/train_transactions_contest/part_045_916057_to_935131.parquet\n",
      "/media/DATA/AlfaBattle/train_transactions_contest/part_046_935132_to_951695.parquet\n",
      "/media/DATA/AlfaBattle/train_transactions_contest/part_047_951696_to_970383.parquet\n",
      "/media/DATA/AlfaBattle/train_transactions_contest/part_048_970384_to_987313.parquet\n",
      "/media/DATA/AlfaBattle/train_transactions_contest/part_049_987314_to_1003050.parquet\n",
      "Transforming transactions data: 100%|██████████| 10/10 [05:55<00:00, 35.51s/it]\n"
     ]
    }
   ],
   "source": [
    "create_buckets_from_transactions(TRAIN_TRANSACTIONS_PATH, \n",
    "                                save_to_path=PICKLE_VAL_BUCKET_PATH,\n",
    "                                frame_with_ids=val, num_parts_to_preprocess_at_once=5, num_parts_total=50, has_target=True)"
   ]
  },
  {
   "cell_type": "code",
   "execution_count": 12,
   "metadata": {},
   "outputs": [
    {
     "output_type": "execute_result",
     "data": {
      "text/plain": [
       "['/media/DATA/AlfaBattle/val_buckets/processed_chunk_000.pkl',\n",
       " '/media/DATA/AlfaBattle/val_buckets/processed_chunk_001.pkl',\n",
       " '/media/DATA/AlfaBattle/val_buckets/processed_chunk_002.pkl',\n",
       " '/media/DATA/AlfaBattle/val_buckets/processed_chunk_003.pkl',\n",
       " '/media/DATA/AlfaBattle/val_buckets/processed_chunk_004.pkl',\n",
       " '/media/DATA/AlfaBattle/val_buckets/processed_chunk_005.pkl',\n",
       " '/media/DATA/AlfaBattle/val_buckets/processed_chunk_006.pkl',\n",
       " '/media/DATA/AlfaBattle/val_buckets/processed_chunk_007.pkl',\n",
       " '/media/DATA/AlfaBattle/val_buckets/processed_chunk_008.pkl',\n",
       " '/media/DATA/AlfaBattle/val_buckets/processed_chunk_009.pkl']"
      ]
     },
     "metadata": {},
     "execution_count": 12
    }
   ],
   "source": [
    "path_to_dataset = PICKLE_VAL_BUCKET_PATH\n",
    "dir_with_datasets = os.listdir(path_to_dataset)\n",
    "dataset_val = sorted([os.path.join(path_to_dataset, x) for x in dir_with_datasets])\n",
    "dataset_val"
   ]
  },
  {
   "cell_type": "code",
   "execution_count": 13,
   "metadata": {},
   "outputs": [],
   "source": [
    "! rm -r {PICKLE_VAL_TRAIN_BUCKET_PATH}\n",
    "! mkdir {PICKLE_VAL_TRAIN_BUCKET_PATH}"
   ]
  },
  {
   "cell_type": "code",
   "execution_count": 14,
   "metadata": {},
   "outputs": [
    {
     "output_type": "stream",
     "name": "stderr",
     "text": [
      "Transforming transactions data:   0%|          | 0/10 [00:00<?, ?it/s]Reading chunks:\n",
      "\n",
      "/media/DATA/AlfaBattle/train_transactions_contest/part_000_0_to_23646.parquet\n",
      "/media/DATA/AlfaBattle/train_transactions_contest/part_001_23647_to_47415.parquet\n",
      "/media/DATA/AlfaBattle/train_transactions_contest/part_002_47416_to_70092.parquet\n",
      "/media/DATA/AlfaBattle/train_transactions_contest/part_003_70093_to_92989.parquet\n",
      "/media/DATA/AlfaBattle/train_transactions_contest/part_004_92990_to_115175.parquet\n",
      "Transforming transactions data:  10%|█         | 1/10 [00:56<08:31, 56.80s/it]Reading chunks:\n",
      "\n",
      "/media/DATA/AlfaBattle/train_transactions_contest/part_005_115176_to_138067.parquet\n",
      "/media/DATA/AlfaBattle/train_transactions_contest/part_006_138068_to_159724.parquet\n",
      "/media/DATA/AlfaBattle/train_transactions_contest/part_007_159725_to_180735.parquet\n",
      "/media/DATA/AlfaBattle/train_transactions_contest/part_008_180736_to_202834.parquet\n",
      "/media/DATA/AlfaBattle/train_transactions_contest/part_009_202835_to_224283.parquet\n",
      "Transforming transactions data:  20%|██        | 2/10 [01:55<07:41, 57.64s/it]Reading chunks:\n",
      "\n",
      "/media/DATA/AlfaBattle/train_transactions_contest/part_010_224284_to_245233.parquet\n",
      "/media/DATA/AlfaBattle/train_transactions_contest/part_011_245234_to_265281.parquet\n",
      "/media/DATA/AlfaBattle/train_transactions_contest/part_012_265282_to_285632.parquet\n",
      "/media/DATA/AlfaBattle/train_transactions_contest/part_013_285633_to_306877.parquet\n",
      "/media/DATA/AlfaBattle/train_transactions_contest/part_014_306878_to_329680.parquet\n",
      "Transforming transactions data:  30%|███       | 3/10 [02:50<06:36, 56.65s/it]Reading chunks:\n",
      "\n",
      "/media/DATA/AlfaBattle/train_transactions_contest/part_015_329681_to_350977.parquet\n",
      "/media/DATA/AlfaBattle/train_transactions_contest/part_016_350978_to_372076.parquet\n",
      "/media/DATA/AlfaBattle/train_transactions_contest/part_017_372077_to_392692.parquet\n",
      "/media/DATA/AlfaBattle/train_transactions_contest/part_018_392693_to_413981.parquet\n",
      "/media/DATA/AlfaBattle/train_transactions_contest/part_019_413982_to_434478.parquet\n",
      "Transforming transactions data:  40%|████      | 4/10 [03:47<05:40, 56.75s/it]Reading chunks:\n",
      "\n",
      "/media/DATA/AlfaBattle/train_transactions_contest/part_020_434479_to_455958.parquet\n",
      "/media/DATA/AlfaBattle/train_transactions_contest/part_021_455959_to_477221.parquet\n",
      "/media/DATA/AlfaBattle/train_transactions_contest/part_022_477222_to_496751.parquet\n",
      "/media/DATA/AlfaBattle/train_transactions_contest/part_023_496752_to_517332.parquet\n",
      "/media/DATA/AlfaBattle/train_transactions_contest/part_024_517333_to_537036.parquet\n",
      "Transforming transactions data:  50%|█████     | 5/10 [04:44<04:44, 56.92s/it]Reading chunks:\n",
      "\n",
      "/media/DATA/AlfaBattle/train_transactions_contest/part_025_537037_to_557423.parquet\n",
      "/media/DATA/AlfaBattle/train_transactions_contest/part_026_557424_to_576136.parquet\n",
      "/media/DATA/AlfaBattle/train_transactions_contest/part_027_576137_to_595745.parquet\n",
      "/media/DATA/AlfaBattle/train_transactions_contest/part_028_595746_to_615602.parquet\n",
      "/media/DATA/AlfaBattle/train_transactions_contest/part_029_615603_to_635004.parquet\n",
      "Transforming transactions data:  60%|██████    | 6/10 [05:38<03:44, 56.04s/it]Reading chunks:\n",
      "\n",
      "/media/DATA/AlfaBattle/train_transactions_contest/part_030_635005_to_654605.parquet\n",
      "/media/DATA/AlfaBattle/train_transactions_contest/part_031_654606_to_673656.parquet\n",
      "/media/DATA/AlfaBattle/train_transactions_contest/part_032_673657_to_696025.parquet\n",
      "/media/DATA/AlfaBattle/train_transactions_contest/part_033_696026_to_714545.parquet\n",
      "/media/DATA/AlfaBattle/train_transactions_contest/part_034_714546_to_733168.parquet\n",
      "Transforming transactions data:  70%|███████   | 7/10 [06:34<02:47, 55.73s/it]Reading chunks:\n",
      "\n",
      "/media/DATA/AlfaBattle/train_transactions_contest/part_035_733169_to_752514.parquet\n",
      "/media/DATA/AlfaBattle/train_transactions_contest/part_036_752515_to_770940.parquet\n",
      "/media/DATA/AlfaBattle/train_transactions_contest/part_037_770941_to_788380.parquet\n",
      "/media/DATA/AlfaBattle/train_transactions_contest/part_038_788381_to_805771.parquet\n",
      "/media/DATA/AlfaBattle/train_transactions_contest/part_039_805772_to_823299.parquet\n",
      "Transforming transactions data:  80%|████████  | 8/10 [07:29<01:51, 55.74s/it]Reading chunks:\n",
      "\n",
      "/media/DATA/AlfaBattle/train_transactions_contest/part_040_823300_to_841218.parquet\n",
      "/media/DATA/AlfaBattle/train_transactions_contest/part_041_841219_to_859270.parquet\n",
      "/media/DATA/AlfaBattle/train_transactions_contest/part_042_859271_to_878521.parquet\n",
      "/media/DATA/AlfaBattle/train_transactions_contest/part_043_878522_to_896669.parquet\n",
      "/media/DATA/AlfaBattle/train_transactions_contest/part_044_896670_to_916056.parquet\n",
      "Transforming transactions data:  90%|█████████ | 9/10 [08:26<00:55, 55.96s/it]Reading chunks:\n",
      "\n",
      "/media/DATA/AlfaBattle/train_transactions_contest/part_045_916057_to_935131.parquet\n",
      "/media/DATA/AlfaBattle/train_transactions_contest/part_046_935132_to_951695.parquet\n",
      "/media/DATA/AlfaBattle/train_transactions_contest/part_047_951696_to_970383.parquet\n",
      "/media/DATA/AlfaBattle/train_transactions_contest/part_048_970384_to_987313.parquet\n",
      "/media/DATA/AlfaBattle/train_transactions_contest/part_049_987314_to_1003050.parquet\n",
      "Transforming transactions data: 100%|██████████| 10/10 [09:22<00:00, 56.29s/it]\n"
     ]
    }
   ],
   "source": [
    "create_buckets_from_transactions(TRAIN_TRANSACTIONS_PATH, \n",
    "                                save_to_path=PICKLE_VAL_TRAIN_BUCKET_PATH,\n",
    "                                frame_with_ids=train, num_parts_to_preprocess_at_once=5, num_parts_total=50, has_target=True)"
   ]
  },
  {
   "cell_type": "code",
   "execution_count": 15,
   "metadata": {},
   "outputs": [
    {
     "output_type": "execute_result",
     "data": {
      "text/plain": [
       "['/media/DATA/AlfaBattle/val_train_buckets/processed_chunk_000.pkl',\n",
       " '/media/DATA/AlfaBattle/val_train_buckets/processed_chunk_001.pkl',\n",
       " '/media/DATA/AlfaBattle/val_train_buckets/processed_chunk_002.pkl',\n",
       " '/media/DATA/AlfaBattle/val_train_buckets/processed_chunk_003.pkl',\n",
       " '/media/DATA/AlfaBattle/val_train_buckets/processed_chunk_004.pkl',\n",
       " '/media/DATA/AlfaBattle/val_train_buckets/processed_chunk_005.pkl',\n",
       " '/media/DATA/AlfaBattle/val_train_buckets/processed_chunk_006.pkl',\n",
       " '/media/DATA/AlfaBattle/val_train_buckets/processed_chunk_007.pkl',\n",
       " '/media/DATA/AlfaBattle/val_train_buckets/processed_chunk_008.pkl',\n",
       " '/media/DATA/AlfaBattle/val_train_buckets/processed_chunk_009.pkl']"
      ]
     },
     "metadata": {},
     "execution_count": 15
    }
   ],
   "source": [
    "path_to_dataset = PICKLE_VAL_TRAIN_BUCKET_PATH\n",
    "dir_with_datasets = os.listdir(path_to_dataset)\n",
    "dataset_train = sorted([os.path.join(path_to_dataset, x) for x in dir_with_datasets])\n",
    "dataset_train"
   ]
  },
  {
   "source": [
    "### Подготовка данных для предсказания"
   ],
   "cell_type": "markdown",
   "metadata": {}
  },
  {
   "cell_type": "code",
   "execution_count": 16,
   "metadata": {},
   "outputs": [
    {
     "output_type": "execute_result",
     "data": {
      "text/plain": [
       "    app_id  product\n",
       "0  1063620        0\n",
       "1  1063621        0\n",
       "2  1063622        1\n",
       "3  1063623        1\n",
       "4  1063624        2"
      ],
      "text/html": "<div>\n<style scoped>\n    .dataframe tbody tr th:only-of-type {\n        vertical-align: middle;\n    }\n\n    .dataframe tbody tr th {\n        vertical-align: top;\n    }\n\n    .dataframe thead th {\n        text-align: right;\n    }\n</style>\n<table border=\"1\" class=\"dataframe\">\n  <thead>\n    <tr style=\"text-align: right;\">\n      <th></th>\n      <th>app_id</th>\n      <th>product</th>\n    </tr>\n  </thead>\n  <tbody>\n    <tr>\n      <th>0</th>\n      <td>1063620</td>\n      <td>0</td>\n    </tr>\n    <tr>\n      <th>1</th>\n      <td>1063621</td>\n      <td>0</td>\n    </tr>\n    <tr>\n      <th>2</th>\n      <td>1063622</td>\n      <td>1</td>\n    </tr>\n    <tr>\n      <th>3</th>\n      <td>1063623</td>\n      <td>1</td>\n    </tr>\n    <tr>\n      <th>4</th>\n      <td>1063624</td>\n      <td>2</td>\n    </tr>\n  </tbody>\n</table>\n</div>"
     },
     "metadata": {},
     "execution_count": 16
    }
   ],
   "source": [
    "test_frame = pd.read_csv('/media/DATA/AlfaBattle/test_target_contest.csv')\n",
    "test_frame.head()"
   ]
  },
  {
   "cell_type": "code",
   "execution_count": 17,
   "metadata": {},
   "outputs": [
    {
     "output_type": "stream",
     "name": "stderr",
     "text": [
      "Transforming transactions data:   0%|          | 0/5 [00:00<?, ?it/s]Reading chunks:\n",
      "\n",
      "/media/DATA/AlfaBattle/test_transactions_contest/part_000_1063620_to_1074462.parquet\n",
      "/media/DATA/AlfaBattle/test_transactions_contest/part_001_1074463_to_1085303.parquet\n",
      "/media/DATA/AlfaBattle/test_transactions_contest/part_002_1085304_to_1095174.parquet\n",
      "/media/DATA/AlfaBattle/test_transactions_contest/part_003_1095175_to_1105002.parquet\n",
      "/media/DATA/AlfaBattle/test_transactions_contest/part_004_1105003_to_1116054.parquet\n",
      "/media/DATA/AlfaBattle/test_transactions_contest/part_005_1116055_to_1127527.parquet\n",
      "/media/DATA/AlfaBattle/test_transactions_contest/part_006_1127528_to_1137672.parquet\n",
      "/media/DATA/AlfaBattle/test_transactions_contest/part_007_1137673_to_1147504.parquet\n",
      "/media/DATA/AlfaBattle/test_transactions_contest/part_008_1147505_to_1157749.parquet\n",
      "/media/DATA/AlfaBattle/test_transactions_contest/part_009_1157750_to_1167980.parquet\n",
      "Transforming transactions data:  20%|██        | 1/5 [01:35<06:20, 95.19s/it]Reading chunks:\n",
      "\n",
      "/media/DATA/AlfaBattle/test_transactions_contest/part_010_1167981_to_1178851.parquet\n",
      "/media/DATA/AlfaBattle/test_transactions_contest/part_011_1178852_to_1190630.parquet\n",
      "/media/DATA/AlfaBattle/test_transactions_contest/part_012_1190631_to_1200939.parquet\n",
      "/media/DATA/AlfaBattle/test_transactions_contest/part_013_1200940_to_1211425.parquet\n",
      "/media/DATA/AlfaBattle/test_transactions_contest/part_014_1211426_to_1222122.parquet\n",
      "/media/DATA/AlfaBattle/test_transactions_contest/part_015_1222123_to_1232298.parquet\n",
      "/media/DATA/AlfaBattle/test_transactions_contest/part_016_1232299_to_1242388.parquet\n",
      "/media/DATA/AlfaBattle/test_transactions_contest/part_017_1242389_to_1252416.parquet\n",
      "/media/DATA/AlfaBattle/test_transactions_contest/part_018_1252417_to_1262614.parquet\n",
      "/media/DATA/AlfaBattle/test_transactions_contest/part_019_1262615_to_1273376.parquet\n",
      "Transforming transactions data:  40%|████      | 2/5 [03:13<04:51, 97.24s/it]Reading chunks:\n",
      "\n",
      "/media/DATA/AlfaBattle/test_transactions_contest/part_020_1273377_to_1283831.parquet\n",
      "/media/DATA/AlfaBattle/test_transactions_contest/part_021_1283832_to_1294494.parquet\n",
      "/media/DATA/AlfaBattle/test_transactions_contest/part_022_1294495_to_1304964.parquet\n",
      "/media/DATA/AlfaBattle/test_transactions_contest/part_023_1304965_to_1314698.parquet\n",
      "/media/DATA/AlfaBattle/test_transactions_contest/part_024_1314699_to_1324518.parquet\n",
      "/media/DATA/AlfaBattle/test_transactions_contest/part_025_1324519_to_1334901.parquet\n",
      "/media/DATA/AlfaBattle/test_transactions_contest/part_026_1334902_to_1345587.parquet\n",
      "/media/DATA/AlfaBattle/test_transactions_contest/part_027_1345588_to_1355874.parquet\n",
      "/media/DATA/AlfaBattle/test_transactions_contest/part_028_1355875_to_1366314.parquet\n",
      "/media/DATA/AlfaBattle/test_transactions_contest/part_029_1366315_to_1376991.parquet\n",
      "Transforming transactions data:  60%|██████    | 3/5 [04:48<03:12, 96.17s/it]Reading chunks:\n",
      "\n",
      "/media/DATA/AlfaBattle/test_transactions_contest/part_030_1376992_to_1386419.parquet\n",
      "/media/DATA/AlfaBattle/test_transactions_contest/part_031_1386420_to_1395884.parquet\n",
      "/media/DATA/AlfaBattle/test_transactions_contest/part_032_1395885_to_1405390.parquet\n",
      "/media/DATA/AlfaBattle/test_transactions_contest/part_033_1405391_to_1416489.parquet\n",
      "/media/DATA/AlfaBattle/test_transactions_contest/part_034_1416492_to_1426763.parquet\n",
      "/media/DATA/AlfaBattle/test_transactions_contest/part_035_1426764_to_1436400.parquet\n",
      "/media/DATA/AlfaBattle/test_transactions_contest/part_036_1436401_to_1448080.parquet\n",
      "/media/DATA/AlfaBattle/test_transactions_contest/part_037_1448081_to_1459730.parquet\n",
      "/media/DATA/AlfaBattle/test_transactions_contest/part_038_1459731_to_1470134.parquet\n",
      "/media/DATA/AlfaBattle/test_transactions_contest/part_039_1470135_to_1479802.parquet\n",
      "Transforming transactions data:  80%|████████  | 4/5 [06:25<01:36, 96.26s/it]Reading chunks:\n",
      "\n",
      "/media/DATA/AlfaBattle/test_transactions_contest/part_040_1479803_to_1489232.parquet\n",
      "/media/DATA/AlfaBattle/test_transactions_contest/part_041_1489233_to_1499712.parquet\n",
      "/media/DATA/AlfaBattle/test_transactions_contest/part_042_1499713_to_1510447.parquet\n",
      "/media/DATA/AlfaBattle/test_transactions_contest/part_043_1510448_to_1520793.parquet\n",
      "/media/DATA/AlfaBattle/test_transactions_contest/part_044_1520794_to_1531282.parquet\n",
      "/media/DATA/AlfaBattle/test_transactions_contest/part_045_1531283_to_1541445.parquet\n",
      "/media/DATA/AlfaBattle/test_transactions_contest/part_046_1541446_to_1551040.parquet\n",
      "/media/DATA/AlfaBattle/test_transactions_contest/part_047_1551041_to_1560328.parquet\n",
      "/media/DATA/AlfaBattle/test_transactions_contest/part_048_1560329_to_1570341.parquet\n",
      "/media/DATA/AlfaBattle/test_transactions_contest/part_049_1570342_to_1580442.parquet\n",
      "Transforming transactions data: 100%|██████████| 5/5 [07:59<00:00, 95.89s/it]\n"
     ]
    }
   ],
   "source": [
    "create_buckets_from_transactions(TEST_TRANSACTIONS_PATH, \n",
    "                                save_to_path=PICKLE_VAL_TEST_BUCKET_PATH, frame_with_ids=test_frame, \n",
    "                                 num_parts_to_preprocess_at_once=10, num_parts_total=50, has_target=False)"
   ]
  },
  {
   "cell_type": "code",
   "execution_count": null,
   "metadata": {},
   "outputs": [],
   "source": []
  }
 ]
}